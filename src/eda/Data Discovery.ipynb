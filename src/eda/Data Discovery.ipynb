{
 "cells": [
  {
   "cell_type": "markdown",
   "id": "04f28688-1855-4a08-b565-1d29e9f18fcd",
   "metadata": {
    "tags": []
   },
   "source": [
    "# Quality Prediction in a Mining Process\n",
    "\n",
    "The main goal is to use this data to predict how much impurity is in the ore concentrate. As this impurity is measured every hour, if we can predict how much silica (impurity) is in the ore concentrate, we can help the engineers, giving them early information to take actions (empowering!). Hence, they will be able to take corrective actions in advance (reduce impurity, if it is the case) and also help the environment (reducing the amount of ore that goes to tailings as you reduce silica in the ore concentrate)."
   ]
  },
  {
   "cell_type": "markdown",
   "id": "080efcad-7bb5-4ee9-8b56-a915b13ef154",
   "metadata": {},
   "source": [
    "## Loading the data from _Weight and Biases_ and importing python packages"
   ]
  },
  {
   "cell_type": "code",
   "execution_count": 389,
   "id": "cbf1d5a8-b676-4be9-918e-c8d0d8923146",
   "metadata": {
    "tags": []
   },
   "outputs": [
    {
     "name": "stdout",
     "output_type": "stream",
     "text": [
      "The autoreload extension is already loaded. To reload it, use:\n",
      "  %reload_ext autoreload\n"
     ]
    }
   ],
   "source": [
    "import wandb\n",
    "import pandas as pd\n",
    "import numpy as np\n",
    "\n",
    "import matplotlib.pyplot as plt\n",
    "import matplotlib.dates as mdates\n",
    "\n",
    "from copy import deepcopy\n",
    "\n",
    "%load_ext autoreload\n",
    "%autoreload 2"
   ]
  },
  {
   "cell_type": "code",
   "execution_count": 390,
   "id": "fd87bb60-d88c-40a5-a0d6-bd10b0c21a63",
   "metadata": {
    "tags": []
   },
   "outputs": [
    {
     "data": {
      "text/html": [
       "Finishing last run (ID:q67tk6ir) before initializing another..."
      ],
      "text/plain": [
       "<IPython.core.display.HTML object>"
      ]
     },
     "metadata": {},
     "output_type": "display_data"
    },
    {
     "data": {
      "text/html": [
       "Waiting for W&B process to finish... <strong style=\"color:green\">(success).</strong>"
      ],
      "text/plain": [
       "<IPython.core.display.HTML object>"
      ]
     },
     "metadata": {},
     "output_type": "display_data"
    },
    {
     "data": {
      "text/html": [
       " View run <strong style=\"color:#cdcd00\">decent-cosmos-17</strong> at: <a href=\"https://wandb.ai/grabe/ihm/runs/q67tk6ir\" target=\"_blank\">https://wandb.ai/grabe/ihm/runs/q67tk6ir</a><br/>Synced 7 W&B file(s), 0 media file(s), 0 artifact file(s) and 0 other file(s)"
      ],
      "text/plain": [
       "<IPython.core.display.HTML object>"
      ]
     },
     "metadata": {},
     "output_type": "display_data"
    },
    {
     "data": {
      "text/html": [
       "Find logs at: <code>./wandb/run-20230424_211504-q67tk6ir/logs</code>"
      ],
      "text/plain": [
       "<IPython.core.display.HTML object>"
      ]
     },
     "metadata": {},
     "output_type": "display_data"
    },
    {
     "data": {
      "text/html": [
       "Successfully finished last run (ID:q67tk6ir). Initializing new run:<br/>"
      ],
      "text/plain": [
       "<IPython.core.display.HTML object>"
      ]
     },
     "metadata": {},
     "output_type": "display_data"
    },
    {
     "data": {
      "text/html": [
       "wandb version 0.15.0 is available!  To upgrade, please run:\n",
       " $ pip install wandb --upgrade"
      ],
      "text/plain": [
       "<IPython.core.display.HTML object>"
      ]
     },
     "metadata": {},
     "output_type": "display_data"
    },
    {
     "data": {
      "text/html": [
       "Tracking run with wandb version 0.13.9"
      ],
      "text/plain": [
       "<IPython.core.display.HTML object>"
      ]
     },
     "metadata": {},
     "output_type": "display_data"
    },
    {
     "data": {
      "text/html": [
       "Run data is saved locally in <code>/home/grabe/Documents/ihm/flotation-plant-analysis/src/eda/wandb/run-20230424_213338-zj0dkek6</code>"
      ],
      "text/plain": [
       "<IPython.core.display.HTML object>"
      ]
     },
     "metadata": {},
     "output_type": "display_data"
    },
    {
     "data": {
      "text/html": [
       "Syncing run <strong><a href=\"https://wandb.ai/grabe/ihm/runs/zj0dkek6\" target=\"_blank\">true-puddle-22</a></strong> to <a href=\"https://wandb.ai/grabe/ihm\" target=\"_blank\">Weights & Biases</a> (<a href=\"https://wandb.me/run\" target=\"_blank\">docs</a>)<br/>"
      ],
      "text/plain": [
       "<IPython.core.display.HTML object>"
      ]
     },
     "metadata": {},
     "output_type": "display_data"
    },
    {
     "data": {
      "text/html": [
       " View project at <a href=\"https://wandb.ai/grabe/ihm\" target=\"_blank\">https://wandb.ai/grabe/ihm</a>"
      ],
      "text/plain": [
       "<IPython.core.display.HTML object>"
      ]
     },
     "metadata": {},
     "output_type": "display_data"
    },
    {
     "data": {
      "text/html": [
       " View run at <a href=\"https://wandb.ai/grabe/ihm/runs/zj0dkek6\" target=\"_blank\">https://wandb.ai/grabe/ihm/runs/zj0dkek6</a>"
      ],
      "text/plain": [
       "<IPython.core.display.HTML object>"
      ]
     },
     "metadata": {},
     "output_type": "display_data"
    }
   ],
   "source": [
    "run = wandb.init(project=\"ihm\", group=\"eda\", save_code=True)\n",
    "local_path = wandb.use_artifact(\"MiningProcess_Flotation_Plant_Database.csv:latest\").file()\n",
    "df = pd.read_csv(local_path, decimal=\",\",parse_dates=[\"date\"], index_col=\"date\")"
   ]
  },
  {
   "cell_type": "code",
   "execution_count": 391,
   "id": "1d829601",
   "metadata": {
    "tags": []
   },
   "outputs": [
    {
     "name": "stdout",
     "output_type": "stream",
     "text": [
      "<class 'pandas.core.frame.DataFrame'>\n",
      "DatetimeIndex: 737453 entries, 2017-03-10 01:00:00 to 2017-09-09 23:00:00\n",
      "Data columns (total 23 columns):\n",
      " #   Column                        Non-Null Count   Dtype  \n",
      "---  ------                        --------------   -----  \n",
      " 0   % Iron Feed                   737453 non-null  float64\n",
      " 1   % Silica Feed                 737453 non-null  float64\n",
      " 2   Starch Flow                   737453 non-null  float64\n",
      " 3   Amina Flow                    737453 non-null  float64\n",
      " 4   Ore Pulp Flow                 737453 non-null  float64\n",
      " 5   Ore Pulp pH                   737453 non-null  float64\n",
      " 6   Ore Pulp Density              737453 non-null  float64\n",
      " 7   Flotation Column 01 Air Flow  737453 non-null  float64\n",
      " 8   Flotation Column 02 Air Flow  737453 non-null  float64\n",
      " 9   Flotation Column 03 Air Flow  737453 non-null  float64\n",
      " 10  Flotation Column 04 Air Flow  737453 non-null  float64\n",
      " 11  Flotation Column 05 Air Flow  737453 non-null  float64\n",
      " 12  Flotation Column 06 Air Flow  737453 non-null  float64\n",
      " 13  Flotation Column 07 Air Flow  737453 non-null  float64\n",
      " 14  Flotation Column 01 Level     737453 non-null  float64\n",
      " 15  Flotation Column 02 Level     737453 non-null  float64\n",
      " 16  Flotation Column 03 Level     737453 non-null  float64\n",
      " 17  Flotation Column 04 Level     737453 non-null  float64\n",
      " 18  Flotation Column 05 Level     737453 non-null  float64\n",
      " 19  Flotation Column 06 Level     737453 non-null  float64\n",
      " 20  Flotation Column 07 Level     737453 non-null  float64\n",
      " 21  % Iron Concentrate            737453 non-null  float64\n",
      " 22  % Silica Concentrate          737453 non-null  float64\n",
      "dtypes: float64(23)\n",
      "memory usage: 135.0 MB\n"
     ]
    }
   ],
   "source": [
    "df.info()"
   ]
  },
  {
   "cell_type": "code",
   "execution_count": 392,
   "id": "8b620099",
   "metadata": {
    "tags": []
   },
   "outputs": [
    {
     "data": {
      "text/html": [
       "<div>\n",
       "<style scoped>\n",
       "    .dataframe tbody tr th:only-of-type {\n",
       "        vertical-align: middle;\n",
       "    }\n",
       "\n",
       "    .dataframe tbody tr th {\n",
       "        vertical-align: top;\n",
       "    }\n",
       "\n",
       "    .dataframe thead th {\n",
       "        text-align: right;\n",
       "    }\n",
       "</style>\n",
       "<table border=\"1\" class=\"dataframe\">\n",
       "  <thead>\n",
       "    <tr style=\"text-align: right;\">\n",
       "      <th></th>\n",
       "      <th>% Iron Feed</th>\n",
       "      <th>% Silica Feed</th>\n",
       "      <th>Starch Flow</th>\n",
       "      <th>Amina Flow</th>\n",
       "      <th>Ore Pulp Flow</th>\n",
       "      <th>Ore Pulp pH</th>\n",
       "      <th>Ore Pulp Density</th>\n",
       "      <th>Flotation Column 01 Air Flow</th>\n",
       "      <th>Flotation Column 02 Air Flow</th>\n",
       "      <th>Flotation Column 03 Air Flow</th>\n",
       "      <th>...</th>\n",
       "      <th>Flotation Column 07 Air Flow</th>\n",
       "      <th>Flotation Column 01 Level</th>\n",
       "      <th>Flotation Column 02 Level</th>\n",
       "      <th>Flotation Column 03 Level</th>\n",
       "      <th>Flotation Column 04 Level</th>\n",
       "      <th>Flotation Column 05 Level</th>\n",
       "      <th>Flotation Column 06 Level</th>\n",
       "      <th>Flotation Column 07 Level</th>\n",
       "      <th>% Iron Concentrate</th>\n",
       "      <th>% Silica Concentrate</th>\n",
       "    </tr>\n",
       "    <tr>\n",
       "      <th>date</th>\n",
       "      <th></th>\n",
       "      <th></th>\n",
       "      <th></th>\n",
       "      <th></th>\n",
       "      <th></th>\n",
       "      <th></th>\n",
       "      <th></th>\n",
       "      <th></th>\n",
       "      <th></th>\n",
       "      <th></th>\n",
       "      <th></th>\n",
       "      <th></th>\n",
       "      <th></th>\n",
       "      <th></th>\n",
       "      <th></th>\n",
       "      <th></th>\n",
       "      <th></th>\n",
       "      <th></th>\n",
       "      <th></th>\n",
       "      <th></th>\n",
       "      <th></th>\n",
       "    </tr>\n",
       "  </thead>\n",
       "  <tbody>\n",
       "    <tr>\n",
       "      <th>2017-03-10 01:00:00</th>\n",
       "      <td>55.2</td>\n",
       "      <td>16.98</td>\n",
       "      <td>3019.53</td>\n",
       "      <td>557.434</td>\n",
       "      <td>395.713</td>\n",
       "      <td>10.0664</td>\n",
       "      <td>1.74</td>\n",
       "      <td>249.214</td>\n",
       "      <td>253.235</td>\n",
       "      <td>250.576</td>\n",
       "      <td>...</td>\n",
       "      <td>250.884</td>\n",
       "      <td>457.396</td>\n",
       "      <td>432.962</td>\n",
       "      <td>424.954</td>\n",
       "      <td>443.558</td>\n",
       "      <td>502.255</td>\n",
       "      <td>446.370</td>\n",
       "      <td>523.344</td>\n",
       "      <td>66.91</td>\n",
       "      <td>1.31</td>\n",
       "    </tr>\n",
       "    <tr>\n",
       "      <th>2017-03-10 01:00:00</th>\n",
       "      <td>55.2</td>\n",
       "      <td>16.98</td>\n",
       "      <td>3024.41</td>\n",
       "      <td>563.965</td>\n",
       "      <td>397.383</td>\n",
       "      <td>10.0672</td>\n",
       "      <td>1.74</td>\n",
       "      <td>249.719</td>\n",
       "      <td>250.532</td>\n",
       "      <td>250.862</td>\n",
       "      <td>...</td>\n",
       "      <td>248.994</td>\n",
       "      <td>451.891</td>\n",
       "      <td>429.560</td>\n",
       "      <td>432.939</td>\n",
       "      <td>448.086</td>\n",
       "      <td>496.363</td>\n",
       "      <td>445.922</td>\n",
       "      <td>498.075</td>\n",
       "      <td>66.91</td>\n",
       "      <td>1.31</td>\n",
       "    </tr>\n",
       "    <tr>\n",
       "      <th>2017-03-10 01:00:00</th>\n",
       "      <td>55.2</td>\n",
       "      <td>16.98</td>\n",
       "      <td>3043.46</td>\n",
       "      <td>568.054</td>\n",
       "      <td>399.668</td>\n",
       "      <td>10.0680</td>\n",
       "      <td>1.74</td>\n",
       "      <td>249.741</td>\n",
       "      <td>247.874</td>\n",
       "      <td>250.313</td>\n",
       "      <td>...</td>\n",
       "      <td>248.071</td>\n",
       "      <td>451.240</td>\n",
       "      <td>468.927</td>\n",
       "      <td>434.610</td>\n",
       "      <td>449.688</td>\n",
       "      <td>484.411</td>\n",
       "      <td>447.826</td>\n",
       "      <td>458.567</td>\n",
       "      <td>66.91</td>\n",
       "      <td>1.31</td>\n",
       "    </tr>\n",
       "    <tr>\n",
       "      <th>2017-03-10 01:00:00</th>\n",
       "      <td>55.2</td>\n",
       "      <td>16.98</td>\n",
       "      <td>3047.36</td>\n",
       "      <td>568.665</td>\n",
       "      <td>397.939</td>\n",
       "      <td>10.0689</td>\n",
       "      <td>1.74</td>\n",
       "      <td>249.917</td>\n",
       "      <td>254.487</td>\n",
       "      <td>250.049</td>\n",
       "      <td>...</td>\n",
       "      <td>251.147</td>\n",
       "      <td>452.441</td>\n",
       "      <td>458.165</td>\n",
       "      <td>442.865</td>\n",
       "      <td>446.210</td>\n",
       "      <td>471.411</td>\n",
       "      <td>437.690</td>\n",
       "      <td>427.669</td>\n",
       "      <td>66.91</td>\n",
       "      <td>1.31</td>\n",
       "    </tr>\n",
       "    <tr>\n",
       "      <th>2017-03-10 01:00:00</th>\n",
       "      <td>55.2</td>\n",
       "      <td>16.98</td>\n",
       "      <td>3033.69</td>\n",
       "      <td>558.167</td>\n",
       "      <td>400.254</td>\n",
       "      <td>10.0697</td>\n",
       "      <td>1.74</td>\n",
       "      <td>250.203</td>\n",
       "      <td>252.136</td>\n",
       "      <td>249.895</td>\n",
       "      <td>...</td>\n",
       "      <td>248.928</td>\n",
       "      <td>452.441</td>\n",
       "      <td>452.900</td>\n",
       "      <td>450.523</td>\n",
       "      <td>453.670</td>\n",
       "      <td>462.598</td>\n",
       "      <td>443.682</td>\n",
       "      <td>425.679</td>\n",
       "      <td>66.91</td>\n",
       "      <td>1.31</td>\n",
       "    </tr>\n",
       "  </tbody>\n",
       "</table>\n",
       "<p>5 rows × 23 columns</p>\n",
       "</div>"
      ],
      "text/plain": [
       "                     % Iron Feed  % Silica Feed  Starch Flow  Amina Flow   \n",
       "date                                                                       \n",
       "2017-03-10 01:00:00         55.2          16.98      3019.53     557.434  \\\n",
       "2017-03-10 01:00:00         55.2          16.98      3024.41     563.965   \n",
       "2017-03-10 01:00:00         55.2          16.98      3043.46     568.054   \n",
       "2017-03-10 01:00:00         55.2          16.98      3047.36     568.665   \n",
       "2017-03-10 01:00:00         55.2          16.98      3033.69     558.167   \n",
       "\n",
       "                     Ore Pulp Flow  Ore Pulp pH  Ore Pulp Density   \n",
       "date                                                                \n",
       "2017-03-10 01:00:00        395.713      10.0664              1.74  \\\n",
       "2017-03-10 01:00:00        397.383      10.0672              1.74   \n",
       "2017-03-10 01:00:00        399.668      10.0680              1.74   \n",
       "2017-03-10 01:00:00        397.939      10.0689              1.74   \n",
       "2017-03-10 01:00:00        400.254      10.0697              1.74   \n",
       "\n",
       "                     Flotation Column 01 Air Flow   \n",
       "date                                                \n",
       "2017-03-10 01:00:00                       249.214  \\\n",
       "2017-03-10 01:00:00                       249.719   \n",
       "2017-03-10 01:00:00                       249.741   \n",
       "2017-03-10 01:00:00                       249.917   \n",
       "2017-03-10 01:00:00                       250.203   \n",
       "\n",
       "                     Flotation Column 02 Air Flow   \n",
       "date                                                \n",
       "2017-03-10 01:00:00                       253.235  \\\n",
       "2017-03-10 01:00:00                       250.532   \n",
       "2017-03-10 01:00:00                       247.874   \n",
       "2017-03-10 01:00:00                       254.487   \n",
       "2017-03-10 01:00:00                       252.136   \n",
       "\n",
       "                     Flotation Column 03 Air Flow  ...   \n",
       "date                                               ...   \n",
       "2017-03-10 01:00:00                       250.576  ...  \\\n",
       "2017-03-10 01:00:00                       250.862  ...   \n",
       "2017-03-10 01:00:00                       250.313  ...   \n",
       "2017-03-10 01:00:00                       250.049  ...   \n",
       "2017-03-10 01:00:00                       249.895  ...   \n",
       "\n",
       "                     Flotation Column 07 Air Flow  Flotation Column 01 Level   \n",
       "date                                                                           \n",
       "2017-03-10 01:00:00                       250.884                    457.396  \\\n",
       "2017-03-10 01:00:00                       248.994                    451.891   \n",
       "2017-03-10 01:00:00                       248.071                    451.240   \n",
       "2017-03-10 01:00:00                       251.147                    452.441   \n",
       "2017-03-10 01:00:00                       248.928                    452.441   \n",
       "\n",
       "                     Flotation Column 02 Level  Flotation Column 03 Level   \n",
       "date                                                                        \n",
       "2017-03-10 01:00:00                    432.962                    424.954  \\\n",
       "2017-03-10 01:00:00                    429.560                    432.939   \n",
       "2017-03-10 01:00:00                    468.927                    434.610   \n",
       "2017-03-10 01:00:00                    458.165                    442.865   \n",
       "2017-03-10 01:00:00                    452.900                    450.523   \n",
       "\n",
       "                     Flotation Column 04 Level  Flotation Column 05 Level   \n",
       "date                                                                        \n",
       "2017-03-10 01:00:00                    443.558                    502.255  \\\n",
       "2017-03-10 01:00:00                    448.086                    496.363   \n",
       "2017-03-10 01:00:00                    449.688                    484.411   \n",
       "2017-03-10 01:00:00                    446.210                    471.411   \n",
       "2017-03-10 01:00:00                    453.670                    462.598   \n",
       "\n",
       "                     Flotation Column 06 Level  Flotation Column 07 Level   \n",
       "date                                                                        \n",
       "2017-03-10 01:00:00                    446.370                    523.344  \\\n",
       "2017-03-10 01:00:00                    445.922                    498.075   \n",
       "2017-03-10 01:00:00                    447.826                    458.567   \n",
       "2017-03-10 01:00:00                    437.690                    427.669   \n",
       "2017-03-10 01:00:00                    443.682                    425.679   \n",
       "\n",
       "                     % Iron Concentrate  % Silica Concentrate  \n",
       "date                                                           \n",
       "2017-03-10 01:00:00               66.91                  1.31  \n",
       "2017-03-10 01:00:00               66.91                  1.31  \n",
       "2017-03-10 01:00:00               66.91                  1.31  \n",
       "2017-03-10 01:00:00               66.91                  1.31  \n",
       "2017-03-10 01:00:00               66.91                  1.31  \n",
       "\n",
       "[5 rows x 23 columns]"
      ]
     },
     "execution_count": 392,
     "metadata": {},
     "output_type": "execute_result"
    }
   ],
   "source": [
    "df.head()"
   ]
  },
  {
   "cell_type": "code",
   "execution_count": 393,
   "id": "25bcb9c8-863c-4569-acd4-11f4a32d16f7",
   "metadata": {
    "tags": []
   },
   "outputs": [],
   "source": [
    "dataset = deepcopy(df)"
   ]
  },
  {
   "cell_type": "code",
   "execution_count": 394,
   "id": "427e3f8e-0fa0-4e5f-9df0-2630f6c0a0a8",
   "metadata": {
    "tags": []
   },
   "outputs": [],
   "source": [
    "# df = deepcopy(dataset)"
   ]
  },
  {
   "cell_type": "markdown",
   "id": "d14d61ad-ef38-4565-b482-5919f4b3b17b",
   "metadata": {},
   "source": [
    "## Exploring the data\n",
    "\n",
    "The following cells in this notebook aims to explore the data to find issues, not insights."
   ]
  },
  {
   "cell_type": "code",
   "execution_count": 395,
   "id": "3a99c35c",
   "metadata": {
    "tags": []
   },
   "outputs": [
    {
     "data": {
      "text/html": [
       "<div>\n",
       "<style scoped>\n",
       "    .dataframe tbody tr th:only-of-type {\n",
       "        vertical-align: middle;\n",
       "    }\n",
       "\n",
       "    .dataframe tbody tr th {\n",
       "        vertical-align: top;\n",
       "    }\n",
       "\n",
       "    .dataframe thead th {\n",
       "        text-align: right;\n",
       "    }\n",
       "</style>\n",
       "<table border=\"1\" class=\"dataframe\">\n",
       "  <thead>\n",
       "    <tr style=\"text-align: right;\">\n",
       "      <th></th>\n",
       "      <th>Total Missing</th>\n",
       "      <th>Missing Percent</th>\n",
       "    </tr>\n",
       "  </thead>\n",
       "  <tbody>\n",
       "    <tr>\n",
       "      <th>% Iron Feed</th>\n",
       "      <td>0</td>\n",
       "      <td>0.0</td>\n",
       "    </tr>\n",
       "    <tr>\n",
       "      <th>% Silica Feed</th>\n",
       "      <td>0</td>\n",
       "      <td>0.0</td>\n",
       "    </tr>\n",
       "    <tr>\n",
       "      <th>Starch Flow</th>\n",
       "      <td>0</td>\n",
       "      <td>0.0</td>\n",
       "    </tr>\n",
       "    <tr>\n",
       "      <th>Amina Flow</th>\n",
       "      <td>0</td>\n",
       "      <td>0.0</td>\n",
       "    </tr>\n",
       "    <tr>\n",
       "      <th>Ore Pulp Flow</th>\n",
       "      <td>0</td>\n",
       "      <td>0.0</td>\n",
       "    </tr>\n",
       "    <tr>\n",
       "      <th>Ore Pulp pH</th>\n",
       "      <td>0</td>\n",
       "      <td>0.0</td>\n",
       "    </tr>\n",
       "    <tr>\n",
       "      <th>Ore Pulp Density</th>\n",
       "      <td>0</td>\n",
       "      <td>0.0</td>\n",
       "    </tr>\n",
       "    <tr>\n",
       "      <th>Flotation Column 01 Air Flow</th>\n",
       "      <td>0</td>\n",
       "      <td>0.0</td>\n",
       "    </tr>\n",
       "    <tr>\n",
       "      <th>Flotation Column 02 Air Flow</th>\n",
       "      <td>0</td>\n",
       "      <td>0.0</td>\n",
       "    </tr>\n",
       "    <tr>\n",
       "      <th>Flotation Column 03 Air Flow</th>\n",
       "      <td>0</td>\n",
       "      <td>0.0</td>\n",
       "    </tr>\n",
       "    <tr>\n",
       "      <th>Flotation Column 04 Air Flow</th>\n",
       "      <td>0</td>\n",
       "      <td>0.0</td>\n",
       "    </tr>\n",
       "    <tr>\n",
       "      <th>Flotation Column 05 Air Flow</th>\n",
       "      <td>0</td>\n",
       "      <td>0.0</td>\n",
       "    </tr>\n",
       "    <tr>\n",
       "      <th>Flotation Column 06 Air Flow</th>\n",
       "      <td>0</td>\n",
       "      <td>0.0</td>\n",
       "    </tr>\n",
       "    <tr>\n",
       "      <th>Flotation Column 07 Air Flow</th>\n",
       "      <td>0</td>\n",
       "      <td>0.0</td>\n",
       "    </tr>\n",
       "    <tr>\n",
       "      <th>Flotation Column 01 Level</th>\n",
       "      <td>0</td>\n",
       "      <td>0.0</td>\n",
       "    </tr>\n",
       "    <tr>\n",
       "      <th>Flotation Column 02 Level</th>\n",
       "      <td>0</td>\n",
       "      <td>0.0</td>\n",
       "    </tr>\n",
       "    <tr>\n",
       "      <th>Flotation Column 03 Level</th>\n",
       "      <td>0</td>\n",
       "      <td>0.0</td>\n",
       "    </tr>\n",
       "    <tr>\n",
       "      <th>Flotation Column 04 Level</th>\n",
       "      <td>0</td>\n",
       "      <td>0.0</td>\n",
       "    </tr>\n",
       "    <tr>\n",
       "      <th>Flotation Column 05 Level</th>\n",
       "      <td>0</td>\n",
       "      <td>0.0</td>\n",
       "    </tr>\n",
       "    <tr>\n",
       "      <th>Flotation Column 06 Level</th>\n",
       "      <td>0</td>\n",
       "      <td>0.0</td>\n",
       "    </tr>\n",
       "    <tr>\n",
       "      <th>Flotation Column 07 Level</th>\n",
       "      <td>0</td>\n",
       "      <td>0.0</td>\n",
       "    </tr>\n",
       "    <tr>\n",
       "      <th>% Iron Concentrate</th>\n",
       "      <td>0</td>\n",
       "      <td>0.0</td>\n",
       "    </tr>\n",
       "    <tr>\n",
       "      <th>% Silica Concentrate</th>\n",
       "      <td>0</td>\n",
       "      <td>0.0</td>\n",
       "    </tr>\n",
       "  </tbody>\n",
       "</table>\n",
       "</div>"
      ],
      "text/plain": [
       "                              Total Missing  Missing Percent\n",
       "% Iron Feed                               0              0.0\n",
       "% Silica Feed                             0              0.0\n",
       "Starch Flow                               0              0.0\n",
       "Amina Flow                                0              0.0\n",
       "Ore Pulp Flow                             0              0.0\n",
       "Ore Pulp pH                               0              0.0\n",
       "Ore Pulp Density                          0              0.0\n",
       "Flotation Column 01 Air Flow              0              0.0\n",
       "Flotation Column 02 Air Flow              0              0.0\n",
       "Flotation Column 03 Air Flow              0              0.0\n",
       "Flotation Column 04 Air Flow              0              0.0\n",
       "Flotation Column 05 Air Flow              0              0.0\n",
       "Flotation Column 06 Air Flow              0              0.0\n",
       "Flotation Column 07 Air Flow              0              0.0\n",
       "Flotation Column 01 Level                 0              0.0\n",
       "Flotation Column 02 Level                 0              0.0\n",
       "Flotation Column 03 Level                 0              0.0\n",
       "Flotation Column 04 Level                 0              0.0\n",
       "Flotation Column 05 Level                 0              0.0\n",
       "Flotation Column 06 Level                 0              0.0\n",
       "Flotation Column 07 Level                 0              0.0\n",
       "% Iron Concentrate                        0              0.0\n",
       "% Silica Concentrate                      0              0.0"
      ]
     },
     "execution_count": 395,
     "metadata": {},
     "output_type": "execute_result"
    }
   ],
   "source": [
    "total_missing = df.isnull().sum()\n",
    "missing_percent = (df.isnull().sum()/df.isnull().count())\n",
    "data_missing = pd.concat([total_missing, missing_percent], axis=1, keys=['Total Missing', 'Missing Percent'])\n",
    "data_missing"
   ]
  },
  {
   "cell_type": "markdown",
   "id": "2f317d5d-0231-4be5-9aa0-b67ec44f63e1",
   "metadata": {
    "tags": []
   },
   "source": [
    "Assuming that the dataset might have some issue in the index (temporal discontinuity), we may check if the index is consistent:"
   ]
  },
  {
   "cell_type": "code",
   "execution_count": 396,
   "id": "32a4a780-a4d4-464c-8890-1f514d4704db",
   "metadata": {
    "tags": []
   },
   "outputs": [
    {
     "data": {
      "text/plain": [
       "DatetimeIndex(['2017-03-16 06:00:00', '2017-03-16 07:00:00',\n",
       "               '2017-03-16 08:00:00', '2017-03-16 09:00:00',\n",
       "               '2017-03-16 10:00:00', '2017-03-16 11:00:00',\n",
       "               '2017-03-16 12:00:00', '2017-03-16 13:00:00',\n",
       "               '2017-03-16 14:00:00', '2017-03-16 15:00:00',\n",
       "               ...\n",
       "               '2017-03-29 02:00:00', '2017-03-29 03:00:00',\n",
       "               '2017-03-29 04:00:00', '2017-03-29 05:00:00',\n",
       "               '2017-03-29 06:00:00', '2017-03-29 07:00:00',\n",
       "               '2017-03-29 08:00:00', '2017-03-29 09:00:00',\n",
       "               '2017-03-29 10:00:00', '2017-03-29 11:00:00'],\n",
       "              dtype='datetime64[ns]', length=318, freq='H')"
      ]
     },
     "execution_count": 396,
     "metadata": {},
     "output_type": "execute_result"
    }
   ],
   "source": [
    "hourly_indexes = pd.date_range(start=pd.to_datetime(df.index.min()), end=pd.to_datetime(df.index.max()), freq='H')\n",
    "mask = hourly_indexes.isin(df.index.values)\n",
    "issued_time = hourly_indexes[~mask]\n",
    "issued_time"
   ]
  },
  {
   "cell_type": "code",
   "execution_count": 397,
   "id": "dafce941-9f4c-4c6f-97f0-429be75418b2",
   "metadata": {
    "tags": []
   },
   "outputs": [
    {
     "name": "stdout",
     "output_type": "stream",
     "text": [
      "If we remove the index with issue, we lose 0.04 % of data, which is irrelevant. Therefore, we will only consider dates after 2017-03-29 11:00:00\n"
     ]
    }
   ],
   "source": [
    "lost_issued_time = 100 - (len(issued_time) / len(df) * 1e2)\n",
    "print(f'If we remove the index with issue, we lose {100-lost_issued_time:.2f} % of data, which is irrelevant. Therefore, we will only consider dates after {issued_time.max()}')"
   ]
  },
  {
   "cell_type": "code",
   "execution_count": 398,
   "id": "45815a12-641f-4ce8-8d05-8434748d05c5",
   "metadata": {
    "tags": []
   },
   "outputs": [
    {
     "data": {
      "text/html": [
       "<div>\n",
       "<style scoped>\n",
       "    .dataframe tbody tr th:only-of-type {\n",
       "        vertical-align: middle;\n",
       "    }\n",
       "\n",
       "    .dataframe tbody tr th {\n",
       "        vertical-align: top;\n",
       "    }\n",
       "\n",
       "    .dataframe thead th {\n",
       "        text-align: right;\n",
       "    }\n",
       "</style>\n",
       "<table border=\"1\" class=\"dataframe\">\n",
       "  <thead>\n",
       "    <tr style=\"text-align: right;\">\n",
       "      <th></th>\n",
       "      <th>% Iron Feed</th>\n",
       "      <th>% Silica Feed</th>\n",
       "      <th>Starch Flow</th>\n",
       "      <th>Amina Flow</th>\n",
       "      <th>Ore Pulp Flow</th>\n",
       "      <th>Ore Pulp pH</th>\n",
       "      <th>Ore Pulp Density</th>\n",
       "      <th>Flotation Column 01 Air Flow</th>\n",
       "      <th>Flotation Column 02 Air Flow</th>\n",
       "      <th>Flotation Column 03 Air Flow</th>\n",
       "      <th>...</th>\n",
       "      <th>Flotation Column 07 Air Flow</th>\n",
       "      <th>Flotation Column 01 Level</th>\n",
       "      <th>Flotation Column 02 Level</th>\n",
       "      <th>Flotation Column 03 Level</th>\n",
       "      <th>Flotation Column 04 Level</th>\n",
       "      <th>Flotation Column 05 Level</th>\n",
       "      <th>Flotation Column 06 Level</th>\n",
       "      <th>Flotation Column 07 Level</th>\n",
       "      <th>% Iron Concentrate</th>\n",
       "      <th>% Silica Concentrate</th>\n",
       "    </tr>\n",
       "    <tr>\n",
       "      <th>date</th>\n",
       "      <th></th>\n",
       "      <th></th>\n",
       "      <th></th>\n",
       "      <th></th>\n",
       "      <th></th>\n",
       "      <th></th>\n",
       "      <th></th>\n",
       "      <th></th>\n",
       "      <th></th>\n",
       "      <th></th>\n",
       "      <th></th>\n",
       "      <th></th>\n",
       "      <th></th>\n",
       "      <th></th>\n",
       "      <th></th>\n",
       "      <th></th>\n",
       "      <th></th>\n",
       "      <th></th>\n",
       "      <th></th>\n",
       "      <th></th>\n",
       "      <th></th>\n",
       "    </tr>\n",
       "  </thead>\n",
       "  <tbody>\n",
       "    <tr>\n",
       "      <th>2017-04-01</th>\n",
       "      <td>59.72</td>\n",
       "      <td>9.22</td>\n",
       "      <td>2195.31</td>\n",
       "      <td>523.283</td>\n",
       "      <td>395.785</td>\n",
       "      <td>9.45255</td>\n",
       "      <td>1.71765</td>\n",
       "      <td>176.379742</td>\n",
       "      <td>184.619458</td>\n",
       "      <td>184.292819</td>\n",
       "      <td>...</td>\n",
       "      <td>249.082</td>\n",
       "      <td>807.178</td>\n",
       "      <td>799.417</td>\n",
       "      <td>799.614</td>\n",
       "      <td>461.455</td>\n",
       "      <td>476.486</td>\n",
       "      <td>421.792</td>\n",
       "      <td>449.983</td>\n",
       "      <td>64.03</td>\n",
       "      <td>3.11</td>\n",
       "    </tr>\n",
       "    <tr>\n",
       "      <th>2017-04-01</th>\n",
       "      <td>59.72</td>\n",
       "      <td>9.22</td>\n",
       "      <td>2148.28</td>\n",
       "      <td>520.983</td>\n",
       "      <td>397.219</td>\n",
       "      <td>9.45499</td>\n",
       "      <td>1.71748</td>\n",
       "      <td>176.379320</td>\n",
       "      <td>184.622049</td>\n",
       "      <td>184.295736</td>\n",
       "      <td>...</td>\n",
       "      <td>250.292</td>\n",
       "      <td>810.002</td>\n",
       "      <td>791.179</td>\n",
       "      <td>800.324</td>\n",
       "      <td>471.731</td>\n",
       "      <td>472.107</td>\n",
       "      <td>460.954</td>\n",
       "      <td>453.981</td>\n",
       "      <td>64.03</td>\n",
       "      <td>3.11</td>\n",
       "    </tr>\n",
       "  </tbody>\n",
       "</table>\n",
       "<p>2 rows × 23 columns</p>\n",
       "</div>"
      ],
      "text/plain": [
       "            % Iron Feed  % Silica Feed  Starch Flow  Amina Flow   \n",
       "date                                                              \n",
       "2017-04-01        59.72           9.22      2195.31     523.283  \\\n",
       "2017-04-01        59.72           9.22      2148.28     520.983   \n",
       "\n",
       "            Ore Pulp Flow  Ore Pulp pH  Ore Pulp Density   \n",
       "date                                                       \n",
       "2017-04-01        395.785      9.45255           1.71765  \\\n",
       "2017-04-01        397.219      9.45499           1.71748   \n",
       "\n",
       "            Flotation Column 01 Air Flow  Flotation Column 02 Air Flow   \n",
       "date                                                                     \n",
       "2017-04-01                    176.379742                    184.619458  \\\n",
       "2017-04-01                    176.379320                    184.622049   \n",
       "\n",
       "            Flotation Column 03 Air Flow  ...  Flotation Column 07 Air Flow   \n",
       "date                                      ...                                 \n",
       "2017-04-01                    184.292819  ...                       249.082  \\\n",
       "2017-04-01                    184.295736  ...                       250.292   \n",
       "\n",
       "            Flotation Column 01 Level  Flotation Column 02 Level   \n",
       "date                                                               \n",
       "2017-04-01                    807.178                    799.417  \\\n",
       "2017-04-01                    810.002                    791.179   \n",
       "\n",
       "            Flotation Column 03 Level  Flotation Column 04 Level   \n",
       "date                                                               \n",
       "2017-04-01                    799.614                    461.455  \\\n",
       "2017-04-01                    800.324                    471.731   \n",
       "\n",
       "            Flotation Column 05 Level  Flotation Column 06 Level   \n",
       "date                                                               \n",
       "2017-04-01                    476.486                    421.792  \\\n",
       "2017-04-01                    472.107                    460.954   \n",
       "\n",
       "            Flotation Column 07 Level  % Iron Concentrate   \n",
       "date                                                        \n",
       "2017-04-01                    449.983               64.03  \\\n",
       "2017-04-01                    453.981               64.03   \n",
       "\n",
       "            % Silica Concentrate  \n",
       "date                              \n",
       "2017-04-01                  3.11  \n",
       "2017-04-01                  3.11  \n",
       "\n",
       "[2 rows x 23 columns]"
      ]
     },
     "execution_count": 398,
     "metadata": {},
     "output_type": "execute_result"
    }
   ],
   "source": [
    "df = df.loc[\"2017-04-01\":]\n",
    "df.head(2)"
   ]
  },
  {
   "cell_type": "code",
   "execution_count": 399,
   "id": "ac13ce0e-1b13-4dd5-8d20-2a85e3958485",
   "metadata": {
    "tags": []
   },
   "outputs": [
    {
     "data": {
      "text/plain": [
       "('April', 'September')"
      ]
     },
     "execution_count": 399,
     "metadata": {},
     "output_type": "execute_result"
    }
   ],
   "source": [
    "df.index.min().month_name(), df.index.max().month_name()"
   ]
  },
  {
   "cell_type": "markdown",
   "id": "15e49716-595d-4e85-8c9c-d3aa0c688571",
   "metadata": {
    "tags": []
   },
   "source": [
    "When we slice the dataset to consider from april to september, we have to understand the date frequency:\n",
    "\n",
    "    1. Do we have one data point per minute or per second?\n",
    "    2. Is that consistent throght the entire dataset?"
   ]
  },
  {
   "cell_type": "code",
   "execution_count": 400,
   "id": "5e10089c-0235-46e4-a2ba-2cbafd8f6889",
   "metadata": {
    "tags": []
   },
   "outputs": [
    {
     "data": {
      "text/html": [
       "<div>\n",
       "<style scoped>\n",
       "    .dataframe tbody tr th:only-of-type {\n",
       "        vertical-align: middle;\n",
       "    }\n",
       "\n",
       "    .dataframe tbody tr th {\n",
       "        vertical-align: top;\n",
       "    }\n",
       "\n",
       "    .dataframe thead th {\n",
       "        text-align: right;\n",
       "    }\n",
       "</style>\n",
       "<table border=\"1\" class=\"dataframe\">\n",
       "  <thead>\n",
       "    <tr style=\"text-align: right;\">\n",
       "      <th></th>\n",
       "      <th>date</th>\n",
       "      <th>count</th>\n",
       "    </tr>\n",
       "  </thead>\n",
       "  <tbody>\n",
       "    <tr>\n",
       "      <th>0</th>\n",
       "      <td>2017-04-01 00:00:00</td>\n",
       "      <td>180</td>\n",
       "    </tr>\n",
       "    <tr>\n",
       "      <th>1</th>\n",
       "      <td>2017-04-01 01:00:00</td>\n",
       "      <td>180</td>\n",
       "    </tr>\n",
       "    <tr>\n",
       "      <th>2</th>\n",
       "      <td>2017-04-01 02:00:00</td>\n",
       "      <td>180</td>\n",
       "    </tr>\n",
       "    <tr>\n",
       "      <th>3</th>\n",
       "      <td>2017-04-01 03:00:00</td>\n",
       "      <td>180</td>\n",
       "    </tr>\n",
       "    <tr>\n",
       "      <th>4</th>\n",
       "      <td>2017-04-01 04:00:00</td>\n",
       "      <td>180</td>\n",
       "    </tr>\n",
       "    <tr>\n",
       "      <th>...</th>\n",
       "      <td>...</td>\n",
       "      <td>...</td>\n",
       "    </tr>\n",
       "    <tr>\n",
       "      <th>3883</th>\n",
       "      <td>2017-09-09 19:00:00</td>\n",
       "      <td>180</td>\n",
       "    </tr>\n",
       "    <tr>\n",
       "      <th>3884</th>\n",
       "      <td>2017-09-09 20:00:00</td>\n",
       "      <td>180</td>\n",
       "    </tr>\n",
       "    <tr>\n",
       "      <th>3885</th>\n",
       "      <td>2017-09-09 21:00:00</td>\n",
       "      <td>180</td>\n",
       "    </tr>\n",
       "    <tr>\n",
       "      <th>3886</th>\n",
       "      <td>2017-09-09 22:00:00</td>\n",
       "      <td>180</td>\n",
       "    </tr>\n",
       "    <tr>\n",
       "      <th>3887</th>\n",
       "      <td>2017-09-09 23:00:00</td>\n",
       "      <td>180</td>\n",
       "    </tr>\n",
       "  </tbody>\n",
       "</table>\n",
       "<p>3888 rows × 2 columns</p>\n",
       "</div>"
      ],
      "text/plain": [
       "                    date  count\n",
       "0    2017-04-01 00:00:00    180\n",
       "1    2017-04-01 01:00:00    180\n",
       "2    2017-04-01 02:00:00    180\n",
       "3    2017-04-01 03:00:00    180\n",
       "4    2017-04-01 04:00:00    180\n",
       "...                  ...    ...\n",
       "3883 2017-09-09 19:00:00    180\n",
       "3884 2017-09-09 20:00:00    180\n",
       "3885 2017-09-09 21:00:00    180\n",
       "3886 2017-09-09 22:00:00    180\n",
       "3887 2017-09-09 23:00:00    180\n",
       "\n",
       "[3888 rows x 2 columns]"
      ]
     },
     "execution_count": 400,
     "metadata": {},
     "output_type": "execute_result"
    }
   ],
   "source": [
    "df.groupby(df.index.floor('H')).size().reset_index(name='count')"
   ]
  },
  {
   "cell_type": "markdown",
   "id": "23116bb4-a89a-4108-b501-874dc892cbdc",
   "metadata": {},
   "source": [
    "On every hour, we do have 180 data points, which lead us to one data point every 20 seconds"
   ]
  },
  {
   "cell_type": "code",
   "execution_count": 404,
   "id": "e0b2b4c4-c8eb-41c9-86b5-bb11e730e15f",
   "metadata": {
    "tags": []
   },
   "outputs": [
    {
     "name": "stdout",
     "output_type": "stream",
     "text": [
      "Each data point at every 20 seconds.\n"
     ]
    }
   ],
   "source": [
    "seconds_per_minute = 60\n",
    "minutes_per_hour   = 60\n",
    "data_points_minute = int(180/minutes_per_hour)\n",
    "secods_per_datapoint = int(seconds_per_minute/data_points_minute)\n",
    "\n",
    "print(f'Each data point at every {secods_per_datapoint} seconds.')"
   ]
  },
  {
   "cell_type": "markdown",
   "id": "cff7a1bf-6467-4b9b-a67e-be45fc00924f",
   "metadata": {
    "tags": []
   },
   "source": [
    "We are now going to understand if any day in the database has a different size:"
   ]
  },
  {
   "cell_type": "code",
   "execution_count": 405,
   "id": "0ef4f0f0-1950-45d1-a6f2-6de41b46f5eb",
   "metadata": {
    "tags": []
   },
   "outputs": [
    {
     "data": {
      "text/html": [
       "<div>\n",
       "<style scoped>\n",
       "    .dataframe tbody tr th:only-of-type {\n",
       "        vertical-align: middle;\n",
       "    }\n",
       "\n",
       "    .dataframe tbody tr th {\n",
       "        vertical-align: top;\n",
       "    }\n",
       "\n",
       "    .dataframe thead th {\n",
       "        text-align: right;\n",
       "    }\n",
       "</style>\n",
       "<table border=\"1\" class=\"dataframe\">\n",
       "  <thead>\n",
       "    <tr style=\"text-align: right;\">\n",
       "      <th></th>\n",
       "      <th>date</th>\n",
       "      <th>count</th>\n",
       "    </tr>\n",
       "  </thead>\n",
       "  <tbody>\n",
       "    <tr>\n",
       "      <th>216</th>\n",
       "      <td>2017-04-10</td>\n",
       "      <td>179</td>\n",
       "    </tr>\n",
       "  </tbody>\n",
       "</table>\n",
       "</div>"
      ],
      "text/plain": [
       "          date  count\n",
       "216 2017-04-10    179"
      ]
     },
     "execution_count": 405,
     "metadata": {},
     "output_type": "execute_result"
    }
   ],
   "source": [
    "df.groupby(df.index.floor('H')).size().reset_index(name='count').query(\"count!=180\")"
   ]
  },
  {
   "cell_type": "code",
   "execution_count": 406,
   "id": "05944e73-34f7-4df7-ada8-bced5f5aa8cd",
   "metadata": {
    "tags": []
   },
   "outputs": [
    {
     "name": "stdout",
     "output_type": "stream",
     "text": [
      "Considering 180 as a reference, the date 2017-04-10 00:00:00 is not consistent and we should fix it\n"
     ]
    }
   ],
   "source": [
    "print(f\"Considering 180 as a reference, the date {str(pd.to_datetime(df.groupby(df.index.floor('H')).size().reset_index(name='count').query('count!=180')['date'].values[0]))} is not consistent and we should fix it\")"
   ]
  },
  {
   "cell_type": "code",
   "execution_count": 407,
   "id": "e0a6d127-ab0e-4aa3-a14d-9cc1ed78a49f",
   "metadata": {
    "tags": []
   },
   "outputs": [
    {
     "data": {
      "text/html": [
       "<div>\n",
       "<style scoped>\n",
       "    .dataframe tbody tr th:only-of-type {\n",
       "        vertical-align: middle;\n",
       "    }\n",
       "\n",
       "    .dataframe tbody tr th {\n",
       "        vertical-align: top;\n",
       "    }\n",
       "\n",
       "    .dataframe thead th {\n",
       "        text-align: right;\n",
       "    }\n",
       "</style>\n",
       "<table border=\"1\" class=\"dataframe\">\n",
       "  <thead>\n",
       "    <tr style=\"text-align: right;\">\n",
       "      <th></th>\n",
       "      <th>% Iron Feed</th>\n",
       "      <th>% Silica Feed</th>\n",
       "      <th>Starch Flow</th>\n",
       "      <th>Amina Flow</th>\n",
       "      <th>Ore Pulp Flow</th>\n",
       "      <th>Ore Pulp pH</th>\n",
       "      <th>Ore Pulp Density</th>\n",
       "      <th>Flotation Column 01 Air Flow</th>\n",
       "      <th>Flotation Column 02 Air Flow</th>\n",
       "      <th>Flotation Column 03 Air Flow</th>\n",
       "      <th>...</th>\n",
       "      <th>Flotation Column 07 Air Flow</th>\n",
       "      <th>Flotation Column 01 Level</th>\n",
       "      <th>Flotation Column 02 Level</th>\n",
       "      <th>Flotation Column 03 Level</th>\n",
       "      <th>Flotation Column 04 Level</th>\n",
       "      <th>Flotation Column 05 Level</th>\n",
       "      <th>Flotation Column 06 Level</th>\n",
       "      <th>Flotation Column 07 Level</th>\n",
       "      <th>% Iron Concentrate</th>\n",
       "      <th>% Silica Concentrate</th>\n",
       "    </tr>\n",
       "    <tr>\n",
       "      <th>date</th>\n",
       "      <th></th>\n",
       "      <th></th>\n",
       "      <th></th>\n",
       "      <th></th>\n",
       "      <th></th>\n",
       "      <th></th>\n",
       "      <th></th>\n",
       "      <th></th>\n",
       "      <th></th>\n",
       "      <th></th>\n",
       "      <th></th>\n",
       "      <th></th>\n",
       "      <th></th>\n",
       "      <th></th>\n",
       "      <th></th>\n",
       "      <th></th>\n",
       "      <th></th>\n",
       "      <th></th>\n",
       "      <th></th>\n",
       "      <th></th>\n",
       "      <th></th>\n",
       "    </tr>\n",
       "  </thead>\n",
       "  <tbody>\n",
       "    <tr>\n",
       "      <th>2017-04-10 00:00:00</th>\n",
       "      <td>179</td>\n",
       "      <td>179</td>\n",
       "      <td>179</td>\n",
       "      <td>179</td>\n",
       "      <td>179</td>\n",
       "      <td>179</td>\n",
       "      <td>179</td>\n",
       "      <td>179</td>\n",
       "      <td>179</td>\n",
       "      <td>179</td>\n",
       "      <td>...</td>\n",
       "      <td>179</td>\n",
       "      <td>179</td>\n",
       "      <td>179</td>\n",
       "      <td>179</td>\n",
       "      <td>179</td>\n",
       "      <td>179</td>\n",
       "      <td>179</td>\n",
       "      <td>179</td>\n",
       "      <td>179</td>\n",
       "      <td>179</td>\n",
       "    </tr>\n",
       "    <tr>\n",
       "      <th>2017-04-10 01:00:00</th>\n",
       "      <td>180</td>\n",
       "      <td>180</td>\n",
       "      <td>180</td>\n",
       "      <td>180</td>\n",
       "      <td>180</td>\n",
       "      <td>180</td>\n",
       "      <td>180</td>\n",
       "      <td>180</td>\n",
       "      <td>180</td>\n",
       "      <td>180</td>\n",
       "      <td>...</td>\n",
       "      <td>180</td>\n",
       "      <td>180</td>\n",
       "      <td>180</td>\n",
       "      <td>180</td>\n",
       "      <td>180</td>\n",
       "      <td>180</td>\n",
       "      <td>180</td>\n",
       "      <td>180</td>\n",
       "      <td>180</td>\n",
       "      <td>180</td>\n",
       "    </tr>\n",
       "    <tr>\n",
       "      <th>2017-04-10 02:00:00</th>\n",
       "      <td>180</td>\n",
       "      <td>180</td>\n",
       "      <td>180</td>\n",
       "      <td>180</td>\n",
       "      <td>180</td>\n",
       "      <td>180</td>\n",
       "      <td>180</td>\n",
       "      <td>180</td>\n",
       "      <td>180</td>\n",
       "      <td>180</td>\n",
       "      <td>...</td>\n",
       "      <td>180</td>\n",
       "      <td>180</td>\n",
       "      <td>180</td>\n",
       "      <td>180</td>\n",
       "      <td>180</td>\n",
       "      <td>180</td>\n",
       "      <td>180</td>\n",
       "      <td>180</td>\n",
       "      <td>180</td>\n",
       "      <td>180</td>\n",
       "    </tr>\n",
       "  </tbody>\n",
       "</table>\n",
       "<p>3 rows × 23 columns</p>\n",
       "</div>"
      ],
      "text/plain": [
       "                     % Iron Feed  % Silica Feed  Starch Flow  Amina Flow   \n",
       "date                                                                       \n",
       "2017-04-10 00:00:00          179            179          179         179  \\\n",
       "2017-04-10 01:00:00          180            180          180         180   \n",
       "2017-04-10 02:00:00          180            180          180         180   \n",
       "\n",
       "                     Ore Pulp Flow  Ore Pulp pH  Ore Pulp Density   \n",
       "date                                                                \n",
       "2017-04-10 00:00:00            179          179               179  \\\n",
       "2017-04-10 01:00:00            180          180               180   \n",
       "2017-04-10 02:00:00            180          180               180   \n",
       "\n",
       "                     Flotation Column 01 Air Flow   \n",
       "date                                                \n",
       "2017-04-10 00:00:00                           179  \\\n",
       "2017-04-10 01:00:00                           180   \n",
       "2017-04-10 02:00:00                           180   \n",
       "\n",
       "                     Flotation Column 02 Air Flow   \n",
       "date                                                \n",
       "2017-04-10 00:00:00                           179  \\\n",
       "2017-04-10 01:00:00                           180   \n",
       "2017-04-10 02:00:00                           180   \n",
       "\n",
       "                     Flotation Column 03 Air Flow  ...   \n",
       "date                                               ...   \n",
       "2017-04-10 00:00:00                           179  ...  \\\n",
       "2017-04-10 01:00:00                           180  ...   \n",
       "2017-04-10 02:00:00                           180  ...   \n",
       "\n",
       "                     Flotation Column 07 Air Flow  Flotation Column 01 Level   \n",
       "date                                                                           \n",
       "2017-04-10 00:00:00                           179                        179  \\\n",
       "2017-04-10 01:00:00                           180                        180   \n",
       "2017-04-10 02:00:00                           180                        180   \n",
       "\n",
       "                     Flotation Column 02 Level  Flotation Column 03 Level   \n",
       "date                                                                        \n",
       "2017-04-10 00:00:00                        179                        179  \\\n",
       "2017-04-10 01:00:00                        180                        180   \n",
       "2017-04-10 02:00:00                        180                        180   \n",
       "\n",
       "                     Flotation Column 04 Level  Flotation Column 05 Level   \n",
       "date                                                                        \n",
       "2017-04-10 00:00:00                        179                        179  \\\n",
       "2017-04-10 01:00:00                        180                        180   \n",
       "2017-04-10 02:00:00                        180                        180   \n",
       "\n",
       "                     Flotation Column 06 Level  Flotation Column 07 Level   \n",
       "date                                                                        \n",
       "2017-04-10 00:00:00                        179                        179  \\\n",
       "2017-04-10 01:00:00                        180                        180   \n",
       "2017-04-10 02:00:00                        180                        180   \n",
       "\n",
       "                     % Iron Concentrate  % Silica Concentrate  \n",
       "date                                                           \n",
       "2017-04-10 00:00:00                 179                   179  \n",
       "2017-04-10 01:00:00                 180                   180  \n",
       "2017-04-10 02:00:00                 180                   180  \n",
       "\n",
       "[3 rows x 23 columns]"
      ]
     },
     "execution_count": 407,
     "metadata": {},
     "output_type": "execute_result"
    }
   ],
   "source": [
    "df.loc['2017-04-10'].groupby(df.loc['2017-04-10'].index).count().head(3)"
   ]
  },
  {
   "cell_type": "code",
   "execution_count": 408,
   "id": "e11f9bfa-53fe-4340-97b0-986d892b6bfa",
   "metadata": {
    "tags": []
   },
   "outputs": [
    {
     "data": {
      "text/html": [
       "<div>\n",
       "<style scoped>\n",
       "    .dataframe tbody tr th:only-of-type {\n",
       "        vertical-align: middle;\n",
       "    }\n",
       "\n",
       "    .dataframe tbody tr th {\n",
       "        vertical-align: top;\n",
       "    }\n",
       "\n",
       "    .dataframe thead th {\n",
       "        text-align: right;\n",
       "    }\n",
       "</style>\n",
       "<table border=\"1\" class=\"dataframe\">\n",
       "  <thead>\n",
       "    <tr style=\"text-align: right;\">\n",
       "      <th></th>\n",
       "      <th>% Iron Feed</th>\n",
       "      <th>% Silica Feed</th>\n",
       "      <th>Starch Flow</th>\n",
       "      <th>Amina Flow</th>\n",
       "      <th>Ore Pulp Flow</th>\n",
       "      <th>Ore Pulp pH</th>\n",
       "      <th>Ore Pulp Density</th>\n",
       "      <th>Flotation Column 01 Air Flow</th>\n",
       "      <th>Flotation Column 02 Air Flow</th>\n",
       "      <th>Flotation Column 03 Air Flow</th>\n",
       "      <th>...</th>\n",
       "      <th>Flotation Column 07 Air Flow</th>\n",
       "      <th>Flotation Column 01 Level</th>\n",
       "      <th>Flotation Column 02 Level</th>\n",
       "      <th>Flotation Column 03 Level</th>\n",
       "      <th>Flotation Column 04 Level</th>\n",
       "      <th>Flotation Column 05 Level</th>\n",
       "      <th>Flotation Column 06 Level</th>\n",
       "      <th>Flotation Column 07 Level</th>\n",
       "      <th>% Iron Concentrate</th>\n",
       "      <th>% Silica Concentrate</th>\n",
       "    </tr>\n",
       "    <tr>\n",
       "      <th>date</th>\n",
       "      <th></th>\n",
       "      <th></th>\n",
       "      <th></th>\n",
       "      <th></th>\n",
       "      <th></th>\n",
       "      <th></th>\n",
       "      <th></th>\n",
       "      <th></th>\n",
       "      <th></th>\n",
       "      <th></th>\n",
       "      <th></th>\n",
       "      <th></th>\n",
       "      <th></th>\n",
       "      <th></th>\n",
       "      <th></th>\n",
       "      <th></th>\n",
       "      <th></th>\n",
       "      <th></th>\n",
       "      <th></th>\n",
       "      <th></th>\n",
       "      <th></th>\n",
       "    </tr>\n",
       "  </thead>\n",
       "  <tbody>\n",
       "    <tr>\n",
       "      <th>2017-04-10</th>\n",
       "      <td>56.39</td>\n",
       "      <td>13.53</td>\n",
       "      <td>2357.77</td>\n",
       "      <td>392.882</td>\n",
       "      <td>397.469</td>\n",
       "      <td>10.0277</td>\n",
       "      <td>1.74996</td>\n",
       "      <td>249.478</td>\n",
       "      <td>246.096</td>\n",
       "      <td>250.729</td>\n",
       "      <td>...</td>\n",
       "      <td>252.112</td>\n",
       "      <td>600.524</td>\n",
       "      <td>598.4</td>\n",
       "      <td>600.472</td>\n",
       "      <td>446.251</td>\n",
       "      <td>446.752</td>\n",
       "      <td>426.866</td>\n",
       "      <td>432.153</td>\n",
       "      <td>65.85</td>\n",
       "      <td>1.4</td>\n",
       "    </tr>\n",
       "  </tbody>\n",
       "</table>\n",
       "<p>1 rows × 23 columns</p>\n",
       "</div>"
      ],
      "text/plain": [
       "            % Iron Feed  % Silica Feed  Starch Flow  Amina Flow   \n",
       "date                                                              \n",
       "2017-04-10        56.39          13.53      2357.77     392.882  \\\n",
       "\n",
       "            Ore Pulp Flow  Ore Pulp pH  Ore Pulp Density   \n",
       "date                                                       \n",
       "2017-04-10        397.469      10.0277           1.74996  \\\n",
       "\n",
       "            Flotation Column 01 Air Flow  Flotation Column 02 Air Flow   \n",
       "date                                                                     \n",
       "2017-04-10                       249.478                       246.096  \\\n",
       "\n",
       "            Flotation Column 03 Air Flow  ...  Flotation Column 07 Air Flow   \n",
       "date                                      ...                                 \n",
       "2017-04-10                       250.729  ...                       252.112  \\\n",
       "\n",
       "            Flotation Column 01 Level  Flotation Column 02 Level   \n",
       "date                                                               \n",
       "2017-04-10                    600.524                      598.4  \\\n",
       "\n",
       "            Flotation Column 03 Level  Flotation Column 04 Level   \n",
       "date                                                               \n",
       "2017-04-10                    600.472                    446.251  \\\n",
       "\n",
       "            Flotation Column 05 Level  Flotation Column 06 Level   \n",
       "date                                                               \n",
       "2017-04-10                    446.752                    426.866  \\\n",
       "\n",
       "            Flotation Column 07 Level  % Iron Concentrate   \n",
       "date                                                        \n",
       "2017-04-10                    432.153               65.85  \\\n",
       "\n",
       "            % Silica Concentrate  \n",
       "date                              \n",
       "2017-04-10                   1.4  \n",
       "\n",
       "[1 rows x 23 columns]"
      ]
     },
     "execution_count": 408,
     "metadata": {},
     "output_type": "execute_result"
    }
   ],
   "source": [
    "new_val = df.loc['2017-04-10 00:00:00'].values[-1]\n",
    "append_val = pd.DataFrame(new_val.reshape(1,-1), columns=df.columns.tolist())\n",
    "append_val['date'] = '2017-04-10 00:00:00'\n",
    "append_val['date'] = pd.to_datetime(append_val['date'])\n",
    "append_val = append_val.set_index('date', drop=True)\n",
    "append_val"
   ]
  },
  {
   "cell_type": "code",
   "execution_count": 409,
   "id": "de7f414d-e378-4cd1-8546-46782aedd883",
   "metadata": {
    "tags": []
   },
   "outputs": [
    {
     "data": {
      "text/html": [
       "<div>\n",
       "<style scoped>\n",
       "    .dataframe tbody tr th:only-of-type {\n",
       "        vertical-align: middle;\n",
       "    }\n",
       "\n",
       "    .dataframe tbody tr th {\n",
       "        vertical-align: top;\n",
       "    }\n",
       "\n",
       "    .dataframe thead th {\n",
       "        text-align: right;\n",
       "    }\n",
       "</style>\n",
       "<table border=\"1\" class=\"dataframe\">\n",
       "  <thead>\n",
       "    <tr style=\"text-align: right;\">\n",
       "      <th></th>\n",
       "      <th>% Iron Feed</th>\n",
       "      <th>% Silica Feed</th>\n",
       "      <th>Starch Flow</th>\n",
       "      <th>Amina Flow</th>\n",
       "      <th>Ore Pulp Flow</th>\n",
       "      <th>Ore Pulp pH</th>\n",
       "      <th>Ore Pulp Density</th>\n",
       "      <th>Flotation Column 01 Air Flow</th>\n",
       "      <th>Flotation Column 02 Air Flow</th>\n",
       "      <th>Flotation Column 03 Air Flow</th>\n",
       "      <th>...</th>\n",
       "      <th>Flotation Column 07 Air Flow</th>\n",
       "      <th>Flotation Column 01 Level</th>\n",
       "      <th>Flotation Column 02 Level</th>\n",
       "      <th>Flotation Column 03 Level</th>\n",
       "      <th>Flotation Column 04 Level</th>\n",
       "      <th>Flotation Column 05 Level</th>\n",
       "      <th>Flotation Column 06 Level</th>\n",
       "      <th>Flotation Column 07 Level</th>\n",
       "      <th>% Iron Concentrate</th>\n",
       "      <th>% Silica Concentrate</th>\n",
       "    </tr>\n",
       "    <tr>\n",
       "      <th>date</th>\n",
       "      <th></th>\n",
       "      <th></th>\n",
       "      <th></th>\n",
       "      <th></th>\n",
       "      <th></th>\n",
       "      <th></th>\n",
       "      <th></th>\n",
       "      <th></th>\n",
       "      <th></th>\n",
       "      <th></th>\n",
       "      <th></th>\n",
       "      <th></th>\n",
       "      <th></th>\n",
       "      <th></th>\n",
       "      <th></th>\n",
       "      <th></th>\n",
       "      <th></th>\n",
       "      <th></th>\n",
       "      <th></th>\n",
       "      <th></th>\n",
       "      <th></th>\n",
       "    </tr>\n",
       "  </thead>\n",
       "  <tbody>\n",
       "    <tr>\n",
       "      <th>2017-04-10 00:00:00</th>\n",
       "      <td>180</td>\n",
       "      <td>180</td>\n",
       "      <td>180</td>\n",
       "      <td>180</td>\n",
       "      <td>180</td>\n",
       "      <td>180</td>\n",
       "      <td>180</td>\n",
       "      <td>180</td>\n",
       "      <td>180</td>\n",
       "      <td>180</td>\n",
       "      <td>...</td>\n",
       "      <td>180</td>\n",
       "      <td>180</td>\n",
       "      <td>180</td>\n",
       "      <td>180</td>\n",
       "      <td>180</td>\n",
       "      <td>180</td>\n",
       "      <td>180</td>\n",
       "      <td>180</td>\n",
       "      <td>180</td>\n",
       "      <td>180</td>\n",
       "    </tr>\n",
       "    <tr>\n",
       "      <th>2017-04-10 01:00:00</th>\n",
       "      <td>180</td>\n",
       "      <td>180</td>\n",
       "      <td>180</td>\n",
       "      <td>180</td>\n",
       "      <td>180</td>\n",
       "      <td>180</td>\n",
       "      <td>180</td>\n",
       "      <td>180</td>\n",
       "      <td>180</td>\n",
       "      <td>180</td>\n",
       "      <td>...</td>\n",
       "      <td>180</td>\n",
       "      <td>180</td>\n",
       "      <td>180</td>\n",
       "      <td>180</td>\n",
       "      <td>180</td>\n",
       "      <td>180</td>\n",
       "      <td>180</td>\n",
       "      <td>180</td>\n",
       "      <td>180</td>\n",
       "      <td>180</td>\n",
       "    </tr>\n",
       "    <tr>\n",
       "      <th>2017-04-10 02:00:00</th>\n",
       "      <td>180</td>\n",
       "      <td>180</td>\n",
       "      <td>180</td>\n",
       "      <td>180</td>\n",
       "      <td>180</td>\n",
       "      <td>180</td>\n",
       "      <td>180</td>\n",
       "      <td>180</td>\n",
       "      <td>180</td>\n",
       "      <td>180</td>\n",
       "      <td>...</td>\n",
       "      <td>180</td>\n",
       "      <td>180</td>\n",
       "      <td>180</td>\n",
       "      <td>180</td>\n",
       "      <td>180</td>\n",
       "      <td>180</td>\n",
       "      <td>180</td>\n",
       "      <td>180</td>\n",
       "      <td>180</td>\n",
       "      <td>180</td>\n",
       "    </tr>\n",
       "  </tbody>\n",
       "</table>\n",
       "<p>3 rows × 23 columns</p>\n",
       "</div>"
      ],
      "text/plain": [
       "                     % Iron Feed  % Silica Feed  Starch Flow  Amina Flow   \n",
       "date                                                                       \n",
       "2017-04-10 00:00:00          180            180          180         180  \\\n",
       "2017-04-10 01:00:00          180            180          180         180   \n",
       "2017-04-10 02:00:00          180            180          180         180   \n",
       "\n",
       "                     Ore Pulp Flow  Ore Pulp pH  Ore Pulp Density   \n",
       "date                                                                \n",
       "2017-04-10 00:00:00            180          180               180  \\\n",
       "2017-04-10 01:00:00            180          180               180   \n",
       "2017-04-10 02:00:00            180          180               180   \n",
       "\n",
       "                     Flotation Column 01 Air Flow   \n",
       "date                                                \n",
       "2017-04-10 00:00:00                           180  \\\n",
       "2017-04-10 01:00:00                           180   \n",
       "2017-04-10 02:00:00                           180   \n",
       "\n",
       "                     Flotation Column 02 Air Flow   \n",
       "date                                                \n",
       "2017-04-10 00:00:00                           180  \\\n",
       "2017-04-10 01:00:00                           180   \n",
       "2017-04-10 02:00:00                           180   \n",
       "\n",
       "                     Flotation Column 03 Air Flow  ...   \n",
       "date                                               ...   \n",
       "2017-04-10 00:00:00                           180  ...  \\\n",
       "2017-04-10 01:00:00                           180  ...   \n",
       "2017-04-10 02:00:00                           180  ...   \n",
       "\n",
       "                     Flotation Column 07 Air Flow  Flotation Column 01 Level   \n",
       "date                                                                           \n",
       "2017-04-10 00:00:00                           180                        180  \\\n",
       "2017-04-10 01:00:00                           180                        180   \n",
       "2017-04-10 02:00:00                           180                        180   \n",
       "\n",
       "                     Flotation Column 02 Level  Flotation Column 03 Level   \n",
       "date                                                                        \n",
       "2017-04-10 00:00:00                        180                        180  \\\n",
       "2017-04-10 01:00:00                        180                        180   \n",
       "2017-04-10 02:00:00                        180                        180   \n",
       "\n",
       "                     Flotation Column 04 Level  Flotation Column 05 Level   \n",
       "date                                                                        \n",
       "2017-04-10 00:00:00                        180                        180  \\\n",
       "2017-04-10 01:00:00                        180                        180   \n",
       "2017-04-10 02:00:00                        180                        180   \n",
       "\n",
       "                     Flotation Column 06 Level  Flotation Column 07 Level   \n",
       "date                                                                        \n",
       "2017-04-10 00:00:00                        180                        180  \\\n",
       "2017-04-10 01:00:00                        180                        180   \n",
       "2017-04-10 02:00:00                        180                        180   \n",
       "\n",
       "                     % Iron Concentrate  % Silica Concentrate  \n",
       "date                                                           \n",
       "2017-04-10 00:00:00                 180                   180  \n",
       "2017-04-10 01:00:00                 180                   180  \n",
       "2017-04-10 02:00:00                 180                   180  \n",
       "\n",
       "[3 rows x 23 columns]"
      ]
     },
     "execution_count": 409,
     "metadata": {},
     "output_type": "execute_result"
    }
   ],
   "source": [
    "df = pd.concat([df, append_val]).reset_index().set_index('date', drop=True)\n",
    "df.loc['2017-04-10'].groupby(df.loc['2017-04-10'].index).count().head(3)"
   ]
  },
  {
   "cell_type": "code",
   "execution_count": 412,
   "id": "5fa68b4e-5196-41bb-b8bc-e6389f98e1c0",
   "metadata": {
    "tags": []
   },
   "outputs": [
    {
     "data": {
      "text/html": [
       "<div>\n",
       "<style scoped>\n",
       "    .dataframe tbody tr th:only-of-type {\n",
       "        vertical-align: middle;\n",
       "    }\n",
       "\n",
       "    .dataframe tbody tr th {\n",
       "        vertical-align: top;\n",
       "    }\n",
       "\n",
       "    .dataframe thead th {\n",
       "        text-align: right;\n",
       "    }\n",
       "</style>\n",
       "<table border=\"1\" class=\"dataframe\">\n",
       "  <thead>\n",
       "    <tr style=\"text-align: right;\">\n",
       "      <th></th>\n",
       "      <th>date</th>\n",
       "      <th>count</th>\n",
       "    </tr>\n",
       "  </thead>\n",
       "  <tbody>\n",
       "  </tbody>\n",
       "</table>\n",
       "</div>"
      ],
      "text/plain": [
       "Empty DataFrame\n",
       "Columns: [date, count]\n",
       "Index: []"
      ]
     },
     "execution_count": 412,
     "metadata": {},
     "output_type": "execute_result"
    }
   ],
   "source": [
    "df.groupby(df.index.floor('H')).size().reset_index(name='count').query(\"count!=180\")"
   ]
  },
  {
   "cell_type": "code",
   "execution_count": 425,
   "id": "ec6fc749-1d34-4238-929a-8fcaf945fa1c",
   "metadata": {
    "tags": []
   },
   "outputs": [],
   "source": [
    "df.index = pd.date_range(start='2017-04-01 00:00:00', end='2017-09-09 23:59:40', freq='20s')\n",
    "df.index.names = ['date']"
   ]
  },
  {
   "cell_type": "code",
   "execution_count": 417,
   "id": "ee780fc8-b8bb-46fc-a99b-a9341aeef8a4",
   "metadata": {
    "tags": []
   },
   "outputs": [
    {
     "data": {
      "text/html": [
       "<div>\n",
       "<style scoped>\n",
       "    .dataframe tbody tr th:only-of-type {\n",
       "        vertical-align: middle;\n",
       "    }\n",
       "\n",
       "    .dataframe tbody tr th {\n",
       "        vertical-align: top;\n",
       "    }\n",
       "\n",
       "    .dataframe thead th {\n",
       "        text-align: right;\n",
       "    }\n",
       "</style>\n",
       "<table border=\"1\" class=\"dataframe\">\n",
       "  <thead>\n",
       "    <tr style=\"text-align: right;\">\n",
       "      <th></th>\n",
       "      <th>index</th>\n",
       "      <th>count</th>\n",
       "    </tr>\n",
       "  </thead>\n",
       "  <tbody>\n",
       "  </tbody>\n",
       "</table>\n",
       "</div>"
      ],
      "text/plain": [
       "Empty DataFrame\n",
       "Columns: [index, count]\n",
       "Index: []"
      ]
     },
     "execution_count": 417,
     "metadata": {},
     "output_type": "execute_result"
    }
   ],
   "source": [
    "df.groupby(df.index.floor('H')).size().reset_index(name='count').query(\"count!=180\")"
   ]
  },
  {
   "cell_type": "markdown",
   "id": "10b4ad6d-dc4b-4b40-8910-fb39a5e91af5",
   "metadata": {},
   "source": [
    "Now, the dataset is ready to be analysed!"
   ]
  },
  {
   "cell_type": "code",
   "execution_count": 346,
   "id": "0f913fe2-99cb-41ee-a958-6ede9dd7e3ed",
   "metadata": {
    "tags": []
   },
   "outputs": [
    {
     "data": {
      "text/html": [
       "<div>\n",
       "<style scoped>\n",
       "    .dataframe tbody tr th:only-of-type {\n",
       "        vertical-align: middle;\n",
       "    }\n",
       "\n",
       "    .dataframe tbody tr th {\n",
       "        vertical-align: top;\n",
       "    }\n",
       "\n",
       "    .dataframe thead th {\n",
       "        text-align: right;\n",
       "    }\n",
       "</style>\n",
       "<table border=\"1\" class=\"dataframe\">\n",
       "  <thead>\n",
       "    <tr style=\"text-align: right;\">\n",
       "      <th></th>\n",
       "      <th>% Silica Concentrate</th>\n",
       "      <th>% Iron Concentrate</th>\n",
       "    </tr>\n",
       "    <tr>\n",
       "      <th>date</th>\n",
       "      <th></th>\n",
       "      <th></th>\n",
       "    </tr>\n",
       "  </thead>\n",
       "  <tbody>\n",
       "    <tr>\n",
       "      <th>2017-04-02 08:00:00</th>\n",
       "      <td>180</td>\n",
       "      <td>180</td>\n",
       "    </tr>\n",
       "    <tr>\n",
       "      <th>2017-04-02 09:00:00</th>\n",
       "      <td>180</td>\n",
       "      <td>180</td>\n",
       "    </tr>\n",
       "    <tr>\n",
       "      <th>2017-04-03 01:00:00</th>\n",
       "      <td>180</td>\n",
       "      <td>1</td>\n",
       "    </tr>\n",
       "    <tr>\n",
       "      <th>2017-04-03 02:00:00</th>\n",
       "      <td>180</td>\n",
       "      <td>1</td>\n",
       "    </tr>\n",
       "    <tr>\n",
       "      <th>2017-04-03 03:00:00</th>\n",
       "      <td>180</td>\n",
       "      <td>180</td>\n",
       "    </tr>\n",
       "    <tr>\n",
       "      <th>...</th>\n",
       "      <td>...</td>\n",
       "      <td>...</td>\n",
       "    </tr>\n",
       "    <tr>\n",
       "      <th>2017-09-05 21:00:00</th>\n",
       "      <td>180</td>\n",
       "      <td>180</td>\n",
       "    </tr>\n",
       "    <tr>\n",
       "      <th>2017-09-05 22:00:00</th>\n",
       "      <td>180</td>\n",
       "      <td>180</td>\n",
       "    </tr>\n",
       "    <tr>\n",
       "      <th>2017-09-05 23:00:00</th>\n",
       "      <td>180</td>\n",
       "      <td>180</td>\n",
       "    </tr>\n",
       "    <tr>\n",
       "      <th>2017-09-06 00:00:00</th>\n",
       "      <td>180</td>\n",
       "      <td>180</td>\n",
       "    </tr>\n",
       "    <tr>\n",
       "      <th>2017-09-06 01:00:00</th>\n",
       "      <td>180</td>\n",
       "      <td>180</td>\n",
       "    </tr>\n",
       "  </tbody>\n",
       "</table>\n",
       "<p>308 rows × 2 columns</p>\n",
       "</div>"
      ],
      "text/plain": [
       "                     % Silica Concentrate  % Iron Concentrate\n",
       "date                                                         \n",
       "2017-04-02 08:00:00                   180                 180\n",
       "2017-04-02 09:00:00                   180                 180\n",
       "2017-04-03 01:00:00                   180                   1\n",
       "2017-04-03 02:00:00                   180                   1\n",
       "2017-04-03 03:00:00                   180                 180\n",
       "...                                   ...                 ...\n",
       "2017-09-05 21:00:00                   180                 180\n",
       "2017-09-05 22:00:00                   180                 180\n",
       "2017-09-05 23:00:00                   180                 180\n",
       "2017-09-06 00:00:00                   180                 180\n",
       "2017-09-06 01:00:00                   180                 180\n",
       "\n",
       "[308 rows x 2 columns]"
      ]
     },
     "execution_count": 346,
     "metadata": {},
     "output_type": "execute_result"
    }
   ],
   "source": [
    "sanity_df = df.resample('H').agg({'% Silica Concentrate':'nunique', '% Iron Concentrate':'nunique'})\n",
    "sanity_df[sanity_df['% Silica Concentrate'].gt(1)]"
   ]
  },
  {
   "cell_type": "code",
   "execution_count": 347,
   "id": "9a274c7d-092e-4f91-8a8e-259fd1aefea5",
   "metadata": {
    "tags": []
   },
   "outputs": [
    {
     "data": {
      "text/html": [
       "<div>\n",
       "<style scoped>\n",
       "    .dataframe tbody tr th:only-of-type {\n",
       "        vertical-align: middle;\n",
       "    }\n",
       "\n",
       "    .dataframe tbody tr th {\n",
       "        vertical-align: top;\n",
       "    }\n",
       "\n",
       "    .dataframe thead th {\n",
       "        text-align: right;\n",
       "    }\n",
       "</style>\n",
       "<table border=\"1\" class=\"dataframe\">\n",
       "  <thead>\n",
       "    <tr style=\"text-align: right;\">\n",
       "      <th></th>\n",
       "      <th>% Silica Concentrate</th>\n",
       "      <th>% Iron Concentrate</th>\n",
       "    </tr>\n",
       "    <tr>\n",
       "      <th>date</th>\n",
       "      <th></th>\n",
       "      <th></th>\n",
       "    </tr>\n",
       "  </thead>\n",
       "  <tbody>\n",
       "    <tr>\n",
       "      <th>2017-04-02 08:00:00</th>\n",
       "      <td>180</td>\n",
       "      <td>180</td>\n",
       "    </tr>\n",
       "    <tr>\n",
       "      <th>2017-04-02 09:00:00</th>\n",
       "      <td>180</td>\n",
       "      <td>180</td>\n",
       "    </tr>\n",
       "    <tr>\n",
       "      <th>2017-04-03 03:00:00</th>\n",
       "      <td>180</td>\n",
       "      <td>180</td>\n",
       "    </tr>\n",
       "    <tr>\n",
       "      <th>2017-04-03 12:00:00</th>\n",
       "      <td>180</td>\n",
       "      <td>180</td>\n",
       "    </tr>\n",
       "    <tr>\n",
       "      <th>2017-04-03 13:00:00</th>\n",
       "      <td>180</td>\n",
       "      <td>180</td>\n",
       "    </tr>\n",
       "    <tr>\n",
       "      <th>...</th>\n",
       "      <td>...</td>\n",
       "      <td>...</td>\n",
       "    </tr>\n",
       "    <tr>\n",
       "      <th>2017-09-05 21:00:00</th>\n",
       "      <td>180</td>\n",
       "      <td>180</td>\n",
       "    </tr>\n",
       "    <tr>\n",
       "      <th>2017-09-05 22:00:00</th>\n",
       "      <td>180</td>\n",
       "      <td>180</td>\n",
       "    </tr>\n",
       "    <tr>\n",
       "      <th>2017-09-05 23:00:00</th>\n",
       "      <td>180</td>\n",
       "      <td>180</td>\n",
       "    </tr>\n",
       "    <tr>\n",
       "      <th>2017-09-06 00:00:00</th>\n",
       "      <td>180</td>\n",
       "      <td>180</td>\n",
       "    </tr>\n",
       "    <tr>\n",
       "      <th>2017-09-06 01:00:00</th>\n",
       "      <td>180</td>\n",
       "      <td>180</td>\n",
       "    </tr>\n",
       "  </tbody>\n",
       "</table>\n",
       "<p>215 rows × 2 columns</p>\n",
       "</div>"
      ],
      "text/plain": [
       "                     % Silica Concentrate  % Iron Concentrate\n",
       "date                                                         \n",
       "2017-04-02 08:00:00                   180                 180\n",
       "2017-04-02 09:00:00                   180                 180\n",
       "2017-04-03 03:00:00                   180                 180\n",
       "2017-04-03 12:00:00                   180                 180\n",
       "2017-04-03 13:00:00                   180                 180\n",
       "...                                   ...                 ...\n",
       "2017-09-05 21:00:00                   180                 180\n",
       "2017-09-05 22:00:00                   180                 180\n",
       "2017-09-05 23:00:00                   180                 180\n",
       "2017-09-06 00:00:00                   180                 180\n",
       "2017-09-06 01:00:00                   180                 180\n",
       "\n",
       "[215 rows x 2 columns]"
      ]
     },
     "execution_count": 347,
     "metadata": {},
     "output_type": "execute_result"
    }
   ],
   "source": [
    "sanity_df = df.resample('H').agg({'% Silica Concentrate':'nunique', '% Iron Concentrate':'nunique'})\n",
    "sanity_df[sanity_df['% Iron Concentrate'].gt(1)]"
   ]
  },
  {
   "cell_type": "code",
   "execution_count": 348,
   "id": "46de3c58-9393-4f20-99b8-bdb0113c52a8",
   "metadata": {
    "tags": []
   },
   "outputs": [
    {
     "data": {
      "text/html": [
       "<div>\n",
       "<style scoped>\n",
       "    .dataframe tbody tr th:only-of-type {\n",
       "        vertical-align: middle;\n",
       "    }\n",
       "\n",
       "    .dataframe tbody tr th {\n",
       "        vertical-align: top;\n",
       "    }\n",
       "\n",
       "    .dataframe thead th {\n",
       "        text-align: right;\n",
       "    }\n",
       "</style>\n",
       "<table border=\"1\" class=\"dataframe\">\n",
       "  <thead>\n",
       "    <tr style=\"text-align: right;\">\n",
       "      <th></th>\n",
       "      <th>% Iron Feed</th>\n",
       "      <th>% Silica Feed</th>\n",
       "    </tr>\n",
       "    <tr>\n",
       "      <th>date</th>\n",
       "      <th></th>\n",
       "      <th></th>\n",
       "    </tr>\n",
       "  </thead>\n",
       "  <tbody>\n",
       "  </tbody>\n",
       "</table>\n",
       "</div>"
      ],
      "text/plain": [
       "Empty DataFrame\n",
       "Columns: [% Iron Feed, % Silica Feed]\n",
       "Index: []"
      ]
     },
     "execution_count": 348,
     "metadata": {},
     "output_type": "execute_result"
    }
   ],
   "source": [
    "sanity_df = df.resample('H').agg({'% Iron Feed':'nunique', '% Silica Feed':'nunique'})\n",
    "sanity_df[sanity_df['% Iron Feed'].gt(1)]"
   ]
  },
  {
   "cell_type": "code",
   "execution_count": 349,
   "id": "10d7d8c7-db81-4916-848c-2d66b27e8824",
   "metadata": {
    "tags": []
   },
   "outputs": [
    {
     "data": {
      "text/html": [
       "<div>\n",
       "<style scoped>\n",
       "    .dataframe tbody tr th:only-of-type {\n",
       "        vertical-align: middle;\n",
       "    }\n",
       "\n",
       "    .dataframe tbody tr th {\n",
       "        vertical-align: top;\n",
       "    }\n",
       "\n",
       "    .dataframe thead th {\n",
       "        text-align: right;\n",
       "    }\n",
       "</style>\n",
       "<table border=\"1\" class=\"dataframe\">\n",
       "  <thead>\n",
       "    <tr style=\"text-align: right;\">\n",
       "      <th></th>\n",
       "      <th>% Iron Feed</th>\n",
       "      <th>% Silica Feed</th>\n",
       "    </tr>\n",
       "    <tr>\n",
       "      <th>date</th>\n",
       "      <th></th>\n",
       "      <th></th>\n",
       "    </tr>\n",
       "  </thead>\n",
       "  <tbody>\n",
       "  </tbody>\n",
       "</table>\n",
       "</div>"
      ],
      "text/plain": [
       "Empty DataFrame\n",
       "Columns: [% Iron Feed, % Silica Feed]\n",
       "Index: []"
      ]
     },
     "execution_count": 349,
     "metadata": {},
     "output_type": "execute_result"
    }
   ],
   "source": [
    "sanity_df = df.resample('H').agg({'% Iron Feed':'nunique', '% Silica Feed':'nunique'})\n",
    "sanity_df[sanity_df['% Silica Feed'].gt(1)]"
   ]
  },
  {
   "cell_type": "code",
   "execution_count": 350,
   "id": "7a739df2-0ee1-47ed-952c-793e5d18460f",
   "metadata": {
    "tags": []
   },
   "outputs": [
    {
     "data": {
      "text/html": [
       "<div>\n",
       "<style scoped>\n",
       "    .dataframe tbody tr th:only-of-type {\n",
       "        vertical-align: middle;\n",
       "    }\n",
       "\n",
       "    .dataframe tbody tr th {\n",
       "        vertical-align: top;\n",
       "    }\n",
       "\n",
       "    .dataframe thead th {\n",
       "        text-align: right;\n",
       "    }\n",
       "</style>\n",
       "<table border=\"1\" class=\"dataframe\">\n",
       "  <thead>\n",
       "    <tr style=\"text-align: right;\">\n",
       "      <th></th>\n",
       "      <th>% Iron Feed</th>\n",
       "      <th>% Silica Feed</th>\n",
       "    </tr>\n",
       "    <tr>\n",
       "      <th>date</th>\n",
       "      <th></th>\n",
       "      <th></th>\n",
       "    </tr>\n",
       "  </thead>\n",
       "  <tbody>\n",
       "  </tbody>\n",
       "</table>\n",
       "</div>"
      ],
      "text/plain": [
       "Empty DataFrame\n",
       "Columns: [% Iron Feed, % Silica Feed]\n",
       "Index: []"
      ]
     },
     "execution_count": 350,
     "metadata": {},
     "output_type": "execute_result"
    }
   ],
   "source": [
    "sanity_df = df.resample('H').agg({'% Iron Feed':'nunique', '% Silica Feed':'nunique'})\n",
    "sanity_df[sanity_df['% Silica Feed'].gt(1)]"
   ]
  },
  {
   "cell_type": "code",
   "execution_count": 351,
   "id": "ef4cdcde-639c-4555-924b-6017c119198f",
   "metadata": {
    "tags": []
   },
   "outputs": [
    {
     "name": "stdout",
     "output_type": "stream",
     "text": [
      "Around 0.04 % of the dates were interpolated.\n"
     ]
    }
   ],
   "source": [
    "interpolated_dates = []\n",
    "for idx in df.index.unique():\n",
    "    values = df.loc[idx]['% Silica Concentrate'].unique()\n",
    "    if len(values) > 1:\n",
    "        interpolated_dates.append(idx)\n",
    "        # print(f\"The index {idx} is interpolated.\")\n",
    "print(f\"Around {len(interpolated_dates)/len(df)*1e2:.2f} % of the dates were interpolated.\")"
   ]
  },
  {
   "cell_type": "code",
   "execution_count": 352,
   "id": "a01657f3-a058-4341-8d76-bae8d85b94c4",
   "metadata": {
    "tags": []
   },
   "outputs": [
    {
     "data": {
      "image/png": "[encoded data removed]",
      "text/plain": [
       "<Figure size 640x480 with 1 Axes>"
      ]
     },
     "metadata": {},
     "output_type": "display_data"
    }
   ],
   "source": [
    "idx = pd.date_range(start='2017-04-02 07:00:20', end='2017-04-02 11:00:00', freq='20s')\n",
    "\n",
    "fig, ax = plt.subplots()\n",
    "ax.plot(idx, df.loc['2017-04-02 07:00:00':'2017-04-02 10:00:00']['% Iron Feed'].values)\n",
    "ax.xaxis.set_major_locator(mdates.HourLocator())\n",
    "ax.xaxis.set_major_formatter(mdates.DateFormatter('%Y-%m-%d\\n%H:%m:%S'))"
   ]
  },
  {
   "cell_type": "code",
   "execution_count": 353,
   "id": "628ed1c3-659a-4df3-b1c3-97a749799090",
   "metadata": {
    "tags": []
   },
   "outputs": [
    {
     "data": {
      "image/png": "[encoded data removed]",
      "text/plain": [
       "<Figure size 640x480 with 1 Axes>"
      ]
     },
     "metadata": {},
     "output_type": "display_data"
    }
   ],
   "source": [
    "idx = pd.date_range(start='2017-04-02 07:00:20', end='2017-04-02 11:00:00', freq='20s')\n",
    "\n",
    "fig, ax = plt.subplots()\n",
    "ax.plot(idx, df.loc['2017-04-02 07:00:00':'2017-04-02 10:00:00']['% Silica Concentrate'].values)\n",
    "ax.xaxis.set_major_locator(mdates.HourLocator())\n",
    "ax.xaxis.set_major_formatter(mdates.DateFormatter('%Y-%m-%d\\n%H:%m:%S'))"
   ]
  },
  {
   "cell_type": "code",
   "execution_count": 354,
   "id": "0e39958f-bf0f-4ff9-87e8-648186bfbaa9",
   "metadata": {
    "tags": []
   },
   "outputs": [
    {
     "data": {
      "image/png": "[encoded data removed]",
      "text/plain": [
       "<Figure size 640x480 with 1 Axes>"
      ]
     },
     "metadata": {},
     "output_type": "display_data"
    }
   ],
   "source": [
    "idx = pd.date_range(start='2017-04-02 07:00:20', end='2017-04-02 11:00:00', freq='20s')\n",
    "\n",
    "fig, ax = plt.subplots()\n",
    "ax.plot(idx, df.loc['2017-04-02 07:00:00':'2017-04-02 10:00:00']['% Iron Concentrate'].values)\n",
    "ax.xaxis.set_major_locator(mdates.HourLocator())\n",
    "ax.xaxis.set_major_formatter(mdates.DateFormatter('%Y-%m-%d\\n%H:%m:%S'))"
   ]
  },
  {
   "cell_type": "code",
   "execution_count": 355,
   "id": "9b433e15-ae77-486d-91e7-28d570352356",
   "metadata": {
    "tags": []
   },
   "outputs": [],
   "source": [
    "for idx in interpolated_dates:\n",
    "    df.loc[idx, \"% Silica Concentrate\"] = np.median(df.loc[idx][\"% Silica Concentrate\"].values)\n",
    "    df.loc[idx, \"% Iron Concentrate\"] = np.median(df.loc[idx][\"% Iron Concentrate\"].values)"
   ]
  },
  {
   "cell_type": "code",
   "execution_count": 356,
   "id": "c08d0998-ba9d-48cf-b155-229a425b9c0f",
   "metadata": {
    "tags": []
   },
   "outputs": [
    {
     "data": {
      "image/png": "[encoded data removed]",
      "text/plain": [
       "<Figure size 640x480 with 1 Axes>"
      ]
     },
     "metadata": {},
     "output_type": "display_data"
    }
   ],
   "source": [
    "idx = pd.date_range(start='2017-04-02 07:00:20', end='2017-04-02 11:00:00', freq='20s')\n",
    "\n",
    "fig, ax = plt.subplots()\n",
    "ax.plot(idx, df.loc['2017-04-02 07:00:00':'2017-04-02 10:00:00']['% Silica Concentrate'].values)\n",
    "ax.xaxis.set_major_locator(mdates.HourLocator())\n",
    "ax.xaxis.set_major_formatter(mdates.DateFormatter('%Y-%m-%d\\n%H:%m:%S'))"
   ]
  },
  {
   "cell_type": "code",
   "execution_count": 357,
   "id": "0221c2c3-bf1c-4801-b89f-403ffe9f154a",
   "metadata": {
    "tags": []
   },
   "outputs": [
    {
     "data": {
      "image/png": "[encoded data removed]",
      "text/plain": [
       "<Figure size 640x480 with 1 Axes>"
      ]
     },
     "metadata": {},
     "output_type": "display_data"
    }
   ],
   "source": [
    "idx = pd.date_range(start='2017-04-02 07:00:20', end='2017-04-02 11:00:00', freq='20s')\n",
    "\n",
    "fig, ax = plt.subplots()\n",
    "ax.plot(idx, df.loc['2017-04-02 07:00:00':'2017-04-02 10:00:00']['% Iron Concentrate'].values)\n",
    "ax.xaxis.set_major_locator(mdates.HourLocator())\n",
    "ax.xaxis.set_major_formatter(mdates.DateFormatter('%Y-%m-%d\\n%H:%m:%S'))"
   ]
  },
  {
   "cell_type": "code",
   "execution_count": 359,
   "id": "8721d3cd-f38c-4354-9228-ce7f1c305755",
   "metadata": {
    "tags": []
   },
   "outputs": [
    {
     "data": {
      "text/plain": [
       "0"
      ]
     },
     "execution_count": 359,
     "metadata": {},
     "output_type": "execute_result"
    }
   ],
   "source": [
    "df.groupby(df.index.floor('H')).size().reset_index(name='count').query(\"count!=180\")"
   ]
  },
  {
   "cell_type": "code",
   "execution_count": 313,
   "id": "9cded96d",
   "metadata": {
    "tags": []
   },
   "outputs": [
    {
     "data": {
      "text/html": [
       "Waiting for W&B process to finish... <strong style=\"color:green\">(success).</strong>"
      ],
      "text/plain": [
       "<IPython.core.display.HTML object>"
      ]
     },
     "metadata": {},
     "output_type": "display_data"
    },
    {
     "data": {
      "text/html": [
       " View run <strong style=\"color:#cdcd00\">glad-gorge-7</strong> at: <a href=\"https://wandb.ai/grabe/ihm/runs/gpirj1l5\" target=\"_blank\">https://wandb.ai/grabe/ihm/runs/gpirj1l5</a><br/>Synced 7 W&B file(s), 0 media file(s), 0 artifact file(s) and 0 other file(s)"
      ],
      "text/plain": [
       "<IPython.core.display.HTML object>"
      ]
     },
     "metadata": {},
     "output_type": "display_data"
    },
    {
     "data": {
      "text/html": [
       "Find logs at: <code>./wandb/run-20230424_200758-gpirj1l5/logs</code>"
      ],
      "text/plain": [
       "<IPython.core.display.HTML object>"
      ]
     },
     "metadata": {},
     "output_type": "display_data"
    }
   ],
   "source": [
    "run.finish()"
   ]
  },
  {
   "cell_type": "code",
   "execution_count": null,
   "id": "d845a30a",
   "metadata": {},
   "outputs": [],
   "source": []
  }
 ],
 "metadata": {
  "kernelspec": {
   "display_name": "Python 3 (ipykernel)",
   "language": "python",
   "name": "python3"
  },
  "language_info": {
   "codemirror_mode": {
    "name": "ipython",
    "version": 3
   },
   "file_extension": ".py",
   "mimetype": "text/x-python",
   "name": "python",
   "nbconvert_exporter": "python",
   "pygments_lexer": "ipython3",
   "version": "3.8.16"
  }
 },
 "nbformat": 4,
 "nbformat_minor": 5
}
