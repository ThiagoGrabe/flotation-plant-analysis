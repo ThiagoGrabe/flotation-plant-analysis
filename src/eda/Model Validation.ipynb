{
 "cells": [
  {
   "cell_type": "markdown",
   "id": "04f28688-1855-4a08-b565-1d29e9f18fcd",
   "metadata": {
    "tags": []
   },
   "source": [
    "# Quality Prediction in a Mining Process\n",
    "\n",
    "The main goal is to use this data to predict how much impurity is in the ore concentrate. As this impurity is measured every hour, if we can predict how much silica (impurity) is in the ore concentrate, we can help the engineers, giving them early information to take actions (empowering!). Hence, they will be able to take corrective actions in advance (reduce impurity, if it is the case) and also help the environment (reducing the amount of ore that goes to tailings as you reduce silica in the ore concentrate)."
   ]
  },
  {
   "cell_type": "markdown",
   "id": "080efcad-7bb5-4ee9-8b56-a915b13ef154",
   "metadata": {},
   "source": [
    "## Loading the data from _Weight and Biases_ and importing python packages"
   ]
  },
  {
   "cell_type": "code",
   "execution_count": null,
   "id": "cbf1d5a8-b676-4be9-918e-c8d0d8923146",
   "metadata": {
    "tags": []
   },
   "outputs": [],
   "source": [
    "import wandb\n",
    "import mlflow\n",
    "import pandas as pd\n",
    "import numpy as np\n",
    "\n",
    "import matplotlib.pyplot as plt\n",
    "import matplotlib.dates as mdates\n",
    "import matplotlib.colors as mcolors\n",
    "from matplotlib.ticker import FuncFormatter\n",
    "from matplotlib.ticker import PercentFormatter\n",
    "from matplotlib.lines import Line2D \n",
    "import seaborn as sns\n",
    "\n",
    "from importlib import import_module\n",
    "import logging\n",
    "logging.basicConfig(level=logging.INFO, format=\"%(asctime)-15s %(message)s\")\n",
    "logger = logging.getLogger()\n",
    "\n",
    "\n",
    "from statsmodels.tsa.stattools import ccf\n",
    "from statsmodels.tsa.stattools import adfuller\n",
    "from statsmodels.graphics.tsaplots import plot_acf\n",
    "from statsmodels.tsa.seasonal import seasonal_decompose\n",
    "\n",
    "from copy import deepcopy\n",
    "\n",
    "%load_ext autoreload\n",
    "%autoreload 2"
   ]
  },
  {
   "cell_type": "code",
   "execution_count": null,
   "id": "fd87bb60-d88c-40a5-a0d6-bd10b0c21a63",
   "metadata": {
    "tags": []
   },
   "outputs": [],
   "source": [
    "run = wandb.init(project=\"ihm\", group=\"eda\", save_code=True)\n",
    "local_path = wandb.use_artifact(\"test_tx.csv:latest\").file()\n",
    "df = pd.read_csv(local_path, decimal=\",\").dropna()\n",
    "df = df.apply(pd.to_numeric)"
   ]
  },
  {
   "cell_type": "code",
   "execution_count": null,
   "id": "1d829601",
   "metadata": {
    "tags": []
   },
   "outputs": [],
   "source": [
    "df.info()"
   ]
  },
  {
   "cell_type": "code",
   "execution_count": null,
   "id": "8b620099",
   "metadata": {
    "tags": []
   },
   "outputs": [],
   "source": [
    "df.head()"
   ]
  },
  {
   "cell_type": "code",
   "execution_count": null,
   "id": "c4649bdc-d635-4462-80cf-2539dbb54d4b",
   "metadata": {
    "tags": []
   },
   "outputs": [],
   "source": [
    "X_test = deepcopy(df)\n",
    "y_test = X_test.pop(\"% Silica Concentrate_lag_-180\")"
   ]
  },
  {
   "cell_type": "code",
   "execution_count": null,
   "id": "7fe32801-08fb-403d-ba73-e2427319948c",
   "metadata": {
    "tags": []
   },
   "outputs": [],
   "source": [
    "um = ['%', '%','%', '%','%','%', '%', 'm3/h', 'm3/h', 't/h', 'ph', 'kg/cm3', 'Nm3/h', 'Nm3/h', 'Nm3/h', 'Nm3/h', 'Nm3/h', 'Nm3/h', 'Nm3/h', 'mm', 'mm', 'mm', 'mm', 'mm', 'mm', 'mm']\n",
    "UM = dict(zip(df.columns.tolist(),um))\n",
    "UM.update({'Errors':'-'})"
   ]
  },
  {
   "cell_type": "code",
   "execution_count": null,
   "id": "ef10a8ac-8ce7-4ae1-b2e5-88a09c46dc83",
   "metadata": {
    "tags": []
   },
   "outputs": [],
   "source": [
    "model_name = 'random_forest'\n",
    "tag = 'prod'\n",
    "model_local_path = run.use_artifact(f\"{model_name}_export:{tag}\").download()\n",
    "\n",
    "sk_pipe = mlflow.sklearn.load_model(model_local_path)"
   ]
  },
  {
   "cell_type": "code",
   "execution_count": null,
   "id": "c3407e47-8b11-4f4b-a232-916488c81ae8",
   "metadata": {
    "tags": []
   },
   "outputs": [],
   "source": [
    "y_pred = sk_pipe.predict(X_test)"
   ]
  },
  {
   "cell_type": "code",
   "execution_count": null,
   "id": "74055420-7eab-408b-9c55-5140f7795ec8",
   "metadata": {
    "tags": []
   },
   "outputs": [],
   "source": [
    "logger.info(\"Metrics on Testing Set\\n\")\n",
    "for metric_name in ['r2_score','mean_squared_error','mean_absolute_percentage_error','mean_absolute_error']:\n",
    "    module = import_module('sklearn.metrics')\n",
    "    metric = getattr(module,metric_name)\n",
    "    if metric_name == 'mean_squared_error':\n",
    "        metric_value = metric(y_test, y_pred, squared=False)\n",
    "    else:\n",
    "        metric_value = metric(y_test, y_pred)\n",
    "        logger.info(f\"Validation {metric_name}: {round(metric_value,4)}\")\n",
    "        run.log({f\"Validation {metric_name}\": round(metric_value,4)})"
   ]
  },
  {
   "cell_type": "code",
   "execution_count": null,
   "id": "e4137a37-4d53-4b7c-b400-fc3bce4fd66e",
   "metadata": {
    "tags": []
   },
   "outputs": [],
   "source": [
    "sk_pipe"
   ]
  },
  {
   "cell_type": "code",
   "execution_count": null,
   "id": "d504ee58-b26e-48aa-b33c-b638275ee296",
   "metadata": {
    "tags": []
   },
   "outputs": [],
   "source": [
    "# Plot Settings\n",
    "ncols, nrows = 1, 1\n",
    "fig, ax = plt.subplots(ncols=ncols, nrows=nrows, figsize=(12,6))\n",
    "fig.subplots_adjust(hspace=.5, wspace=.35)\n",
    "ax.set_title(\"Model Predictions Overview\", fontsize=20)\n",
    "\n",
    "ax.scatter(y_test, y_pred, color='b')\n",
    "# Plot settings\n",
    "ax.set_xlabel('Test % Silica', fontsize=14)\n",
    "ax.set_ylabel('Predicted % Silica', fontsize=14)\n",
    "ax.tick_params(axis='both', labelsize=14)\n",
    "ax.set_xlim(0,6)\n",
    "ax.set_ylim(0,6)\n",
    "plt.savefig(f\"True Values vs Predicted Values\", dpi=300)\n",
    "plt.show()"
   ]
  },
  {
   "cell_type": "code",
   "execution_count": null,
   "id": "8977d795-f4cd-4947-8095-1c4ecaa26d02",
   "metadata": {
    "tags": []
   },
   "outputs": [],
   "source": [
    "# Plot Settings\n",
    "ncols, nrows = 1, 1\n",
    "fig, ax = plt.subplots(ncols=ncols, nrows=nrows, figsize=(12,6))\n",
    "fig.subplots_adjust(hspace=.5, wspace=.35)\n",
    "hist = y_test-y_pred\n",
    "ax.set_title(\"Model Predictions Distribution\", fontsize=20)\n",
    "n, bins, patches = ax.hist(hist, weights=np.ones(len(hist)) / len(hist),\n",
    "                           bins=100,  color='b', alpha=1)\n",
    "ax.set_xlabel(\"Absolute Error % Silica\", fontsize=14)\n",
    "ax.tick_params(axis='both', labelsize=14)\n",
    "ax.yaxis.set_major_formatter(PercentFormatter(1))\n",
    "ax.set_xlim(-4,4)\n",
    "plt.savefig(f\"Error Distribution\", dpi=300)\n",
    "plt.show()"
   ]
  },
  {
   "cell_type": "code",
   "execution_count": null,
   "id": "aa0c9d87-5a5b-4169-b2ec-b08dcba0dbc6",
   "metadata": {
    "tags": []
   },
   "outputs": [],
   "source": [
    "local_path = wandb.use_artifact(\"ts.csv:latest\").file()\n",
    "ts = pd.read_csv(local_path, decimal=\",\",parse_dates=[\"date\"], index_col=\"date\").dropna()\n",
    "ts = ts.apply(pd.to_numeric)"
   ]
  },
  {
   "cell_type": "code",
   "execution_count": null,
   "id": "7d3bb4c7-63b2-4fe1-b6cc-0527fc99ab60",
   "metadata": {
    "tags": []
   },
   "outputs": [],
   "source": [
    "ts.head()"
   ]
  },
  {
   "cell_type": "code",
   "execution_count": null,
   "id": "bd7d1346-9235-4315-ade5-9ec9f6aa5305",
   "metadata": {
    "tags": []
   },
   "outputs": [],
   "source": [
    "bins = [0, 6, 12, 18, 24]\n",
    "labels = ['Shift A', 'Shift B', 'Shift C', 'Shift D']\n",
    "ts['Shift'] = pd.cut(ts.index.hour, bins, labels=labels, right=False)\n",
    "\n",
    "bins = [0, 2.9, 3.9, 10]\n",
    "labels = ['Lower', 'Ok', 'Higher']\n",
    "ts['% Silica Requirement'] = pd.cut(ts['% Silica Concentrate_lag_-180'], bins=bins, labels=labels, right=False)\n",
    "\n",
    "# Bining Production Levels\n",
    "ts['Production Level'] = np.nan\n",
    "p_max = np.max(df['Ore Pulp Flow'])\n",
    "bins = [0, 380, 410, p_max]\n",
    "labels = ['Low Production', 'Mid Production', 'High Production']\n",
    "ts['Production Level'] = pd.cut(ts['Ore Pulp Flow'], bins=bins, labels=labels)\n",
    "logger.info('Finished Basic Feature Engineering.')"
   ]
  },
  {
   "cell_type": "code",
   "execution_count": null,
   "id": "dc8c06ae-1d2b-4e4b-88ec-43383e0e682a",
   "metadata": {
    "tags": []
   },
   "outputs": [],
   "source": [
    "ts['% Silica Requirement'].value_counts()/len(ts)"
   ]
  },
  {
   "cell_type": "code",
   "execution_count": null,
   "id": "bf3a0663-2ed1-44d8-a269-2024107dbf1e",
   "metadata": {
    "tags": []
   },
   "outputs": [],
   "source": [
    "ts['Predictions'] = sk_pipe.predict(ts.select_dtypes(include='number').drop('% Silica Concentrate_lag_-180', axis=1))"
   ]
  },
  {
   "cell_type": "code",
   "execution_count": null,
   "id": "4ee3bd5f-f375-4a46-a8da-ae78eaafdedc",
   "metadata": {
    "tags": []
   },
   "outputs": [],
   "source": [
    "ts['Errors'] = ts['Predictions']-ts['% Silica Concentrate_lag_-180']"
   ]
  },
  {
   "cell_type": "code",
   "execution_count": null,
   "id": "02c523b0-e93e-4d6d-bef7-4bf9fe6da2a6",
   "metadata": {
    "tags": []
   },
   "outputs": [],
   "source": [
    "fig, ax = plt.subplots(nrows=1, ncols=1, figsize=(12, 7))\n",
    "ax.set_title('Errors Based on Production Level and Shifts', fontsize=20)\n",
    "sns.boxplot(data=ts, x=\"Errors\", y='Shift', hue='Production Level', ax=ax)\n",
    "plt.savefig(f\"Errors Based on Production and Shift\", dpi=300)"
   ]
  },
  {
   "cell_type": "code",
   "execution_count": null,
   "id": "ebaf5f7d-3494-4fb7-85c1-d3d90c42abce",
   "metadata": {
    "tags": []
   },
   "outputs": [],
   "source": [
    "fig, ax = plt.subplots(nrows=1, ncols=1, figsize=(12, 7))\n",
    "ax.set_title('Errors Based on Silica Requirements and Production Levels', fontsize=20)\n",
    "sns.boxplot(data=ts, x=\"Errors\", y='% Silica Requirement', hue='Production Level', ax=ax)\n",
    "plt.savefig(f\"Errors Based on Requirements and Shift\", dpi=300)"
   ]
  },
  {
   "cell_type": "code",
   "execution_count": null,
   "id": "ff867c4d-b626-4aa5-9ffd-0e39bf7f2e5e",
   "metadata": {
    "tags": []
   },
   "outputs": [],
   "source": [
    "binned_hist_plot(df=ts, target_var='Errors', split_var='% Silica Requirement', color_list=['#A27035', '#242331', '#DDCA7D'], bins=150)"
   ]
  },
  {
   "cell_type": "code",
   "execution_count": null,
   "id": "d6123d22-8eca-426b-b7ca-34e2c71ff303",
   "metadata": {
    "tags": []
   },
   "outputs": [],
   "source": [
    "fig, ax = plt.subplots(nrows=1, ncols=1, figsize=(20, 7))\n",
    "col = '% Silica Concentrate_lag_-180'\n",
    "ax.plot(ts[['% Silica Concentrate_lag_-180']], label='% Silica')\n",
    "ax.plot(ts[['Predictions']], color='Orange', label='Predictions')\n",
    "ax.xaxis.set_major_locator(mdates.MonthLocator())\n",
    "ax.xaxis.set_major_formatter(mdates.DateFormatter('%Y-%m-%d'))\n",
    "ax.set_ylabel(f\"{col} ({UM[col]})\", fontdict={'fontsize':14})\n",
    "ax.set_title(f'Model Performance over 2017 Data\\nPredicting % Silica Concentrate Lagged 1 Hour', fontdict={'fontsize':16})\n",
    "ax.set_ylim(0,6)\n",
    "plt.tight_layout(pad=1.08, h_pad=.8, w_pad=.5, rect=[0, 0.03, 1, 0.95])\n",
    "ax.legend(loc='upper left', fontsize=12)\n",
    "plt.savefig(f\"Model Performance 2017\", dpi=300)\n",
    "plt.show()"
   ]
  },
  {
   "cell_type": "code",
   "execution_count": null,
   "id": "bbbbeadd-07ae-4aa7-ae24-1771f9ccbd24",
   "metadata": {
    "tags": []
   },
   "outputs": [],
   "source": [
    "fig, ax = plt.subplots(nrows=1, ncols=1, figsize=(20, 7))\n",
    "col = '% Silica Concentrate_lag_-180'\n",
    "ax.plot(ts['2017-07'][['% Silica Concentrate_lag_-180']], label='% Silica')\n",
    "ax.plot(ts['2017-07'][['Predictions']], color='Orange', label='Predictions')\n",
    "ax.xaxis.set_major_locator(mdates.WeekdayLocator())\n",
    "ax.xaxis.set_major_formatter(mdates.DateFormatter('%Y-%m-%d'))\n",
    "ax.set_ylabel(f\"{col} ({UM[col]})\", fontdict={'fontsize':14})\n",
    "ax.set_title(f'Model Performance over Jul 2017 Data\\nPredicting % Silica Concentrate Lagged 1 Hour', fontdict={'fontsize':16})\n",
    "ax.set_ylim(0,6)\n",
    "ax.legend()\n",
    "plt.tight_layout(pad=1.08, h_pad=.8, w_pad=.5, rect=[0, 0.03, 1, 0.95])\n",
    "plt.savefig(f\"Model Performance Jul-2017\", dpi=300)\n",
    "plt.show()"
   ]
  },
  {
   "cell_type": "code",
   "execution_count": null,
   "id": "d124a8b6-64d8-4d87-a493-d4b7b046ffae",
   "metadata": {
    "tags": []
   },
   "outputs": [],
   "source": [
    "fig, ax = plt.subplots(nrows=1, ncols=1, figsize=(20, 7))\n",
    "col = '% Silica Concentrate_lag_-180'\n",
    "ax.plot(ts['2017-07-01':'2017-07-02']['% Silica Concentrate_lag_-180'], label='% Silica')\n",
    "ax.plot(ts['2017-07-01':'2017-07-02']['Predictions'], color='Orange', label='Predictions')\n",
    "ax.xaxis.set_major_locator(mdates.DayLocator())\n",
    "ax.xaxis.set_major_formatter(mdates.DateFormatter('%Y-%m-%d'))\n",
    "ax.set_ylabel(f\"{col} ({UM[col]})\", fontdict={'fontsize':14})\n",
    "ax.set_title(f'Model Performance over Jul-2017 Data\\nPredicting % Silica Concentrate Lagged 1 Hour', fontdict={'fontsize':16})\n",
    "ax.set_ylim(0,6)\n",
    "plt.tight_layout(pad=1.08, h_pad=.8, w_pad=.5, rect=[0, 0.03, 1, 0.95])\n",
    "ax.legend()\n",
    "plt.savefig(f\"Model Performance Jul-2017 Detailed\", dpi=300)\n",
    "plt.show()"
   ]
  },
  {
   "cell_type": "code",
   "execution_count": null,
   "id": "665f53fd-8f9d-45d8-a9b0-aaa2602d01ce",
   "metadata": {},
   "outputs": [],
   "source": []
  },
  {
   "cell_type": "code",
   "execution_count": null,
   "id": "4a9cf73c-3f6b-42e2-99c9-d24a7441ab4e",
   "metadata": {
    "tags": []
   },
   "outputs": [],
   "source": [
    "fig, ax = plt.subplots(nrows=1, ncols=1, figsize=(20, 7))\n",
    "col = '% Silica Concentrate_lag_-180'\n",
    "ax.plot(ts['2017-07-15':'2017-07-16'][['% Silica Concentrate_lag_-180']], label='% Silica')\n",
    "ax.plot(ts['2017-07-15':'2017-07-16'][['Predictions']], color='Orange', label='Predictions')\n",
    "ax.xaxis.set_major_locator(mdates.DayLocator())\n",
    "ax.xaxis.set_major_formatter(mdates.DateFormatter('%Y-%m-%d'))\n",
    "ax.set_ylabel(f\"{col} ({UM[col]})\", fontdict={'fontsize':14})\n",
    "ax.set_title(f'Model Performance over Jul 1st 2017 Data\\nPredicting % Silica Concentrate Lagged 1 Hour', fontdict={'fontsize':16})\n",
    "ax.set_ylim(0,6)\n",
    "plt.tight_layout(pad=1.08, h_pad=.8, w_pad=.5, rect=[0, 0.03, 1, 0.95])\n",
    "# plt.savefig(f\"Model Performance Jul-2017 Detailed\", dpi=300)\n",
    "plt.show()"
   ]
  },
  {
   "cell_type": "code",
   "execution_count": null,
   "id": "74f5aa17-6334-4f7f-94c3-2b6318cea450",
   "metadata": {
    "tags": []
   },
   "outputs": [],
   "source": [
    "fig, ax = plt.subplots(nrows=1, ncols=1, figsize=(20, 7))\n",
    "col = '% Silica Concentrate_lag_-180'\n",
    "ax.plot(ts[['% Silica Concentrate_lag_-180']], label='% Silica')\n",
    "ax.plot(ts[['Predictions']], color='Orange', label='Predictions')\n",
    "ax.plot(ts['2017-07-01 07:00:00':'2017-07-01 10:00:00'][['% Silica Concentrate_lag_-180','Predictions']])\n",
    "ax.xaxis.set_major_locator(mdates.DayLocator())\n",
    "ax.xaxis.set_major_formatter(mdates.DateFormatter('%Y-%m-%d'))\n",
    "ax.set_ylabel(f\"{col} ({UM[col]})\", fontdict={'fontsize':14})\n",
    "ax.set_title(f'{col} Validation', fontdict={'fontsize':16})\n",
    "ax.set_ylim(0,6)\n",
    "plt.tight_layout(pad=1.08, h_pad=.8, w_pad=.5, rect=[0, 0.03, 1, 0.95])\n",
    "plt.show()"
   ]
  },
  {
   "cell_type": "code",
   "execution_count": null,
   "id": "94964d6a-d754-480c-83ef-ea993b68e79b",
   "metadata": {
    "tags": []
   },
   "outputs": [],
   "source": [
    "fig, ax = plt.subplots(nrows=1, ncols=1, figsize=(20, 7))\n",
    "col = '% Silica Concentrate_lag_-180'\n",
    "ax.plot(ts[['% Silica Concentrate_lag_-180']], label='% Silica')\n",
    "ax.plot(ts[['Predictions']], color='Orange', label='Predictions')\n",
    "ax.plot(ts['2017-08-01':][['% Silica Concentrate_lag_-180','Predictions']])\n",
    "ax.xaxis.set_major_locator(mdates.MonthLocator())\n",
    "ax.xaxis.set_major_formatter(mdates.DateFormatter('%Y-%m'))\n",
    "ax.set_ylabel(f\"{col} ({UM[col]})\", fontdict={'fontsize':14})\n",
    "ax.set_title(f'{col} Validation', fontdict={'fontsize':16})\n",
    "ax.set_ylim(0,6)\n",
    "plt.tight_layout(pad=1.08, h_pad=.8, w_pad=.5, rect=[0, 0.03, 1, 0.95])\n",
    "plt.show()"
   ]
  },
  {
   "cell_type": "code",
   "execution_count": null,
   "id": "141b3639-df64-4148-b6fa-94f392b7e96e",
   "metadata": {
    "tags": []
   },
   "outputs": [],
   "source": [
    "fig, ax = plt.subplots(nrows=1, ncols=1, figsize=(20, 7))\n",
    "col = '% Silica Concentrate_lag_-180'\n",
    "ax.plot(ts[['% Silica Concentrate_lag_-180']], label='% Silica')\n",
    "ax.plot(ts[['Predictions']], color='Orange', label='Predictions')\n",
    "ax.plot(ts['2017-08-01':'2017-08-02'][['% Silica Concentrate_lag_-180','Predictions']])\n",
    "ax.xaxis.set_major_locator(mdates.WeekdayLocator())\n",
    "ax.xaxis.set_major_formatter(mdates.DateFormatter('%Y-%m-%d'))\n",
    "ax.set_ylabel(f\"{col} ({UM[col]})\", fontdict={'fontsize':14})\n",
    "ax.set_title(f'{col} Validation', fontdict={'fontsize':16})\n",
    "ax.set_ylim(0,6)\n",
    "plt.tight_layout(pad=1.08, h_pad=.8, w_pad=.5, rect=[0, 0.03, 1, 0.95])\n",
    "plt.show()"
   ]
  },
  {
   "cell_type": "code",
   "execution_count": null,
   "id": "47d5daff-a42f-45e1-a7f3-5abaa06a312e",
   "metadata": {
    "tags": []
   },
   "outputs": [],
   "source": [
    "fig, ax = plt.subplots(nrows=1, ncols=1, figsize=(20, 7))\n",
    "col = '% Silica Concentrate_lag_-180'\n",
    "ax.plot(ts[['% Silica Concentrate_lag_-180']], label='% Silica')\n",
    "ax.plot(ts[['Predictions']], color='Orange', label='Predictions')\n",
    "ax.plot(ts['2017-04-02 07:00:00':'2017-04-02 10:00:00'][['% Silica Concentrate_lag_-180','Predictions']])\n",
    "ax.xaxis.set_major_locator(mdates.WeekdayLocator())\n",
    "ax.xaxis.set_major_formatter(mdates.DateFormatter('%Y-%m-%d'))\n",
    "ax.set_ylabel(f\"{col} ({UM[col]})\", fontdict={'fontsize':14})\n",
    "ax.set_title(f'{col} Validation', fontdict={'fontsize':16})\n",
    "ax.set_ylim(0,6)\n",
    "plt.tight_layout(pad=1.08, h_pad=.8, w_pad=.5, rect=[0, 0.03, 1, 0.95])\n",
    "plt.show()"
   ]
  },
  {
   "cell_type": "code",
   "execution_count": null,
   "id": "e5d1c70a-19a9-4ff0-8009-ed398b5059b8",
   "metadata": {},
   "outputs": [],
   "source": []
  },
  {
   "cell_type": "code",
   "execution_count": null,
   "id": "6d725bd7-11cf-4d0b-a0b0-69212019922e",
   "metadata": {},
   "outputs": [],
   "source": []
  },
  {
   "cell_type": "code",
   "execution_count": null,
   "id": "3cd20143-7766-4544-85d1-b4b3c1c28278",
   "metadata": {
    "tags": []
   },
   "outputs": [],
   "source": [
    "def hist_line_plot(df: pd.DataFrame, target_var: str, y_label: str = '', xaxis_formater: str = 'day', color_dict: dict=None, resample: str = '1d', bins: int = 150, subplot_position: list = [0.65, 0.6, .2, .2]):\n",
    "\n",
    "    VAR = target_var\n",
    "    if color_dict:\n",
    "        COLORS = color_dict\n",
    "    else:\n",
    "        COLORS = {target_var : '#7A542E'}\n",
    "\n",
    "    # Plot Settings\n",
    "    ncols, nrows = 1, 1\n",
    "    fig, ax = plt.subplots(ncols=ncols, nrows=nrows, figsize=(12,6))\n",
    "    fig.subplots_adjust(hspace=.5, wspace=.35)\n",
    "\n",
    "    hist = df[target_var].values\n",
    "\n",
    "    # Ore Pulp Flow - Subgraph 01\n",
    "    a = plt.axes(subplot_position)\n",
    "    ax2 = plt.gca()\n",
    "    ax2.set_title(target_var)\n",
    "    ax2.plot(df[target_var], color=COLORS[VAR], alpha=.2)\n",
    "    ax2.plot(df[target_var].resample(resample).mean(), color=COLORS[VAR], label=target_var)\n",
    "    if xaxis_formater == 'month':\n",
    "        ax2.xaxis.set_major_locator(mdates.MonthLocator([5,7,9]))\n",
    "        ax2.xaxis.set_major_formatter(mdates.DateFormatter('%Y-%m'))\n",
    "    if xaxis_formater == 'day':\n",
    "        ax2.xaxis.set_major_locator(mdates.HourLocator())\n",
    "        ax2.xaxis.set_major_formatter(mdates.DateFormatter('%Y-%m-%d'))\n",
    "    ax2.set_ylabel(f\"{y_label} ({UM[target_var]})\", fontsize=8)\n",
    "    ax2.tick_params(axis='both', labelsize=8)\n",
    "\n",
    "\n",
    "    # Plot settings\n",
    "    ax.set_title(target_var, fontsize=20)\n",
    "    n, bins, patches = ax.hist(hist, weights=np.ones(len(hist)) / len(hist),\n",
    "                               bins=bins,  color=COLORS[VAR], alpha=1, label=target_var)\n",
    "    ax.set_xlabel(f\"{y_label} ({UM[target_var]})\", fontsize=14)\n",
    "    ax.tick_params(axis='both', labelsize=14)\n",
    "    ax.yaxis.set_major_formatter(PercentFormatter(1))\n",
    "    ax.legend(loc='upper left', fontsize=12)\n",
    "\n",
    "    # plt.savefig(os.path.join(report_plots, 'ng_flow_power_plant_details'),dpi=300)\n",
    "    plt.show()\n",
    "    \n",
    "def binned_hist_plot(df: pd.DataFrame, target_var: str, split_var: str, y_label: str = '', bins: int = 150, color_list: list = None):\n",
    "    \n",
    "    VAR = target_var\n",
    "    COLORS = {target_var : '#7A542E'}\n",
    "    \n",
    "    if color_list is None:\n",
    "        color_list = ['steelblue'] * len(df[split_var].unique().tolist())\n",
    "    \n",
    "    # Plot Settings\n",
    "    ncols, nrows = 1, 1\n",
    "    fig, ax = plt.subplots(ncols=ncols, nrows=nrows, figsize=(12,6))\n",
    "    fig.subplots_adjust(hspace=.5, wspace=.35)\n",
    "\n",
    "    for split_value, color in zip(df[split_var].unique().tolist(), color_list):\n",
    "        hist = df.loc[df[split_var]==split_value][target_var].values\n",
    "         \n",
    "        ax.set_title(target_var, fontsize=20)\n",
    "        n, bins, patches = ax.hist(hist, weights=np.ones(len(hist)) / len(hist),\n",
    "                                   bins=bins,  color=color, alpha=1, label=f'{target_var}\\n{split_var} = {split_value}')\n",
    "        \n",
    "    \n",
    "    # Plot settings\n",
    "    ax.set_xlabel(f\"{y_label} ({UM[target_var]})\", fontsize=14)\n",
    "    ax.tick_params(axis='both', labelsize=14)\n",
    "    ax.yaxis.set_major_formatter(PercentFormatter(1))\n",
    "    ax.legend(loc='upper left', fontsize=12)\n",
    "    \n",
    "    plt.show()\n",
    "    \n",
    "def scatter_plot(df: pd.DataFrame, var1: str, var2: str, x_label: str = '', y_label: str = '', title: str = None, color:str =  '#7A542E', legend:bool = False):\n",
    "\n",
    "    # Plot Settings\n",
    "    ncols, nrows = 1, 1\n",
    "    fig, ax = plt.subplots(ncols=ncols, nrows=nrows, figsize=(12,6))\n",
    "    fig.subplots_adjust(hspace=.5, wspace=.35)\n",
    "    ax.set_title(title, fontsize=20)\n",
    "\n",
    "    ax.scatter(df[var1], df[var2], color=color, label=f'{var1} x {var2}')\n",
    "    # Plot settings\n",
    "    ax.set_xlabel(f\"{x_label} ({UM[var1]})\", fontsize=14)\n",
    "    ax.set_ylabel(f\"{y_label} ({UM[var2]})\", fontsize=14)\n",
    "    ax.tick_params(axis='both', labelsize=14)\n",
    "    if legend:\n",
    "        ax.legend(loc='best', fontsize=12)\n",
    "    plt.show()\n",
    "    \n",
    "def discretized_scatter_plot(df: pd.DataFrame, var1: str, var2: str, split_var: str, x_label: str = '', y_label: str = '', title: str = None, color_list:list =['#7A542E'], marker_list: list = ['o'], legend:bool = False):\n",
    "    \n",
    "    # Plot Settings\n",
    "    ncols, nrows = 1, 1\n",
    "    split_values = df[split_var].unique().tolist()\n",
    "    if len(color_list) == 1:\n",
    "        color_list = color_list[0] * len(split_values)\n",
    "        \n",
    "    color_dict = dict(zip(split_values, color_list))\n",
    "        \n",
    "    if len(marker_list) == 1:\n",
    "        marker_list = marker_list[0] * len(split_values)\n",
    "    \n",
    "    marker_dict = dict(zip(split_values, marker_list))\n",
    "        \n",
    "    custom_legend=[]\n",
    "    for split_value in split_values:\n",
    "        custom_legend.append(Line2D([0], [0], color=color_dict[split_value], lw=4))\n",
    "\n",
    "    df['COLOR']  = df[split_var].map(color_dict)\n",
    "    df['MARKER'] = df[split_var].map(marker_dict)\n",
    "        \n",
    "    \n",
    "    fig, ax = plt.subplots(ncols=ncols, nrows=nrows, figsize=(12,6))\n",
    "    fig.subplots_adjust(hspace=.5, wspace=.35)\n",
    "    ax.set_title(title, fontsize=20)\n",
    "    \n",
    "    ax.scatter(df[var1], df[var2], c=df['COLOR'], label=f'{var1} x {var2}')\n",
    "    # Plot settings\n",
    "    ax.set_xlabel(f\"{x_label} ({UM[var1]})\", fontsize=14)\n",
    "    ax.set_ylabel(f\"{y_label} ({UM[var2]})\", fontsize=14)\n",
    "    ax.tick_params(axis='both', labelsize=14)\n",
    "    if legend:\n",
    "        ax.legend(custom_legend, split_values, loc='best')\n",
    "    plt.show()\n",
    "    \n",
    "def crosscorr(x: pd.Series, y: pd.Series, lag: int=0) -> float:\n",
    "    \"\"\" Lag-N cross correlation. \n",
    "    Shifted data (y) filled with NaNs \n",
    "\n",
    "    Parameters\n",
    "    ----------\n",
    "    lag : int, default 0\n",
    "    x, y : pandas.Series objects of equal length\n",
    "    Returns\n",
    "    ----------\n",
    "    crosscorr : float\n",
    "    \"\"\"\n",
    "    return x.corr(y.shift(lag))\n",
    "\n",
    "def adf_test(df, TARGET: str = ''):\n",
    "    result = adfuller(df.values)\n",
    "    print(f'ADF Test: {TARGET}')\n",
    "    print('ADF Statistics: %f' % result[0])\n",
    "    print('p-value: %f' % result[1])\n",
    "    print('Critical values:')\n",
    "    for key, value in result[4].items():\n",
    "        print('\\t%s: %.3f' % (key, value))\n",
    "        \n",
    "\n",
    "def plot_ccf_manual(target, exog, nlags=10):\n",
    "    \"\"\"PLot CCF using manual calculations\"\"\"\n",
    "    lags = []\n",
    "    ccfs = []\n",
    "    for i in np.arange(0,nlags+1):\n",
    "        lags.append(i)\n",
    "        ccfs.append(crosscorr(target, exog, lag=i))\n",
    "\n",
    "    _ = plt.stem(lags, ccfs, use_line_collection=True)\n",
    "    _ = plt.title(f\"Cross Correlation (Manual): {target.name} & {exog.name}\")\n",
    "    \n",
    "def plot_ccf_sm(target, exog, unbiased=False, nlags=10, save_fig=False, name=''):\n",
    "    \"\"\"Plot CCF using Statsmodels\"\"\"\n",
    "    ccfs = ccf(target, exog, unbiased=False)[:nlags+1]\n",
    "    lags = np.arange(len(ccfs))[:nlags+1]\n",
    "    _ = plt.stem(lags, ccfs, use_line_collection=True)\n",
    "    _ = plt.title(f\"Cross Correlation: {target.name} & {exog.name}\")\n",
    "    _ = plt.ylabel('Cross Correlation Value')\n",
    "    _ = plt.xlabel('N lags')\n",
    "    \n",
    "    if save_fig:\n",
    "        plt.savefig(os.path.join(save_plots_folder, f'cross-corr-plot-bfg-time-series-data-{name[0:7]}.png'), dpi=300, facecolor='white')\n",
    "    plt.show()\n",
    "    return"
   ]
  },
  {
   "cell_type": "code",
   "execution_count": null,
   "id": "a4a64c6c-51a6-40cc-a7c5-cc5b89c4d4fe",
   "metadata": {
    "tags": []
   },
   "outputs": [],
   "source": [
    "df.columns"
   ]
  },
  {
   "cell_type": "code",
   "execution_count": null,
   "id": "281d0c2a-3c5b-4f96-9bb3-9532f58ec346",
   "metadata": {
    "tags": []
   },
   "outputs": [],
   "source": [
    "hist_line_plot(df=df,\n",
    "               target_var='% Iron Concentrate',\n",
    "               y_label='Iron Concentration',\n",
    "               xaxis_formater='month',\n",
    "               resample='1D',\n",
    "               bins=90)"
   ]
  },
  {
   "cell_type": "code",
   "execution_count": null,
   "id": "8ba864c5-a635-471d-b7ca-31c2a1a04782",
   "metadata": {
    "tags": []
   },
   "outputs": [],
   "source": [
    "hist_line_plot(df=df,\n",
    "               target_var='% Silica Concentrate',\n",
    "               y_label='Silica Concentration',\n",
    "               xaxis_formater='month',\n",
    "               resample='1D',\n",
    "               bins=90)"
   ]
  },
  {
   "cell_type": "code",
   "execution_count": null,
   "id": "0c5b3f2a-7488-43bc-84ec-6c40899a70c6",
   "metadata": {
    "tags": []
   },
   "outputs": [],
   "source": [
    "hist_line_plot(df=df,\n",
    "               target_var='Ore Pulp Flow',\n",
    "               y_label='Production',\n",
    "               xaxis_formater='month',\n",
    "               resample='1D',\n",
    "               bins=90)"
   ]
  },
  {
   "cell_type": "code",
   "execution_count": null,
   "id": "93edb92a-03d3-4a7a-b8f7-4711dc755bab",
   "metadata": {
    "tags": []
   },
   "outputs": [],
   "source": [
    "hist_line_plot(df=df,\n",
    "               target_var='% Iron Feed',\n",
    "               y_label='Iron Feed',\n",
    "               xaxis_formater='month',\n",
    "               resample='1D',\n",
    "               bins=30)"
   ]
  },
  {
   "cell_type": "code",
   "execution_count": null,
   "id": "5f9b6111-7f0c-4fbf-bc41-2eb3bedf40c8",
   "metadata": {
    "tags": []
   },
   "outputs": [],
   "source": [
    "hist_line_plot(df=df,\n",
    "               target_var='% Silica Feed',\n",
    "               y_label='Silica Feed',\n",
    "               xaxis_formater='month',\n",
    "               resample='1D',\n",
    "               bins=30)"
   ]
  },
  {
   "cell_type": "code",
   "execution_count": null,
   "id": "db589a96-bd26-475b-b22f-742c5a0e3cae",
   "metadata": {
    "tags": []
   },
   "outputs": [],
   "source": [
    "hist_line_plot(df=df,\n",
    "               target_var='Starch Flow',\n",
    "               y_label='Starch Flow',\n",
    "               xaxis_formater='month',\n",
    "               resample='1D',\n",
    "               bins=100,\n",
    "               subplot_position=[0.68, 0.6, .2, .2])"
   ]
  },
  {
   "cell_type": "code",
   "execution_count": null,
   "id": "981c725e-1e9b-40f0-8c9a-30a4eb60534c",
   "metadata": {
    "tags": []
   },
   "outputs": [],
   "source": [
    "hist_line_plot(df=df,\n",
    "               target_var='Amina Flow',\n",
    "               y_label='Amina Flow',\n",
    "               xaxis_formater='month',\n",
    "               resample='1D',\n",
    "               bins=100,\n",
    "              subplot_position=[0.69, 0.63, .2, .2])"
   ]
  },
  {
   "cell_type": "code",
   "execution_count": null,
   "id": "ab4981b6-2b60-4ca3-b93e-128a2ee9e748",
   "metadata": {
    "tags": []
   },
   "outputs": [],
   "source": [
    "binned_hist_plot(df=df, target_var='% Iron Concentrate', split_var='Production Level', color_list=['#A27035', '#242331', '#DDCA7D'], bins=90)"
   ]
  },
  {
   "cell_type": "code",
   "execution_count": null,
   "id": "31a913ba-d34d-44d8-ba58-ea850bfe2f1c",
   "metadata": {
    "tags": []
   },
   "outputs": [],
   "source": [
    "binned_hist_plot(df=df, target_var='% Iron Concentrate', split_var='Shift', color_list=['#A27035', '#242331', '#DDCA7D', '#A499BE'], bins=90)"
   ]
  },
  {
   "cell_type": "code",
   "execution_count": null,
   "id": "9648c351-8910-4d7e-88d0-0334d937bc05",
   "metadata": {
    "tags": []
   },
   "outputs": [],
   "source": [
    "binned_hist_plot(df=df, target_var='Ore Pulp Flow', split_var='Shift', color_list=['#A27035', '#242331', '#DDCA7D', '#A499BE'], bins=150)"
   ]
  },
  {
   "cell_type": "code",
   "execution_count": null,
   "id": "52bfb964-1917-4539-8a32-88b58baf2ff2",
   "metadata": {
    "tags": []
   },
   "outputs": [],
   "source": [
    "scatter_plot(df=df, var1='% Iron Concentrate', var2='% Silica Concentrate', x_label='Iron Concentrate', y_label='Silica Concentrate', title='Iron and Silica Concentration')"
   ]
  },
  {
   "cell_type": "code",
   "execution_count": null,
   "id": "efd95a90-b40a-4a66-9d68-130b8076b75b",
   "metadata": {
    "tags": []
   },
   "outputs": [],
   "source": [
    "scatter_plot(df=df, var2='% Iron Concentrate', var1='% Iron Feed', x_label='Iron Feed', y_label='Iron Concentrate', title='Iron Feed and Iron Concentration')"
   ]
  },
  {
   "cell_type": "code",
   "execution_count": null,
   "id": "b22393ff-a174-4c0c-90a8-5efa337ce0b4",
   "metadata": {
    "tags": []
   },
   "outputs": [],
   "source": [
    "df_ = deepcopy(df)\n",
    "df_['% Iron Concentrate'] = df['% Iron Concentrate'].shift(180)\n",
    "scatter_plot(df=df_, var2='% Iron Concentrate', var1='% Iron Feed', x_label='% Iron Feed', y_label='% Iron Concentrate', title='Iron Feed and Iron Concentration')\n",
    "del df_"
   ]
  },
  {
   "cell_type": "code",
   "execution_count": null,
   "id": "51cdef9b-329b-4bfb-8ec7-53267032b3c0",
   "metadata": {
    "tags": []
   },
   "outputs": [],
   "source": [
    "df_ = deepcopy(df)\n",
    "df_['% Iron Concentrate'] = df['% Iron Concentrate'].shift(360)\n",
    "scatter_plot(df=df_, var2='% Iron Concentrate', var1='% Iron Feed', x_label='% Iron Feed', y_label='% Iron Concentrate', title='Iron Feed and Iron Concentration')\n",
    "del df_"
   ]
  },
  {
   "cell_type": "code",
   "execution_count": null,
   "id": "7f251a9a-a57f-478e-8709-b34c885c9d2e",
   "metadata": {
    "tags": []
   },
   "outputs": [],
   "source": [
    "for idx, col in enumerate(df.columns.tolist()):\n",
    "    try:\n",
    "        if idx >=2:\n",
    "            df_ = deepcopy(df.resample('1H').mean())\n",
    "            scatter_plot(df=df_, var2='% Silica Concentrate', var1=col, x_label=col, y_label='% Silica Concentrate', title=f'{col} and % Silica Concentrate')\n",
    "            del df_\n",
    "        else:\n",
    "            scatter_plot(df=df, var2='% Silica Concentrate', var1=col, x_label=col, y_label='% Silica Concentrate', title=f'{col} and % Silica Concentrate')\n",
    "    except:\n",
    "        continue"
   ]
  },
  {
   "cell_type": "code",
   "execution_count": null,
   "id": "d5e767e9-1891-4eb3-b36f-284ad5744add",
   "metadata": {
    "tags": []
   },
   "outputs": [],
   "source": [
    "resample_dict = dict(zip(df.select_dtypes(include='number').columns.tolist(), ['mean']*(len(df)-2)))\n",
    "resample_dict.update(zip(df.select_dtypes(exclude='number').columns.tolist(), ['first','first']))\n",
    "grouped_df = df.groupby([pd.Grouper(freq='h')]).agg(resample_dict)\n",
    "for idx, col in enumerate(df.columns.tolist()):\n",
    "    discretized_scatter_plot(df=grouped_df, var1=col, var2='% Silica Concentrate', split_var='Production Level', legend=True, x_label=col, y_label='% Silica Concentrate', title=f'{col} and % Silica Concentrate', color_list=['#A27035', '#242331', '#DDCA7D'])"
   ]
  },
  {
   "cell_type": "code",
   "execution_count": null,
   "id": "9d143efb-af9c-4be1-891f-12bb1fcef304",
   "metadata": {
    "tags": []
   },
   "outputs": [],
   "source": [
    "resample_dict = dict(zip(df.select_dtypes(include='number').columns.tolist(), ['mean']*(len(df)-2)))\n",
    "resample_dict.update(zip(df.select_dtypes(exclude='number').columns.tolist(), ['first','first']))\n",
    "grouped_df = df.groupby([pd.Grouper(freq='h')]).agg(resample_dict)\n",
    "for idx, col in enumerate(df.columns.tolist()):\n",
    "    discretized_scatter_plot(df=grouped_df, var1=col, var2='% Silica Concentrate', split_var='Shift', legend=True, x_label=col, y_label='% Silica Concentrate', title=f'{col} and % Silica Concentrate', color_list=['#A27035', '#242331', '#DDCA7D', '#A499BE'])"
   ]
  },
  {
   "cell_type": "code",
   "execution_count": null,
   "id": "7540f048-bd58-4399-b052-9bb070c4c6a6",
   "metadata": {
    "tags": []
   },
   "outputs": [],
   "source": [
    "resample_dict = dict(zip(df.select_dtypes(include='number').columns.tolist(), ['mean']*(len(df)-2)))\n",
    "resample_dict.update(zip(df.select_dtypes(exclude='number').columns.tolist(), ['first','first']))\n",
    "grouped_df = df.groupby([pd.Grouper(freq='h')]).agg(resample_dict)\n",
    "for idx, col1 in enumerate(df.columns.tolist()):\n",
    "    for idx, col2 in enumerate(df.columns.tolist()):\n",
    "        if col1 == col2:\n",
    "            continue\n",
    "        else:\n",
    "            discretized_scatter_plot(df=grouped_df, var1=col1, var2=col2, split_var='Production Level', legend=True, x_label=col1, y_label=col2, title=f'{col1} and {col2}', color_list=['#A27035', '#242331', '#DDCA7D'])\n",
    "            discretized_scatter_plot(df=grouped_df, var1=col1, var2=col2, split_var='Shift', legend=True, x_label=col1, y_label=col2, title=f'{col1} and {col2}', color_list=['#A27035', '#242331', '#DDCA7D', '#A499BE'])"
   ]
  },
  {
   "cell_type": "code",
   "execution_count": null,
   "id": "bb720556-3f6f-47dc-80e5-1163cb4ca4a7",
   "metadata": {
    "tags": []
   },
   "outputs": [],
   "source": [
    "import seaborn as sns\n",
    "corr_map = df.select_dtypes(include='number').resample('1h').mean()\n",
    "\n",
    "fig, ax = plt.subplots(figsize=(16,8))\n",
    "fig.patch.set_facecolor('white')\n",
    "fig.set_facecolor('white')\n",
    "plt.title('Correlation Map', fontsize=15)\n",
    "matrix = np.triu(corr_map.corr())\n",
    "sns.heatmap(corr_map.corr(), annot=True, mask=matrix, vmin=-1, vmax=1, center= 0, ax=ax)\n",
    "plt.xticks(fontsize=10)\n",
    "plt.yticks(fontsize=10)\n",
    "plt.tight_layout()\n",
    "plt.show()"
   ]
  },
  {
   "cell_type": "code",
   "execution_count": null,
   "id": "2c356152-baa1-4620-8f4c-8afaa6b2e6fa",
   "metadata": {
    "tags": []
   },
   "outputs": [],
   "source": [
    "# Plot autocorrelation\n",
    "plt.rc(\"figure\", figsize=(18,5))\n",
    "plot_acf(df['% Silica Concentrate'].resample('1H').mean(), lags=int(180*2))\n",
    "plt.ylim(0,1)\n",
    "plt.xlabel('Lags', fontsize=18)\n",
    "plt.ylabel('Correlation', fontsize=18)\n",
    "plt.xticks(fontsize=18)\n",
    "plt.yticks(fontsize=18)\n",
    "plt.title('Autocorrelation Plot', fontsize=20)\n",
    "plt.tight_layout()\n",
    "plt.show()"
   ]
  },
  {
   "cell_type": "code",
   "execution_count": null,
   "id": "0aaa5ce4-962b-4371-9398-5aadd33d6535",
   "metadata": {
    "tags": []
   },
   "outputs": [],
   "source": [
    "result = seasonal_decompose(df['% Silica Concentrate'].resample('1H').mean(), model='additive')\n",
    "result.plot()\n",
    "plt.show()"
   ]
  },
  {
   "cell_type": "code",
   "execution_count": null,
   "id": "dbded07d-bdde-4a8c-b0ec-055310194aed",
   "metadata": {
    "tags": []
   },
   "outputs": [],
   "source": [
    "from sktime.transformations.series.summarize import WindowSummarizer\n",
    "\n",
    "kwargs = {\n",
    "    \"lag_feature\": {\n",
    "        \"lag\": [0, 180, 360, 540, 720],\n",
    "    }\n",
    "}\n",
    "transformer = WindowSummarizer(**kwargs, target_cols=['% Silica Concentrate','% Iron Concentrate'])\n",
    "df_transformed = transformer.fit_transform(df)\n",
    "df_transformed.head(2)"
   ]
  },
  {
   "cell_type": "code",
   "execution_count": null,
   "id": "53bfaeec-af76-4673-aafa-83e3a6508b7c",
   "metadata": {
    "tags": []
   },
   "outputs": [],
   "source": [
    "cols_heatmap = df_transformed.filter(regex='Silica Concentrate').columns.tolist()\n",
    "\n",
    "fig, ax = plt.subplots(figsize=(20,8))\n",
    "fig.patch.set_facecolor('white')\n",
    "fig.set_facecolor('white')\n",
    "plt.title('Correlation Map - % Silica Concentrate', fontsize=15)\n",
    "sns.heatmap(df_transformed.select_dtypes(include='number').resample('1h').mean().reset_index(drop=True).corr()[cols_heatmap].T, annot=True,  vmin=-1, vmax=1, center= 0, ax=ax)\n",
    "plt.xticks(fontsize=10)\n",
    "plt.yticks(fontsize=10)\n",
    "plt.tight_layout()\n",
    "plt.show()"
   ]
  },
  {
   "cell_type": "code",
   "execution_count": null,
   "id": "cbcff836-f3df-4e8a-8ac2-5370b95df990",
   "metadata": {
    "tags": []
   },
   "outputs": [],
   "source": [
    "y_transformed.filter(regex='Silica Concentrate').columns.tolist()"
   ]
  },
  {
   "cell_type": "code",
   "execution_count": null,
   "id": "efd1c4e8-07c3-436c-89dd-7cde7c117f96",
   "metadata": {
    "tags": []
   },
   "outputs": [],
   "source": [
    "fig, ax = plt.subplots(figsize=(16,4))\n",
    "fig.patch.set_facecolor('white')\n",
    "fig.set_facecolor('white')\n",
    "plt.title('Correlation Map - % Silica Concentrate Lag 1 Hour', fontsize=15)\n",
    "sns.heatmap(y_transformed.select_dtypes(include='number').resample('1h').mean().reset_index(drop=True).corr()[['% Silica Concentrate_lag_180']].T, annot=True,  vmin=-1, vmax=1, center= 0, ax=ax)\n",
    "plt.xticks(fontsize=10)\n",
    "plt.yticks(fontsize=10)\n",
    "plt.tight_layout()\n",
    "plt.show()"
   ]
  },
  {
   "cell_type": "code",
   "execution_count": null,
   "id": "832c7147-5f13-4c27-a296-ae7cda363f21",
   "metadata": {
    "tags": []
   },
   "outputs": [],
   "source": [
    "fig, ax = plt.subplots(figsize=(16,4))\n",
    "fig.patch.set_facecolor('white')\n",
    "fig.set_facecolor('white')\n",
    "plt.title('Correlation Map - % Silica Concentrate Lag 2 Hours', fontsize=15)\n",
    "sns.heatmap(y_transformed.select_dtypes(include='number').resample('1h').mean().reset_index(drop=True).corr()[['% Silica Concentrate_lag_360']].T, annot=True,  vmin=-1, vmax=1, center= 0, ax=ax)\n",
    "plt.xticks(fontsize=10)\n",
    "plt.yticks(fontsize=10)\n",
    "plt.tight_layout()\n",
    "plt.show()"
   ]
  },
  {
   "cell_type": "code",
   "execution_count": null,
   "id": "fea6ca75-d9d8-48a4-a961-cb8efde984fb",
   "metadata": {
    "tags": []
   },
   "outputs": [],
   "source": [
    "for col in df.select_dtypes(include='number').columns.tolist():\n",
    "    plot_ccf_sm(df['% Silica Concentrate'].dropna(), df[col].dropna(), nlags=int(50e2), save_fig=False)"
   ]
  },
  {
   "cell_type": "code",
   "execution_count": null,
   "id": "0229de0a-4906-4219-baca-c4fb7c506820",
   "metadata": {
    "tags": []
   },
   "outputs": [],
   "source": [
    "df['Production Level'] = np.nan\n",
    "p_max = np.max(df['Ore Pulp Flow'])\n",
    "bins = [0, 380, 410, p_max]\n",
    "labels = ['Low', 'Mid', 'High']\n",
    "df['Production Level'] = pd.cut(df['Ore Pulp Flow'], bins=bins, labels=labels)"
   ]
  },
  {
   "cell_type": "code",
   "execution_count": null,
   "id": "38d4466a-cbd5-4b61-8456-6243e577ed9e",
   "metadata": {
    "tags": []
   },
   "outputs": [],
   "source": [
    "df['Ore Pulp Flow'].describe()"
   ]
  },
  {
   "cell_type": "code",
   "execution_count": null,
   "id": "3a99c35c",
   "metadata": {
    "tags": []
   },
   "outputs": [],
   "source": [
    "fig, axes = plt.subplots(nrows=1, ncols=2, figsize=(20, 5))\n",
    "\n",
    "for idx, col in enumerate(df.columns[0:3]):\n",
    "    try:\n",
    "        ax = plt.subplot(1,2, (idx+1))\n",
    "        ax.plot(df[col])\n",
    "        ax.xaxis.set_major_locator(mdates.MonthLocator())\n",
    "        ax.xaxis.set_major_formatter(mdates.DateFormatter('%Y-%m'))\n",
    "        ax.set_ylabel(f\"{col} ({UM[col]})\", fontdict={'fontsize':14})\n",
    "        ax.set_title(f'{col}', fontdict={'fontsize':16})\n",
    "        \n",
    "    except:\n",
    "        pass\n",
    "    \n",
    "plt.suptitle('Input Materials During 2017\\nQuality Measurements of Iron Pulp before fed into Flotation Plant', fontsize=22)\n",
    "plt.tight_layout(pad=1.08, h_pad=.8, w_pad=.5, rect=[0, 0.03, 1, 0.95])\n",
    "plt.show()"
   ]
  },
  {
   "cell_type": "code",
   "execution_count": null,
   "id": "43d45524-6afa-4786-81be-aa5dd28eef73",
   "metadata": {
    "tags": []
   },
   "outputs": [],
   "source": [
    "fig, axes = plt.subplots(nrows=1, ncols=2, figsize=(20, 5))\n",
    "\n",
    "for idx, col in enumerate(df.columns[0:3]):\n",
    "    try:\n",
    "        ax = plt.subplot(1,2, (idx+1))\n",
    "        ax.plot(df['2017-07-01':'2017-07-31'][col])\n",
    "        ax.xaxis.set_major_locator(mdates.WeekdayLocator())\n",
    "        ax.xaxis.set_major_formatter(mdates.DateFormatter('%Y-%m-%d'))\n",
    "        ax.set_ylabel(f\"{col} ({UM[col]})\", fontdict={'fontsize':14})\n",
    "        ax.set_title(f'{col}', fontdict={'fontsize':16})\n",
    "        \n",
    "    except:\n",
    "        pass\n",
    "    \n",
    "plt.suptitle('Input Materials - Zoom Jul/2017\\nQuality Measurements of Iron Pulp before fed into Flotation Plant', fontsize=22)\n",
    "plt.tight_layout(pad=1.08, h_pad=.8, w_pad=.5, rect=[0, 0.03, 1, 0.95])\n",
    "plt.show()"
   ]
  },
  {
   "cell_type": "code",
   "execution_count": null,
   "id": "2485fb69-1fae-4325-9d87-f12e07c71b49",
   "metadata": {
    "tags": []
   },
   "outputs": [],
   "source": [
    "fig, axes = plt.subplots(nrows=2, ncols=3, figsize=(20, 10))\n",
    "\n",
    "for idx, col in enumerate(df.columns[2:7]):\n",
    "    try:\n",
    "        ax = plt.subplot(2,3, (idx+1))\n",
    "        ax.plot(df[col], label='Signal')\n",
    "        ax.plot(df[col].rolling(int(3*60*24)).mean(), color='orange', label='Filtered')\n",
    "        ax.xaxis.set_major_locator(mdates.MonthLocator())\n",
    "        ax.xaxis.set_major_formatter(mdates.DateFormatter('%Y-%m'))\n",
    "        ax.set_ylabel(f\"{col} ({UM[col]})\", fontdict={'fontsize':14})\n",
    "        ax.set_title(f'{col}', fontdict={'fontsize':16})\n",
    "        ax.legend(loc='upper left', fontsize=12)\n",
    "    except:\n",
    "        pass\n",
    "fig.delaxes(axes[1][-1])\n",
    "plt.suptitle('Important Features that Impacts Ore Quality During 2017\\n Measurements of Context Features', fontsize=22)\n",
    "plt.tight_layout(pad=1.08, h_pad=.8, w_pad=.5, rect=[0, 0.03, 1, 0.95])\n",
    "plt.show()"
   ]
  },
  {
   "cell_type": "code",
   "execution_count": null,
   "id": "656f44c3-6b8b-4686-95f4-0be761d29157",
   "metadata": {
    "tags": []
   },
   "outputs": [],
   "source": [
    "fig, axes = plt.subplots(nrows=2, ncols=3, figsize=(20, 10))\n",
    "\n",
    "for idx, col in enumerate(df.columns[2:7]):\n",
    "    try:\n",
    "        ax = plt.subplot(2,3, (idx+1))\n",
    "        ax.plot(df['2017-07-01':'2017-07-31'][col], label='Signal')\n",
    "        ax.plot(df['2017-07-01':'2017-07-31'][col].rolling(int(3*60*24)).mean(), color='orange', label='Filtered')\n",
    "        ax.xaxis.set_major_locator(mdates.WeekdayLocator())\n",
    "        ax.xaxis.set_major_formatter(mdates.DateFormatter('%Y-%m-%d'))\n",
    "        ax.set_ylabel(f\"{col} ({UM[col]})\", fontdict={'fontsize':14})\n",
    "        ax.set_title(f'{col}', fontdict={'fontsize':16})\n",
    "        ax.legend(loc='upper left', fontsize=12)\n",
    "    except:\n",
    "        pass\n",
    "fig.delaxes(axes[1][-1])\n",
    "plt.suptitle('Important Features that Impacts Ore Quality During Jul/2017\\n Measurements of Context Features', fontsize=22)\n",
    "plt.tight_layout(pad=1.08, h_pad=.8, w_pad=.5, rect=[0, 0.03, 1, 0.95])\n",
    "plt.show()"
   ]
  },
  {
   "cell_type": "code",
   "execution_count": null,
   "id": "78e99139-22aa-49fb-9eaf-bc381e94a72f",
   "metadata": {
    "tags": []
   },
   "outputs": [],
   "source": [
    "fig, axes = plt.subplots(nrows=2, ncols=3, figsize=(20, 10))\n",
    "\n",
    "for idx, col in enumerate(df.columns[2:7]):\n",
    "    try:\n",
    "        ax = plt.subplot(2,3, (idx+1))\n",
    "        ax.plot(df['2017-07-01':'2017-07-01'][col], label='Signal')\n",
    "        ax.plot(df['2017-07-01':'2017-07-01'][col].rolling(int(3*60)).mean(), color='orange', label='Filtered')\n",
    "        ax.xaxis.set_major_locator(mdates.WeekdayLocator())\n",
    "        ax.xaxis.set_major_formatter(mdates.DateFormatter('%Y-%m-%d'))\n",
    "        ax.set_ylabel(f\"{col} ({UM[col]})\", fontdict={'fontsize':14})\n",
    "        ax.set_title(f'{col}', fontdict={'fontsize':16})\n",
    "        ax.legend(loc='upper left', fontsize=12)\n",
    "    except:\n",
    "        pass\n",
    "fig.delaxes(axes[1][-1])\n",
    "plt.suptitle('Important Features that Impacts Ore Quality During Jul/2017\\n Measurements of Context Features', fontsize=22)\n",
    "plt.tight_layout(pad=1.08, h_pad=.8, w_pad=.5, rect=[0, 0.03, 1, 0.95])\n",
    "plt.show()"
   ]
  },
  {
   "cell_type": "code",
   "execution_count": null,
   "id": "b1d964be-591d-47a5-b334-cdaaf7b7db78",
   "metadata": {
    "tags": []
   },
   "outputs": [],
   "source": [
    "fig, axes = plt.subplots(nrows=5, ncols=3, figsize=(30, 15))\n",
    "\n",
    "for idx, col in enumerate([\n",
    "        'Flotation Column 01 Air Flow', 'Flotation Column 02 Air Flow',\n",
    "       'Flotation Column 03 Air Flow', 'Flotation Column 04 Air Flow',\n",
    "       'Flotation Column 05 Air Flow', 'Flotation Column 06 Air Flow',\n",
    "       'Flotation Column 07 Air Flow', 'Flotation Column 01 Level',\n",
    "       'Flotation Column 02 Level', 'Flotation Column 03 Level',\n",
    "       'Flotation Column 04 Level', 'Flotation Column 05 Level',\n",
    "       'Flotation Column 06 Level', 'Flotation Column 07 Level']\n",
    "        ):\n",
    "    try:\n",
    "        ax = plt.subplot(5,3, (idx+1))\n",
    "        ax.plot(df[col], label='Signal')\n",
    "        ax.plot(df[col].resample('1h').mean(), color='orange', label='Filtered')\n",
    "        ax.xaxis.set_major_locator(mdates.MonthLocator())\n",
    "        ax.xaxis.set_major_formatter(mdates.DateFormatter('%Y-%m'))\n",
    "        ax.set_ylabel(f\"{UM[col]}\", fontdict={'fontsize':12})\n",
    "        ax.set_title(f'{col}', fontdict={'fontsize':16})\n",
    "        ax.legend(loc='upper left', fontsize=12)\n",
    "    except:\n",
    "        pass\n",
    "fig.delaxes(axes[-1][-1])\n",
    "plt.suptitle('Important Features that Impacts Ore Quality During 2017\\n Measurements of Context Features', fontsize=22)\n",
    "plt.tight_layout(pad=1.08, h_pad=.8, w_pad=.5, rect=[0, 0.03, 1, 0.95])\n",
    "plt.show()"
   ]
  },
  {
   "cell_type": "code",
   "execution_count": null,
   "id": "489c5265-9156-4e82-940d-fa17160d3e86",
   "metadata": {
    "tags": []
   },
   "outputs": [],
   "source": [
    "fig, axes = plt.subplots(nrows=5, ncols=3, figsize=(30, 15))\n",
    "\n",
    "for idx, col in enumerate([\n",
    "        'Flotation Column 01 Air Flow', 'Flotation Column 02 Air Flow',\n",
    "       'Flotation Column 03 Air Flow', 'Flotation Column 04 Air Flow',\n",
    "       'Flotation Column 05 Air Flow', 'Flotation Column 06 Air Flow',\n",
    "       'Flotation Column 07 Air Flow', 'Flotation Column 01 Level',\n",
    "       'Flotation Column 02 Level', 'Flotation Column 03 Level',\n",
    "       'Flotation Column 04 Level', 'Flotation Column 05 Level',\n",
    "       'Flotation Column 06 Level', 'Flotation Column 07 Level']\n",
    "        ):\n",
    "    try:\n",
    "        ax = plt.subplot(5,3, (idx+1))\n",
    "        ax.plot(df['2017-07-01':'2017-07-31'][col], label='Signal')\n",
    "        ax.plot(df['2017-07-01':'2017-07-31'][col].resample('1h').mean(), color='orange', label='Filtered')\n",
    "        ax.xaxis.set_major_locator(mdates.WeekdayLocator())\n",
    "        ax.xaxis.set_major_formatter(mdates.DateFormatter('%Y-%m-%d'))\n",
    "        ax.set_ylabel(f\"{UM[col]}\", fontdict={'fontsize':12})\n",
    "        ax.set_title(f'{col}', fontdict={'fontsize':16})\n",
    "        ax.legend(loc='upper left', fontsize=12)\n",
    "    except:\n",
    "        pass\n",
    "fig.delaxes(axes[-1][-1])\n",
    "plt.suptitle('Important Features that Impacts Ore Quality During Jul/2017\\n Measurements of Context Features', fontsize=22)\n",
    "plt.tight_layout(pad=1.08, h_pad=.8, w_pad=.5, rect=[0, 0.03, 1, 0.95])\n",
    "plt.show()"
   ]
  },
  {
   "cell_type": "code",
   "execution_count": null,
   "id": "8baeb224-6461-4e99-a273-f74ba590dc57",
   "metadata": {
    "tags": []
   },
   "outputs": [],
   "source": [
    "fig, axes = plt.subplots(nrows=5, ncols=3, figsize=(30, 15))\n",
    "\n",
    "for idx, col in enumerate([\n",
    "        'Flotation Column 01 Air Flow', 'Flotation Column 02 Air Flow',\n",
    "       'Flotation Column 03 Air Flow', 'Flotation Column 04 Air Flow',\n",
    "       'Flotation Column 05 Air Flow', 'Flotation Column 06 Air Flow',\n",
    "       'Flotation Column 07 Air Flow', 'Flotation Column 01 Level',\n",
    "       'Flotation Column 02 Level', 'Flotation Column 03 Level',\n",
    "       'Flotation Column 04 Level', 'Flotation Column 05 Level',\n",
    "       'Flotation Column 06 Level', 'Flotation Column 07 Level']\n",
    "        ):\n",
    "    try:\n",
    "        ax = plt.subplot(5,3, (idx+1))\n",
    "        ax.plot(df['2017-07-01':'2017-07-01'][col], label='Signal')\n",
    "        ax.plot(df['2017-07-01':'2017-07-01'][col].resample('1h').mean(), color='orange', label='Filtered')\n",
    "        ax.xaxis.set_major_locator(mdates.DayLocator())\n",
    "        ax.xaxis.set_major_formatter(mdates.DateFormatter('%Y-%m-%d'))\n",
    "        ax.set_ylabel(f\"{UM[col]}\", fontdict={'fontsize':12})\n",
    "        ax.set_title(f'{col}', fontdict={'fontsize':16})\n",
    "        ax.legend(loc='upper left', fontsize=12)\n",
    "    except:\n",
    "        pass\n",
    "fig.delaxes(axes[-1][-1])\n",
    "plt.suptitle('Important Features that Impacts Ore Quality During Jul/2017\\n Measurements of Context Features', fontsize=22)\n",
    "plt.tight_layout(pad=1.08, h_pad=.8, w_pad=.5, rect=[0, 0.03, 1, 0.95])\n",
    "plt.show()"
   ]
  },
  {
   "cell_type": "code",
   "execution_count": null,
   "id": "1de510fc-f3de-43f3-95de-fb050b0d6521",
   "metadata": {
    "tags": []
   },
   "outputs": [],
   "source": [
    "fig, axes = plt.subplots(nrows=3, ncols=3, figsize=(30, 15))\n",
    "cols =['Flotation Column 01 Air Flow', 'Flotation Column 02 Air Flow',\n",
    "       'Flotation Column 03 Air Flow', 'Flotation Column 04 Air Flow',\n",
    "       'Flotation Column 05 Air Flow', 'Flotation Column 06 Air Flow',\n",
    "       'Flotation Column 07 Air Flow', 'Flotation Column 01 Level',\n",
    "       'Flotation Column 02 Level', 'Flotation Column 03 Level',\n",
    "       'Flotation Column 04 Level', 'Flotation Column 05 Level',\n",
    "       'Flotation Column 06 Level', 'Flotation Column 07 Level']\n",
    "\n",
    "for idx, sub in enumerate([\"0\"+str(i) for i in range(1,8)]):\n",
    "    cols_ = [s for s in cols if sub in s]\n",
    "    color_dict = dict(zip(cols_,['blue','orange']))\n",
    "    alpha_dict = dict(zip(cols_,[.3,1]))\n",
    "    \n",
    "    \n",
    "    for idx_, col in enumerate(cols_):\n",
    "        \n",
    "        ax = plt.subplot(3,3, (idx+1))\n",
    "        ax.set_title(f'{cols_[0]} & {cols_[1]}', fontdict={'fontsize':16})\n",
    "        ax.plot(df['2017-07-01':'2017-07-31'][col], label='Signal', color='blue', alpha=.3)\n",
    "        ax.plot(df['2017-07-01':'2017-07-31'][col].resample('1h').mean(), color='orange', label='Filtered')\n",
    "        ax.xaxis.set_major_locator(mdates.WeekdayLocator())\n",
    "        ax.xaxis.set_major_formatter(mdates.DateFormatter('%Y-%m-%d'))\n",
    "    \n",
    "    custom_legend=[]\n",
    "    for col in cols_:\n",
    "        custom_legend.append(Line2D([0], [0], color=color_dict[col], alpha=alpha_dict[col], lw=2))\n",
    "    ax.legend(custom_legend, ['Signal','Filtered'], loc='upper left', fontsize=12)\n",
    "fig.delaxes(axes[-1][-1])\n",
    "fig.delaxes(axes[-1][-2])\n",
    "plt.suptitle('Important Features that Impacts Ore Quality During Jul/2017\\n Measurements of Context Features', fontsize=22)\n",
    "plt.tight_layout(pad=1.08, h_pad=.8, w_pad=.5, rect=[0, 0.03, 1, 0.95])\n",
    "plt.show()"
   ]
  },
  {
   "cell_type": "code",
   "execution_count": null,
   "id": "c5edd9bb-073f-436d-96da-19ffd13ddac3",
   "metadata": {
    "tags": []
   },
   "outputs": [],
   "source": [
    "fig, axes = plt.subplots(nrows=3, ncols=3, figsize=(30, 15))\n",
    "cols =['Flotation Column 01 Air Flow', 'Flotation Column 02 Air Flow',\n",
    "       'Flotation Column 03 Air Flow', 'Flotation Column 04 Air Flow',\n",
    "       'Flotation Column 05 Air Flow', 'Flotation Column 06 Air Flow',\n",
    "       'Flotation Column 07 Air Flow', 'Flotation Column 01 Level',\n",
    "       'Flotation Column 02 Level', 'Flotation Column 03 Level',\n",
    "       'Flotation Column 04 Level', 'Flotation Column 05 Level',\n",
    "       'Flotation Column 06 Level', 'Flotation Column 07 Level']\n",
    "\n",
    "for idx, sub in enumerate([\"0\"+str(i) for i in range(1,8)]):\n",
    "    cols_ = [s for s in cols if sub in s]\n",
    "    color_dict = dict(zip(cols_,['blue','orange']))\n",
    "    alpha_dict = dict(zip(cols_,[.3,1]))\n",
    "    \n",
    "    \n",
    "    for idx_, col in enumerate(cols_):\n",
    "        \n",
    "        ax = plt.subplot(3,3, (idx+1))\n",
    "        ax.set_title(f'{cols_[0]} & {cols_[1]}', fontdict={'fontsize':16})\n",
    "        ax.plot(df['2017-07-22':'2017-07-26'][col], label='Signal', color='blue', alpha=.3)\n",
    "        ax.plot(df['2017-07-22':'2017-07-26'][col].resample('1h').mean(), color='orange', label='Filtered')\n",
    "        ax.xaxis.set_major_locator(mdates.DayLocator())\n",
    "        ax.xaxis.set_major_formatter(mdates.DateFormatter('%Y-%m-%d'))\n",
    "    \n",
    "    custom_legend=[]\n",
    "    for col in cols_:\n",
    "        custom_legend.append(Line2D([0], [0], color=color_dict[col], alpha=alpha_dict[col], lw=2))\n",
    "    ax.legend(custom_legend, ['Signal','Filtered'], loc='upper left', fontsize=12)\n",
    "fig.delaxes(axes[-1][-1])\n",
    "fig.delaxes(axes[-1][-2])\n",
    "plt.suptitle('Important Features that Impacts Ore Quality During Jul/2017\\n Measurements of Context Features', fontsize=22)\n",
    "plt.tight_layout(pad=1.08, h_pad=.8, w_pad=.5, rect=[0, 0.03, 1, 0.95])\n",
    "plt.show()"
   ]
  },
  {
   "cell_type": "code",
   "execution_count": null,
   "id": "697ab6c1-b30b-415f-b4b5-dab90325814f",
   "metadata": {
    "tags": []
   },
   "outputs": [],
   "source": [
    "fig, axes = plt.subplots(nrows=3, ncols=3, figsize=(30, 15))\n",
    "cols =['Flotation Column 01 Air Flow', 'Flotation Column 02 Air Flow',\n",
    "       'Flotation Column 03 Air Flow', 'Flotation Column 04 Air Flow',\n",
    "       'Flotation Column 05 Air Flow', 'Flotation Column 06 Air Flow',\n",
    "       'Flotation Column 07 Air Flow', 'Flotation Column 01 Level',\n",
    "       'Flotation Column 02 Level', 'Flotation Column 03 Level',\n",
    "       'Flotation Column 04 Level', 'Flotation Column 05 Level',\n",
    "       'Flotation Column 06 Level', 'Flotation Column 07 Level']\n",
    "\n",
    "for idx, sub in enumerate([\"0\"+str(i) for i in range(1,8)]):\n",
    "    cols_ = [s for s in cols if sub in s]\n",
    "    color_dict = dict(zip(cols_,['blue','orange']))\n",
    "    alpha_dict = dict(zip(cols_,[.3,1]))\n",
    "    \n",
    "    \n",
    "    for idx_, col in enumerate(cols_):\n",
    "        \n",
    "        ax = plt.subplot(3,3, (idx+1))\n",
    "        ax.set_title(f'{cols_[0]} & {cols_[1]}', fontdict={'fontsize':16})\n",
    "        ax.plot(df['2017-07-22':'2017-07-24'][col], label='Signal', color='blue', alpha=.3)\n",
    "        ax.plot(df['2017-07-22':'2017-07-24'][col].resample('1h').mean(), color='orange', label='Filtered')\n",
    "        ax.xaxis.set_major_locator(mdates.DayLocator())\n",
    "        ax.xaxis.set_major_formatter(mdates.DateFormatter('%Y-%m-%d'))\n",
    "    \n",
    "    custom_legend=[]\n",
    "    for col in cols_:\n",
    "        custom_legend.append(Line2D([0], [0], color=color_dict[col], alpha=alpha_dict[col], lw=2))\n",
    "    ax.legend(custom_legend, ['Signal','Filtered'], loc='upper left', fontsize=12)\n",
    "fig.delaxes(axes[-1][-1])\n",
    "fig.delaxes(axes[-1][-2])\n",
    "plt.suptitle('Important Features that Impacts Ore Quality During Jul/2017\\n Measurements of Context Features', fontsize=22)\n",
    "plt.tight_layout(pad=1.08, h_pad=.8, w_pad=.5, rect=[0, 0.03, 1, 0.95])\n",
    "plt.show()"
   ]
  },
  {
   "cell_type": "code",
   "execution_count": null,
   "id": "d99bd66f-fc3c-40ac-abd2-5baecf3f214c",
   "metadata": {
    "tags": []
   },
   "outputs": [],
   "source": [
    "fig, axes = plt.subplots(nrows=1, ncols=2, figsize=(20, 5))\n",
    "\n",
    "for idx, col in enumerate(['% Iron Concentrate', '% Silica Concentrate']):\n",
    "    try:\n",
    "        ax = plt.subplot(1,2, (idx+1))\n",
    "        ax.plot(df[col], label='Signal')\n",
    "        ax.plot(df[col].resample('1d').mean(), color='orange', label='Filtered')\n",
    "        ax.xaxis.set_major_locator(mdates.MonthLocator())\n",
    "        ax.xaxis.set_major_formatter(mdates.DateFormatter('%Y-%m'))\n",
    "        ax.set_ylabel(f\"{UM[col]}\", fontdict={'fontsize':12})\n",
    "        ax.set_title(f'{col}', fontdict={'fontsize':16})\n",
    "        \n",
    "    except:\n",
    "        pass\n",
    "    \n",
    "plt.suptitle('Target Features During 2017\\nQuality Measurements of Iron Pulp before fed into Flotation Plant', fontsize=22)\n",
    "plt.tight_layout(pad=1.08, h_pad=.8, w_pad=.5, rect=[0, 0.03, 1, 0.95])\n",
    "plt.show()"
   ]
  },
  {
   "cell_type": "code",
   "execution_count": null,
   "id": "5531463c-d107-48a1-8b1c-ad6fa290b3fb",
   "metadata": {
    "tags": []
   },
   "outputs": [],
   "source": [
    "fig, axes = plt.subplots(nrows=1, ncols=2, figsize=(20, 5))\n",
    "\n",
    "for idx, col in enumerate(['% Iron Concentrate', '% Silica Concentrate']):\n",
    "    try:\n",
    "        ax = plt.subplot(1,2, (idx+1))\n",
    "        ax.plot(df['2017-07-01':'2017-07-03'][col], label='Signal')\n",
    "        # ax.plot(df['2017-07-01':'2017-07-31'][col].resample('1d').mean(), color='orange', label='Filtered')\n",
    "        ax.xaxis.set_major_locator(mdates.DayLocator())\n",
    "        ax.xaxis.set_major_formatter(mdates.DateFormatter('%Y-%m-%d'))\n",
    "        ax.set_ylabel(f\"{UM[col]}\", fontdict={'fontsize':12})\n",
    "        ax.set_title(f'{col}', fontdict={'fontsize':16})\n",
    "        \n",
    "    except:\n",
    "        pass\n",
    "    \n",
    "plt.suptitle('Target Features During Jul/2017\\nQuality Measurements of Iron Pulp before fed into Flotation Plant', fontsize=22)\n",
    "plt.tight_layout(pad=1.08, h_pad=.8, w_pad=.5, rect=[0, 0.03, 1, 0.95])\n",
    "plt.show()"
   ]
  },
  {
   "cell_type": "markdown",
   "id": "46020687-26a8-4a7d-af13-1330cafa4a0c",
   "metadata": {
    "tags": []
   },
   "source": [
    "## Feature Selection"
   ]
  },
  {
   "cell_type": "code",
   "execution_count": null,
   "id": "840a3b21-2fa6-4d2d-9ec6-2f00c4983972",
   "metadata": {
    "tags": []
   },
   "outputs": [],
   "source": [
    "resample_dict = dict(zip(df_transformed.select_dtypes(include='number').columns.tolist(), ['mean']*(len(df_transformed)-2)))\n",
    "resample_dict.update(zip(df_transformed.select_dtypes(exclude='number').columns.tolist(), ['first','first']))\n",
    "tx_transformed = df_transformed.groupby([pd.Grouper(freq='h')]).agg(resample_dict).dropna()"
   ]
  },
  {
   "cell_type": "code",
   "execution_count": null,
   "id": "466cd083-4ea0-4332-a7da-a83aed8a8c6a",
   "metadata": {
    "tags": []
   },
   "outputs": [],
   "source": [
    "tx_transformed['% Silica Concentrate_lag_180'].values"
   ]
  },
  {
   "cell_type": "code",
   "execution_count": null,
   "id": "fdb48326-3747-4cdd-b70d-65c311ed8f78",
   "metadata": {
    "tags": []
   },
   "outputs": [],
   "source": [
    "from xgboost import XGBRegressor, plot_importance\n",
    "from sklearn.pipeline import Pipeline\n",
    "from sklearn.preprocessing import StandardScaler\n",
    "from sklearn.model_selection import cross_validate\n",
    "from sklearn.model_selection import train_test_split\n",
    "from sklearn.model_selection import KFold\n",
    "\n",
    "pipe = Pipeline([('scaler', StandardScaler()), ('importance', XGBRegressor(n_estimators=100))])\n",
    "\n",
    "folds = 10\n",
    "\n",
    "X = tx_transformed.select_dtypes(include='number').drop('% Silica Concentrate_lag_180', axis=1).values\n",
    "y = tx_transformed['% Silica Concentrate_lag_180'].values\n",
    "\n",
    "X_train, X_test, y_train, y_test = train_test_split(X, y, test_size=.1, random_state=42)\n",
    "cv = KFold(n_splits=10)\n",
    "\n",
    "scores = cross_validate(pipe, X_train, y_train, n_jobs=-1, scoring=['neg_mean_squared_error', 'neg_mean_absolute_percentage_error', 'neg_mean_absolute_error', 'r2'], cv=cv, return_train_score=True, return_estimator=False)\n",
    "\n",
    "# np.mean(scores*-1), np.std(scores*-1), np.size(scores)"
   ]
  },
  {
   "cell_type": "code",
   "execution_count": null,
   "id": "b96e22b1-c02a-4cfe-801d-4feaed45118d",
   "metadata": {
    "tags": []
   },
   "outputs": [],
   "source": [
    "test_scores = []\n",
    "features_importance_scores = []\n",
    "features_importance_labels = []\n",
    "for p in scores['estimator']:\n",
    "    test_scores.append(p[1].score(X_test, y_test))\n",
    "    features_importance_scores.append(p[1].feature_importances_)\n",
    "    features_importance_labels.append(p[1].feature_importances_.argsort())"
   ]
  },
  {
   "cell_type": "code",
   "execution_count": null,
   "id": "bdf1649a-bfc9-4d44-8ba5-729f9c488e40",
   "metadata": {
    "tags": []
   },
   "outputs": [],
   "source": [
    "feature_scores_dict = dict(zip([str(i) for i in list(features_importance_labels[0])], [[]]*len(features_importance_labels[0])))\n",
    "for run, score in zip(features_importance_labels, features_importance_scores):\n",
    "    for label, value in zip(run, score):\n",
    "        feature_scores_dict[str(label)] = feature_scores_dict[str(label)] + [value]"
   ]
  },
  {
   "cell_type": "code",
   "execution_count": null,
   "id": "265d8da2-5462-411e-8d77-7da8437335da",
   "metadata": {
    "tags": []
   },
   "outputs": [],
   "source": [
    "pipe.fit(X_train, y_train)\n",
    "sorted_idx = pipe.steps[1][1].feature_importances_.argsort()"
   ]
  },
  {
   "cell_type": "code",
   "execution_count": null,
   "id": "569631ed-10e3-489a-ab56-59b97875c184",
   "metadata": {
    "tags": []
   },
   "outputs": [],
   "source": [
    "pipe.score(X_test, y_test)"
   ]
  },
  {
   "cell_type": "code",
   "execution_count": null,
   "id": "cef761c1-dcc3-4f09-83b3-b534901f6658",
   "metadata": {
    "tags": []
   },
   "outputs": [],
   "source": [
    "fig, ax = plt.subplots(nrows=1, ncols=1, figsize=(10, 6))\n",
    "\n",
    "ax.barh(tx_transformed.select_dtypes(include='number').columns[sorted_idx], pipe.steps[1][1].feature_importances_)\n",
    "ax.set_title(\"Feature Importance\\nPrediction Silica Concentrate at 1 Hour Lag - XGBoost Model\", fontsize=18)\n",
    "ax.set_xlabel('Gain Importance', fontsize=14)\n",
    "plt.show()"
   ]
  },
  {
   "cell_type": "code",
   "execution_count": null,
   "id": "22e142b0-dc69-47d5-b69a-4e25f4d3838c",
   "metadata": {
    "tags": []
   },
   "outputs": [],
   "source": [
    "tx_transformed"
   ]
  },
  {
   "cell_type": "code",
   "execution_count": null,
   "id": "d845a30a",
   "metadata": {},
   "outputs": [],
   "source": [
    "run.finish()"
   ]
  }
 ],
 "metadata": {
  "kernelspec": {
   "display_name": "Python 3 (ipykernel)",
   "language": "python",
   "name": "python3"
  },
  "language_info": {
   "codemirror_mode": {
    "name": "ipython",
    "version": 3
   },
   "file_extension": ".py",
   "mimetype": "text/x-python",
   "name": "python",
   "nbconvert_exporter": "python",
   "pygments_lexer": "ipython3",
   "version": "3.8.16"
  }
 },
 "nbformat": 4,
 "nbformat_minor": 5
}
