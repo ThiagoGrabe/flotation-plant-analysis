{
 "cells": [
  {
   "cell_type": "markdown",
   "id": "04f28688-1855-4a08-b565-1d29e9f18fcd",
   "metadata": {
    "tags": []
   },
   "source": [
    "# Quality Prediction in a Mining Process\n",
    "\n",
    "The main goal is to use this data to predict how much impurity is in the ore concentrate. As this impurity is measured every hour, if we can predict how much silica (impurity) is in the ore concentrate, we can help the engineers, giving them early information to take actions (empowering!). Hence, they will be able to take corrective actions in advance (reduce impurity, if it is the case) and also help the environment (reducing the amount of ore that goes to tailings as you reduce silica in the ore concentrate)."
   ]
  },
  {
   "cell_type": "markdown",
   "id": "080efcad-7bb5-4ee9-8b56-a915b13ef154",
   "metadata": {},
   "source": [
    "## Loading the data from _Weight and Biases_ and importing python packages"
   ]
  },
  {
   "cell_type": "code",
   "execution_count": null,
   "id": "cbf1d5a8-b676-4be9-918e-c8d0d8923146",
   "metadata": {
    "tags": []
   },
   "outputs": [],
   "source": [
    "import wandb\n",
    "import pandas as pd\n",
    "import numpy as np\n",
    "\n",
    "import matplotlib.pyplot as plt\n",
    "import matplotlib.dates as mdates\n",
    "import matplotlib.colors as mcolors\n",
    "from matplotlib.ticker import FuncFormatter\n",
    "from matplotlib.ticker import PercentFormatter\n",
    "from matplotlib.lines import Line2D  \n",
    "import seaborn as sns\n",
    "\n",
    "\n",
    "from statsmodels.tsa.stattools import ccf\n",
    "from statsmodels.tsa.stattools import adfuller\n",
    "from statsmodels.graphics.tsaplots import plot_acf\n",
    "from statsmodels.tsa.seasonal import seasonal_decompose\n",
    "\n",
    "from copy import deepcopy\n",
    "\n",
    "%load_ext autoreload\n",
    "%autoreload 2"
   ]
  },
  {
   "cell_type": "code",
   "execution_count": null,
   "id": "fd87bb60-d88c-40a5-a0d6-bd10b0c21a63",
   "metadata": {
    "tags": []
   },
   "outputs": [],
   "source": [
    "run = wandb.init(project=\"ihm\", group=\"eda\", save_code=True)\n",
    "local_path = wandb.use_artifact(\"cleansed_mining_flotation_plant.csv:latest\").file()\n",
    "df = pd.read_csv(local_path, decimal=\",\",parse_dates=[\"date\"], index_col=\"date\")\n",
    "for col in df.columns.tolist()[0:-2]:\n",
    "    df[col] = df[col].apply(pd.to_numeric)"
   ]
  },
  {
   "cell_type": "code",
   "execution_count": null,
   "id": "1d829601",
   "metadata": {
    "tags": []
   },
   "outputs": [],
   "source": [
    "df.info()"
   ]
  },
  {
   "cell_type": "code",
   "execution_count": null,
   "id": "8b620099",
   "metadata": {
    "tags": []
   },
   "outputs": [],
   "source": [
    "df.head()"
   ]
  },
  {
   "cell_type": "code",
   "execution_count": null,
   "id": "25bcb9c8-863c-4569-acd4-11f4a32d16f7",
   "metadata": {
    "tags": []
   },
   "outputs": [],
   "source": [
    "dataset = deepcopy(df)"
   ]
  },
  {
   "cell_type": "code",
   "execution_count": null,
   "id": "c4649bdc-d635-4462-80cf-2539dbb54d4b",
   "metadata": {
    "tags": []
   },
   "outputs": [],
   "source": [
    "# df = deepcopy(dataset)"
   ]
  },
  {
   "cell_type": "code",
   "execution_count": null,
   "id": "1685b02d-4e2c-4363-8851-762d6f701003",
   "metadata": {
    "tags": []
   },
   "outputs": [],
   "source": [
    "df.groupby(df.index.floor('H')).size().reset_index(name='count').query(\"count!=180\")"
   ]
  },
  {
   "cell_type": "code",
   "execution_count": null,
   "id": "7fe32801-08fb-403d-ba73-e2427319948c",
   "metadata": {
    "tags": []
   },
   "outputs": [],
   "source": [
    "um = ['%', '%', 'm3/h', 'm3/h', 't/h', 'ph', 'kg/cm3', 'Nm3/h', 'Nm3/h', 'Nm3/h', 'Nm3/h', 'Nm3/h', 'Nm3/h', 'Nm3/h', 'mm', 'mm', 'mm', 'mm', 'mm', 'mm', 'mm', '%', '%', '8H', '-']\n",
    "UM = dict(zip(df.columns.tolist(),um))\n",
    "UM"
   ]
  },
  {
   "cell_type": "markdown",
   "id": "9f666b36-bed1-4c54-b142-f46623296cb1",
   "metadata": {},
   "source": [
    "It is said, that the percentage of  silica and iron of the final product takes around one hour"
   ]
  },
  {
   "cell_type": "markdown",
   "id": "d14d61ad-ef38-4565-b482-5919f4b3b17b",
   "metadata": {},
   "source": [
    "## Exploring the data\n",
    "\n",
    "First, we need to understand and actually see the data. That said, some plots and comments about some features will be done in the following cells.\n",
    "\n",
    "    1. Input Material Features:\n",
    "    \n",
    "        * % Iron Feed\n",
    "        * % Silica Feed\n",
    "        * Starch Flow\n",
    "        * Amina Flow\n",
    "        * Ore Pulp Flow\n",
    "        \n",
    "    2. Context Features:\n",
    "    \n",
    "        * Ore Pulp pH\n",
    "        * Ore Pulp Density\n",
    "        \n",
    "    3. Process Features:\n",
    "    \n",
    "        * Flotation Column Air Flow (1, 2, 3, ...)\n",
    "        * Flotation Column Air Level (1, 2, 3, ...)"
   ]
  },
  {
   "cell_type": "code",
   "execution_count": null,
   "id": "26a50290-2c07-4cb7-be53-0010843249bb",
   "metadata": {
    "tags": []
   },
   "outputs": [],
   "source": [
    "def hist_line_plot(df: pd.DataFrame, target_var: str, y_label: str = '', xaxis_formater: str = 'day', color_dict: dict=None, resample: str = '1d', bins: int = 150, subplot_position: list = [0.65, 0.6, .2, .2]):\n",
    "\n",
    "    VAR = target_var\n",
    "    if color_dict:\n",
    "        COLORS = color_dict\n",
    "    else:\n",
    "        COLORS = {target_var : '#7A542E'}\n",
    "\n",
    "    # Plot Settings\n",
    "    ncols, nrows = 1, 1\n",
    "    fig, ax = plt.subplots(ncols=ncols, nrows=nrows, figsize=(12,6))\n",
    "    fig.subplots_adjust(hspace=.5, wspace=.35)\n",
    "\n",
    "    hist = df[target_var].values\n",
    "\n",
    "    # Ore Pulp Flow - Subgraph 01\n",
    "    a = plt.axes(subplot_position)\n",
    "    ax2 = plt.gca()\n",
    "    ax2.set_title(target_var)\n",
    "    ax2.plot(df[target_var], color=COLORS[VAR], alpha=.2)\n",
    "    ax2.plot(df[target_var].resample(resample).mean(), color=COLORS[VAR], label=target_var)\n",
    "    if xaxis_formater == 'month':\n",
    "        ax2.xaxis.set_major_locator(mdates.MonthLocator([5,7,9]))\n",
    "        ax2.xaxis.set_major_formatter(mdates.DateFormatter('%Y-%m'))\n",
    "    if xaxis_formater == 'day':\n",
    "        ax2.xaxis.set_major_locator(mdates.HourLocator())\n",
    "        ax2.xaxis.set_major_formatter(mdates.DateFormatter('%Y-%m-%d'))\n",
    "    ax2.set_ylabel(f\"{y_label} ({UM[target_var]})\", fontsize=8)\n",
    "    ax2.tick_params(axis='both', labelsize=8)\n",
    "\n",
    "\n",
    "    # Plot settings\n",
    "    ax.set_title(target_var, fontsize=20)\n",
    "    n, bins, patches = ax.hist(hist, weights=np.ones(len(hist)) / len(hist),\n",
    "                               bins=bins,  color=COLORS[VAR], alpha=1, label=target_var)\n",
    "    ax.set_xlabel(f\"{y_label} ({UM[target_var]})\", fontsize=14)\n",
    "    ax.tick_params(axis='both', labelsize=14)\n",
    "    ax.yaxis.set_major_formatter(PercentFormatter(1))\n",
    "    ax.legend(loc='upper left', fontsize=12)\n",
    "    plt.savefig(target_var, dpi=300)\n",
    "    plt.show()\n",
    "    \n",
    "def binned_hist_plot(df: pd.DataFrame, target_var: str, split_var: str, y_label: str = '', bins: int = 150, color_list: list = None):\n",
    "    \n",
    "    VAR = target_var\n",
    "    COLORS = {target_var : '#7A542E'}\n",
    "    \n",
    "    if color_list is None:\n",
    "        color_list = ['steelblue'] * len(df[split_var].unique().tolist())\n",
    "    \n",
    "    # Plot Settings\n",
    "    ncols, nrows = 1, 1\n",
    "    fig, ax = plt.subplots(ncols=ncols, nrows=nrows, figsize=(12,6))\n",
    "    fig.subplots_adjust(hspace=.5, wspace=.35)\n",
    "\n",
    "    for split_value, color in zip(df[split_var].unique().tolist(), color_list):\n",
    "        hist = df.loc[df[split_var]==split_value][target_var].values\n",
    "         \n",
    "        ax.set_title(target_var, fontsize=20)\n",
    "        n, bins, patches = ax.hist(hist, weights=np.ones(len(hist)) / len(hist),\n",
    "                                   bins=bins,  color=color, alpha=1, label=f'{target_var}\\n{split_var} = {split_value}')\n",
    "        \n",
    "    \n",
    "    # Plot settings\n",
    "    ax.set_xlabel(f\"{y_label} ({UM[target_var]})\", fontsize=14)\n",
    "    ax.tick_params(axis='both', labelsize=14)\n",
    "    ax.yaxis.set_major_formatter(PercentFormatter(1))\n",
    "    ax.legend(loc='upper left', fontsize=12)\n",
    "    plt.savefig(target_var, dpi=300)\n",
    "    plt.show()\n",
    "    \n",
    "def scatter_plot(df: pd.DataFrame, var1: str, var2: str, x_label: str = '', y_label: str = '', title: str = None, color:str =  '#7A542E', legend:bool = False):\n",
    "\n",
    "    # Plot Settings\n",
    "    ncols, nrows = 1, 1\n",
    "    fig, ax = plt.subplots(ncols=ncols, nrows=nrows, figsize=(12,6))\n",
    "    fig.subplots_adjust(hspace=.5, wspace=.35)\n",
    "    ax.set_title(title, fontsize=20)\n",
    "\n",
    "    ax.scatter(df[var1], df[var2], color=color, label=f'{var1} x {var2}')\n",
    "    # Plot settings\n",
    "    ax.set_xlabel(f\"{x_label} ({UM[var1]})\", fontsize=14)\n",
    "    ax.set_ylabel(f\"{y_label} ({UM[var2]})\", fontsize=14)\n",
    "    ax.tick_params(axis='both', labelsize=14)\n",
    "    if legend:\n",
    "        ax.legend(loc='best', fontsize=12)\n",
    "    plt.savefig(title, dpi=300)\n",
    "    plt.show()\n",
    "    \n",
    "def discretized_scatter_plot(df: pd.DataFrame, var1: str, var2: str, split_var: str, x_label: str = '', y_label: str = '', title: str = None, color_list:list =['#7A542E'], marker_list: list = ['o'], legend:bool = False):\n",
    "    \n",
    "    # Plot Settings\n",
    "    ncols, nrows = 1, 1\n",
    "    split_values = df[split_var].unique().tolist()\n",
    "    if len(color_list) == 1:\n",
    "        color_list = color_list[0] * len(split_values)\n",
    "        \n",
    "    color_dict = dict(zip(split_values, color_list))\n",
    "        \n",
    "    if len(marker_list) == 1:\n",
    "        marker_list = marker_list[0] * len(split_values)\n",
    "    \n",
    "    marker_dict = dict(zip(split_values, marker_list))\n",
    "        \n",
    "    custom_legend=[]\n",
    "    for split_value in split_values:\n",
    "        custom_legend.append(Line2D([0], [0], color=color_dict[split_value], lw=4))\n",
    "\n",
    "    df['COLOR']  = df[split_var].map(color_dict)\n",
    "    df['MARKER'] = df[split_var].map(marker_dict)\n",
    "        \n",
    "    \n",
    "    fig, ax = plt.subplots(ncols=ncols, nrows=nrows, figsize=(12,6))\n",
    "    fig.subplots_adjust(hspace=.5, wspace=.35)\n",
    "    ax.set_title(title, fontsize=20)\n",
    "    \n",
    "    ax.scatter(df[var1], df[var2], c=df['COLOR'], label=f'{var1} x {var2}')\n",
    "    # Plot settings\n",
    "    ax.set_xlabel(f\"{x_label} ({UM[var1]})\", fontsize=14)\n",
    "    ax.set_ylabel(f\"{y_label} ({UM[var2]})\", fontsize=14)\n",
    "    ax.tick_params(axis='both', labelsize=14)\n",
    "    if legend:\n",
    "        ax.legend(custom_legend, split_values, loc='best')\n",
    "    plt.savefig(title, dpi=300)\n",
    "    plt.show()\n",
    "    \n",
    "def crosscorr(x: pd.Series, y: pd.Series, lag: int=0) -> float:\n",
    "    \"\"\" Lag-N cross correlation. \n",
    "    Shifted data (y) filled with NaNs \n",
    "\n",
    "    Parameters\n",
    "    ----------\n",
    "    lag : int, default 0\n",
    "    x, y : pandas.Series objects of equal length\n",
    "    Returns\n",
    "    ----------\n",
    "    crosscorr : float\n",
    "    \"\"\"\n",
    "    return x.corr(y.shift(lag))\n",
    "\n",
    "def adf_test(df, TARGET: str = ''):\n",
    "    result = adfuller(df.values)\n",
    "    print(f'ADF Test: {TARGET}')\n",
    "    print('ADF Statistics: %f' % result[0])\n",
    "    print('p-value: %f' % result[1])\n",
    "    print('Critical values:')\n",
    "    for key, value in result[4].items():\n",
    "        print('\\t%s: %.3f' % (key, value))\n",
    "        \n",
    "\n",
    "def plot_ccf_manual(target, exog, nlags=10):\n",
    "    \"\"\"PLot CCF using manual calculations\"\"\"\n",
    "    lags = []\n",
    "    ccfs = []\n",
    "    for i in np.arange(0,nlags+1):\n",
    "        lags.append(i)\n",
    "        ccfs.append(crosscorr(target, exog, lag=i))\n",
    "\n",
    "    _ = plt.stem(lags, ccfs, use_line_collection=True)\n",
    "    _ = plt.title(f\"Cross Correlation (Manual): {target.name} & {exog.name}\")\n",
    "    \n",
    "def plot_ccf_sm(target, exog, unbiased=False, nlags=10, save_fig=False, name=''):\n",
    "    \"\"\"Plot CCF using Statsmodels\"\"\"\n",
    "    ccfs = ccf(target, exog, unbiased=False)[:nlags+1]\n",
    "    lags = np.arange(len(ccfs))[:nlags+1]\n",
    "    _ = plt.stem(lags, ccfs, use_line_collection=True)\n",
    "    _ = plt.title(f\"Cross Correlation: {target.name} & {exog.name}\")\n",
    "    _ = plt.ylabel('Cross Correlation Value')\n",
    "    _ = plt.xlabel('N lags')\n",
    "    \n",
    "    plt.savefig(f\"Cross Correlation: {target.name} & {exog.name}\", dpi=300)\n",
    "    plt.show()\n",
    "    return"
   ]
  },
  {
   "cell_type": "code",
   "execution_count": null,
   "id": "a4a64c6c-51a6-40cc-a7c5-cc5b89c4d4fe",
   "metadata": {
    "tags": []
   },
   "outputs": [],
   "source": [
    "df.columns"
   ]
  },
  {
   "cell_type": "code",
   "execution_count": null,
   "id": "281d0c2a-3c5b-4f96-9bb3-9532f58ec346",
   "metadata": {
    "tags": []
   },
   "outputs": [],
   "source": [
    "hist_line_plot(df=df,\n",
    "               target_var='% Iron Concentrate',\n",
    "               y_label='Iron Concentration',\n",
    "               xaxis_formater='month',\n",
    "               resample='1D',\n",
    "               bins=90)"
   ]
  },
  {
   "cell_type": "code",
   "execution_count": null,
   "id": "8ba864c5-a635-471d-b7ca-31c2a1a04782",
   "metadata": {
    "tags": []
   },
   "outputs": [],
   "source": [
    "hist_line_plot(df=df,\n",
    "               target_var='% Silica Concentrate',\n",
    "               y_label='Silica Concentration',\n",
    "               xaxis_formater='month',\n",
    "               resample='1D',\n",
    "               bins=90)"
   ]
  },
  {
   "cell_type": "code",
   "execution_count": null,
   "id": "9796285b-986a-4006-a0e2-12ca93f5044c",
   "metadata": {},
   "outputs": [],
   "source": []
  },
  {
   "cell_type": "code",
   "execution_count": null,
   "id": "0c5b3f2a-7488-43bc-84ec-6c40899a70c6",
   "metadata": {
    "tags": []
   },
   "outputs": [],
   "source": [
    "hist_line_plot(df=df,\n",
    "               target_var='Ore Pulp Flow',\n",
    "               y_label='Production',\n",
    "               xaxis_formater='month',\n",
    "               resample='1D',\n",
    "               bins=90)"
   ]
  },
  {
   "cell_type": "code",
   "execution_count": null,
   "id": "93edb92a-03d3-4a7a-b8f7-4711dc755bab",
   "metadata": {
    "tags": []
   },
   "outputs": [],
   "source": [
    "hist_line_plot(df=df,\n",
    "               target_var='% Iron Feed',\n",
    "               y_label='Iron Feed',\n",
    "               xaxis_formater='month',\n",
    "               resample='1D',\n",
    "               bins=30)"
   ]
  },
  {
   "cell_type": "code",
   "execution_count": null,
   "id": "5f9b6111-7f0c-4fbf-bc41-2eb3bedf40c8",
   "metadata": {
    "tags": []
   },
   "outputs": [],
   "source": [
    "hist_line_plot(df=df,\n",
    "               target_var='% Silica Feed',\n",
    "               y_label='Silica Feed',\n",
    "               xaxis_formater='month',\n",
    "               resample='1D',\n",
    "               bins=30)"
   ]
  },
  {
   "cell_type": "code",
   "execution_count": null,
   "id": "db589a96-bd26-475b-b22f-742c5a0e3cae",
   "metadata": {
    "tags": []
   },
   "outputs": [],
   "source": [
    "hist_line_plot(df=df,\n",
    "               target_var='Starch Flow',\n",
    "               y_label='Starch Flow',\n",
    "               xaxis_formater='month',\n",
    "               resample='1D',\n",
    "               bins=100,\n",
    "               subplot_position=[0.68, 0.6, .2, .2])"
   ]
  },
  {
   "cell_type": "code",
   "execution_count": null,
   "id": "981c725e-1e9b-40f0-8c9a-30a4eb60534c",
   "metadata": {
    "tags": []
   },
   "outputs": [],
   "source": [
    "hist_line_plot(df=df,\n",
    "               target_var='Amina Flow',\n",
    "               y_label='Amina Flow',\n",
    "               xaxis_formater='month',\n",
    "               resample='1D',\n",
    "               bins=100,\n",
    "              subplot_position=[0.69, 0.63, .2, .2])"
   ]
  },
  {
   "cell_type": "code",
   "execution_count": null,
   "id": "94dd3555-e1e5-4758-9fbf-9b3c91c4a871",
   "metadata": {},
   "outputs": [],
   "source": [
    "hist_line_plot(df=df,\n",
    "               target_var='Amina Flow',\n",
    "               y_label='Amina Flow',\n",
    "               xaxis_formater='month',\n",
    "               resample='1D',\n",
    "               bins=100,\n",
    "              subplot_position=[0.69, 0.63, .2, .2])"
   ]
  },
  {
   "cell_type": "code",
   "execution_count": null,
   "id": "ab4981b6-2b60-4ca3-b93e-128a2ee9e748",
   "metadata": {
    "tags": []
   },
   "outputs": [],
   "source": [
    "binned_hist_plot(df=df, target_var='% Silica Concentrate', split_var='Production Level', color_list=['#A27035', '#242331', '#DDCA7D'], bins=90)"
   ]
  },
  {
   "cell_type": "code",
   "execution_count": null,
   "id": "31a913ba-d34d-44d8-ba58-ea850bfe2f1c",
   "metadata": {
    "tags": []
   },
   "outputs": [],
   "source": [
    "binned_hist_plot(df=df, target_var='% Silica Concentrate', split_var='Shift', color_list=['#A27035', '#242331', '#DDCA7D', '#A499BE'], bins=90)"
   ]
  },
  {
   "cell_type": "code",
   "execution_count": null,
   "id": "9648c351-8910-4d7e-88d0-0334d937bc05",
   "metadata": {
    "tags": []
   },
   "outputs": [],
   "source": [
    "binned_hist_plot(df=df, target_var='Ore Pulp Flow', split_var='Shift', color_list=['#A27035', '#242331', '#DDCA7D', '#A499BE'], bins=150)"
   ]
  },
  {
   "cell_type": "code",
   "execution_count": null,
   "id": "52bfb964-1917-4539-8a32-88b58baf2ff2",
   "metadata": {
    "tags": []
   },
   "outputs": [],
   "source": [
    "scatter_plot(df=df, var1='% Iron Concentrate', var2='% Silica Concentrate', x_label='Iron Concentrate', y_label='Silica Concentrate', title='Iron and Silica Concentration')"
   ]
  },
  {
   "cell_type": "code",
   "execution_count": null,
   "id": "efd95a90-b40a-4a66-9d68-130b8076b75b",
   "metadata": {
    "tags": []
   },
   "outputs": [],
   "source": [
    "scatter_plot(df=df, var2='% Iron Concentrate', var1='% Iron Feed', x_label='Iron Feed', y_label='Iron Concentrate', title='Iron Feed and Iron Concentration')"
   ]
  },
  {
   "cell_type": "code",
   "execution_count": null,
   "id": "b22393ff-a174-4c0c-90a8-5efa337ce0b4",
   "metadata": {
    "tags": []
   },
   "outputs": [],
   "source": [
    "df_ = deepcopy(df)\n",
    "df_['% Iron Concentrate'] = df['% Iron Concentrate'].shift(180)\n",
    "scatter_plot(df=df_, var2='% Iron Concentrate', var1='% Iron Feed', x_label='% Iron Feed', y_label='% Iron Concentrate', title='Iron Feed and Iron Concentration')\n",
    "del df_"
   ]
  },
  {
   "cell_type": "code",
   "execution_count": null,
   "id": "51cdef9b-329b-4bfb-8ec7-53267032b3c0",
   "metadata": {
    "tags": []
   },
   "outputs": [],
   "source": [
    "df_ = deepcopy(df)\n",
    "df_['% Iron Concentrate'] = df['% Iron Concentrate'].shift(360)\n",
    "scatter_plot(df=df_, var2='% Iron Concentrate', var1='% Iron Feed', x_label='% Iron Feed', y_label='% Iron Concentrate', title='Iron Feed and Iron Concentration')\n",
    "del df_"
   ]
  },
  {
   "cell_type": "code",
   "execution_count": null,
   "id": "7f251a9a-a57f-478e-8709-b34c885c9d2e",
   "metadata": {
    "tags": []
   },
   "outputs": [],
   "source": [
    "for idx, col in enumerate(df.columns.tolist()):\n",
    "    try:\n",
    "        if idx >=2:\n",
    "            df_ = deepcopy(df.resample('1H').mean())\n",
    "            scatter_plot(df=df_, var2='% Silica Concentrate', var1=col, x_label=col, y_label='% Silica Concentrate', title=f'{col} and % Silica Concentrate')\n",
    "            del df_\n",
    "        else:\n",
    "            scatter_plot(df=df, var2='% Silica Concentrate', var1=col, x_label=col, y_label='% Silica Concentrate', title=f'{col} and % Silica Concentrate')\n",
    "    except:\n",
    "        continue"
   ]
  },
  {
   "cell_type": "code",
   "execution_count": null,
   "id": "d5e767e9-1891-4eb3-b36f-284ad5744add",
   "metadata": {
    "tags": []
   },
   "outputs": [],
   "source": [
    "resample_dict = dict(zip(df.select_dtypes(include='number').columns.tolist(), ['mean']*(len(df)-2)))\n",
    "resample_dict.update(zip(df.select_dtypes(exclude='number').columns.tolist(), ['first','first']))\n",
    "grouped_df = df.groupby([pd.Grouper(freq='h')]).agg(resample_dict)\n",
    "for idx, col in enumerate(df.columns.tolist()):\n",
    "    discretized_scatter_plot(df=grouped_df, var1=col, var2='% Silica Concentrate', split_var='Production Level', legend=True, x_label=col, y_label='% Silica Concentrate', title=f'{col} and % Silica Concentrate', color_list=['#A27035', '#242331', '#DDCA7D'])"
   ]
  },
  {
   "cell_type": "code",
   "execution_count": null,
   "id": "9d143efb-af9c-4be1-891f-12bb1fcef304",
   "metadata": {
    "tags": []
   },
   "outputs": [],
   "source": [
    "resample_dict = dict(zip(df.select_dtypes(include='number').columns.tolist(), ['mean']*(len(df)-2)))\n",
    "resample_dict.update(zip(df.select_dtypes(exclude='number').columns.tolist(), ['first','first']))\n",
    "grouped_df = df.groupby([pd.Grouper(freq='h')]).agg(resample_dict)\n",
    "for idx, col in enumerate(df.columns.tolist()):\n",
    "    discretized_scatter_plot(df=grouped_df, var1=col, var2='% Silica Concentrate', split_var='Shift', legend=True, x_label=col, y_label='% Silica Concentrate', title=f'{col} and % Silica Concentrate', color_list=['#A27035', '#242331', '#DDCA7D', '#A499BE'])"
   ]
  },
  {
   "cell_type": "code",
   "execution_count": null,
   "id": "7540f048-bd58-4399-b052-9bb070c4c6a6",
   "metadata": {
    "tags": []
   },
   "outputs": [],
   "source": [
    "resample_dict = dict(zip(df.select_dtypes(include='number').columns.tolist(), ['mean']*(len(df)-2)))\n",
    "resample_dict.update(zip(df.select_dtypes(exclude='number').columns.tolist(), ['first','first']))\n",
    "grouped_df = df.groupby([pd.Grouper(freq='h')]).agg(resample_dict)\n",
    "for idx, col1 in enumerate(df.columns.tolist()):\n",
    "    for idx, col2 in enumerate(df.columns.tolist()):\n",
    "        if col1 == col2:\n",
    "            continue\n",
    "        else:\n",
    "            discretized_scatter_plot(df=grouped_df, var1=col1, var2=col2, split_var='Production Level', legend=True, x_label=col1, y_label=col2, title=f'{col1} and {col2}', color_list=['#A27035', '#242331', '#DDCA7D'])\n",
    "            discretized_scatter_plot(df=grouped_df, var1=col1, var2=col2, split_var='Shift', legend=True, x_label=col1, y_label=col2, title=f'{col1} and {col2}', color_list=['#A27035', '#242331', '#DDCA7D', '#A499BE'])"
   ]
  },
  {
   "cell_type": "code",
   "execution_count": null,
   "id": "bb720556-3f6f-47dc-80e5-1163cb4ca4a7",
   "metadata": {
    "tags": []
   },
   "outputs": [],
   "source": [
    "import seaborn as sns\n",
    "corr_map = df.select_dtypes(include='number').resample('1h').mean()\n",
    "\n",
    "fig, ax = plt.subplots(figsize=(16,8))\n",
    "fig.patch.set_facecolor('white')\n",
    "fig.set_facecolor('white')\n",
    "plt.title('Correlation Map', fontsize=15)\n",
    "matrix = np.triu(corr_map.corr())\n",
    "sns.heatmap(corr_map.corr(), annot=True, mask=matrix, vmin=-1, vmax=1, center= 0, ax=ax)\n",
    "plt.xticks(fontsize=10)\n",
    "plt.yticks(fontsize=10)\n",
    "plt.tight_layout()\n",
    "plt.show()"
   ]
  },
  {
   "cell_type": "code",
   "execution_count": null,
   "id": "2c356152-baa1-4620-8f4c-8afaa6b2e6fa",
   "metadata": {
    "tags": []
   },
   "outputs": [],
   "source": [
    "# Plot autocorrelation\n",
    "plt.rc(\"figure\", figsize=(18,5))\n",
    "plot_acf(df['% Silica Concentrate'].resample('1H').mean(), lags=int(180*2))\n",
    "plt.ylim(0,1)\n",
    "plt.xlabel('Lags', fontsize=18)\n",
    "plt.ylabel('Correlation', fontsize=18)\n",
    "plt.xticks(fontsize=18)\n",
    "plt.yticks(fontsize=18)\n",
    "plt.title('Autocorrelation Plot', fontsize=20)\n",
    "plt.tight_layout()\n",
    "plt.show()"
   ]
  },
  {
   "cell_type": "code",
   "execution_count": null,
   "id": "0aaa5ce4-962b-4371-9398-5aadd33d6535",
   "metadata": {
    "tags": []
   },
   "outputs": [],
   "source": [
    "result = seasonal_decompose(df['% Silica Concentrate'].resample('1H').mean(), model='additive')\n",
    "result.plot()\n",
    "plt.show()"
   ]
  },
  {
   "cell_type": "code",
   "execution_count": null,
   "id": "57744c7d-7cc2-43ae-8fef-9e679ac07239",
   "metadata": {
    "tags": []
   },
   "outputs": [],
   "source": [
    "result = seasonal_decompose(df['2017-07-01':'2017-07-07']['% Silica Concentrate'].resample('1H').mean(), model='additive')\n",
    "result.plot()\n",
    "plt.show()"
   ]
  },
  {
   "cell_type": "code",
   "execution_count": null,
   "id": "dbded07d-bdde-4a8c-b0ec-055310194aed",
   "metadata": {
    "tags": []
   },
   "outputs": [],
   "source": [
    "from sktime.transformations.series.summarize import WindowSummarizer\n",
    "\n",
    "kwargs = {\n",
    "    \"lag_feature\": {\n",
    "        \"lag\": [0, -180],\n",
    "    }\n",
    "}\n",
    "transformer = WindowSummarizer(**kwargs, target_cols=['% Silica Concentrate','% Iron Concentrate'])\n",
    "df_transformed = transformer.fit_transform(df.select_dtypes(include='number'))\n",
    "df_transformed.head(2)"
   ]
  },
  {
   "cell_type": "code",
   "execution_count": null,
   "id": "58c8ab94-5582-421c-89b1-94ddbfbc2bd6",
   "metadata": {
    "tags": []
   },
   "outputs": [],
   "source": [
    "df_transformed.columns"
   ]
  },
  {
   "cell_type": "code",
   "execution_count": null,
   "id": "53bfaeec-af76-4673-aafa-83e3a6508b7c",
   "metadata": {
    "tags": []
   },
   "outputs": [],
   "source": [
    "cols_heatmap = df_transformed.filter(regex='Silica Concentrate').columns.tolist()\n",
    "\n",
    "fig, ax = plt.subplots(figsize=(20,8))\n",
    "fig.patch.set_facecolor('white')\n",
    "fig.set_facecolor('white')\n",
    "plt.title('Correlation Map - % Silica Concentrate', fontsize=15)\n",
    "sns.heatmap(df_transformed.select_dtypes(include='number').resample('1h').mean().reset_index(drop=True).corr()[cols_heatmap].T, annot=True,  vmin=-1, vmax=1, center= 0, ax=ax)\n",
    "plt.xticks(fontsize=10)\n",
    "plt.yticks(fontsize=10)\n",
    "plt.tight_layout()\n",
    "plt.show()"
   ]
  },
  {
   "cell_type": "code",
   "execution_count": null,
   "id": "cbcff836-f3df-4e8a-8ac2-5370b95df990",
   "metadata": {
    "tags": []
   },
   "outputs": [],
   "source": [
    "df_transformed.filter(regex='Silica Concentrate').columns.tolist()"
   ]
  },
  {
   "cell_type": "code",
   "execution_count": null,
   "id": "efd1c4e8-07c3-436c-89dd-7cde7c117f96",
   "metadata": {
    "tags": []
   },
   "outputs": [],
   "source": [
    "fig, ax = plt.subplots(figsize=(16,4))\n",
    "fig.patch.set_facecolor('white')\n",
    "fig.set_facecolor('white')\n",
    "plt.title('Correlation Map - % Silica Concentrate Lag 1 Hour', fontsize=15)\n",
    "sns.heatmap(df_transformed.select_dtypes(include='number').resample('1h').mean().reset_index(drop=True).corr()[['% Silica Concentrate_lag_-180']].T, annot=True,  vmin=-1, vmax=1, center= 0, ax=ax)\n",
    "plt.xticks(fontsize=10)\n",
    "plt.yticks(fontsize=10)\n",
    "plt.tight_layout()\n",
    "plt.savefig(f\"Correlation Lag Target Feature\", dpi=300)\n",
    "plt.show()"
   ]
  },
  {
   "cell_type": "code",
   "execution_count": null,
   "id": "fea6ca75-d9d8-48a4-a961-cb8efde984fb",
   "metadata": {
    "tags": []
   },
   "outputs": [],
   "source": [
    "import os\n",
    "for col in df.select_dtypes(include='number').columns.tolist():\n",
    "    plot_ccf_sm(df['% Silica Concentrate'].dropna(), df[col].dropna(), nlags=int(360), save_fig=True)"
   ]
  },
  {
   "cell_type": "code",
   "execution_count": null,
   "id": "0229de0a-4906-4219-baca-c4fb7c506820",
   "metadata": {
    "tags": []
   },
   "outputs": [],
   "source": [
    "df['Production Level'] = np.nan\n",
    "p_max = np.max(df['Ore Pulp Flow'])\n",
    "bins = [0, 380, 410, p_max]\n",
    "labels = ['Low', 'Mid', 'High']\n",
    "df['Production Level'] = pd.cut(df['Ore Pulp Flow'], bins=bins, labels=labels)"
   ]
  },
  {
   "cell_type": "code",
   "execution_count": null,
   "id": "38d4466a-cbd5-4b61-8456-6243e577ed9e",
   "metadata": {
    "tags": []
   },
   "outputs": [],
   "source": [
    "df['Ore Pulp Flow'].describe()"
   ]
  },
  {
   "cell_type": "code",
   "execution_count": null,
   "id": "3a99c35c",
   "metadata": {
    "tags": []
   },
   "outputs": [],
   "source": [
    "fig, axes = plt.subplots(nrows=1, ncols=2, figsize=(20, 5))\n",
    "\n",
    "for idx, col in enumerate(df.columns[0:3]):\n",
    "    try:\n",
    "        ax = plt.subplot(1,2, (idx+1))\n",
    "        ax.plot(df[col])\n",
    "        ax.xaxis.set_major_locator(mdates.MonthLocator())\n",
    "        ax.xaxis.set_major_formatter(mdates.DateFormatter('%Y-%m'))\n",
    "        ax.set_ylabel(f\"{col} ({UM[col]})\", fontdict={'fontsize':14})\n",
    "        ax.set_title(f'{col}', fontdict={'fontsize':16})\n",
    "        \n",
    "    except:\n",
    "        pass\n",
    "    \n",
    "plt.suptitle('Input Materials During 2017\\nQuality Measurements of Iron Pulp before fed into Flotation Plant', fontsize=22)\n",
    "plt.tight_layout(pad=1.08, h_pad=.8, w_pad=.5, rect=[0, 0.03, 1, 0.95])\n",
    "plt.savefig(f\"Plot Input Materias\", dpi=300)\n",
    "plt.show()"
   ]
  },
  {
   "cell_type": "code",
   "execution_count": null,
   "id": "43d45524-6afa-4786-81be-aa5dd28eef73",
   "metadata": {
    "tags": []
   },
   "outputs": [],
   "source": [
    "fig, axes = plt.subplots(nrows=1, ncols=2, figsize=(20, 5))\n",
    "\n",
    "for idx, col in enumerate(df.columns[0:3]):\n",
    "    try:\n",
    "        ax = plt.subplot(1,2, (idx+1))\n",
    "        ax.plot(df['2017-07-01':'2017-07-31'][col])\n",
    "        ax.xaxis.set_major_locator(mdates.WeekdayLocator())\n",
    "        ax.xaxis.set_major_formatter(mdates.DateFormatter('%Y-%m-%d'))\n",
    "        ax.set_ylabel(f\"{col} ({UM[col]})\", fontdict={'fontsize':14})\n",
    "        ax.set_title(f'{col}', fontdict={'fontsize':16})\n",
    "        \n",
    "    except:\n",
    "        pass\n",
    "    \n",
    "plt.suptitle('Input Materials - Zoom Jul/2017\\nQuality Measurements of Iron Pulp before fed into Flotation Plant', fontsize=22)\n",
    "plt.tight_layout(pad=1.08, h_pad=.8, w_pad=.5, rect=[0, 0.03, 1, 0.95])\n",
    "plt.savefig(f\"Plot Input Materias Jul-17\", dpi=300)\n",
    "plt.show()"
   ]
  },
  {
   "cell_type": "code",
   "execution_count": null,
   "id": "2485fb69-1fae-4325-9d87-f12e07c71b49",
   "metadata": {
    "tags": []
   },
   "outputs": [],
   "source": [
    "fig, axes = plt.subplots(nrows=2, ncols=3, figsize=(20, 10))\n",
    "\n",
    "for idx, col in enumerate(df.columns[2:7]):\n",
    "    try:\n",
    "        ax = plt.subplot(2,3, (idx+1))\n",
    "        ax.plot(df[col], label='Signal')\n",
    "        ax.plot(df[col].rolling(int(3*60*24)).mean(), color='orange', label='Filtered')\n",
    "        ax.xaxis.set_major_locator(mdates.MonthLocator())\n",
    "        ax.xaxis.set_major_formatter(mdates.DateFormatter('%Y-%m'))\n",
    "        ax.set_ylabel(f\"{col} ({UM[col]})\", fontdict={'fontsize':14})\n",
    "        ax.set_title(f'{col}', fontdict={'fontsize':16})\n",
    "        ax.legend(loc='upper left', fontsize=12)\n",
    "    except:\n",
    "        pass\n",
    "fig.delaxes(axes[1][-1])\n",
    "plt.suptitle('Important Features that Impacts Ore Quality During 2017\\n Measurements of Context Features', fontsize=22)\n",
    "\n",
    "plt.tight_layout(pad=1.08, h_pad=.8, w_pad=.5, rect=[0, 0.03, 1, 0.95])\n",
    "plt.savefig(f\"Plot Impacta Features\", dpi=300)\n",
    "plt.show()"
   ]
  },
  {
   "cell_type": "code",
   "execution_count": null,
   "id": "db051d34-2a86-46bd-a9ea-bb30050ebe1e",
   "metadata": {},
   "outputs": [],
   "source": [
    "fig, axes = plt.subplots(nrows=2, ncols=3, figsize=(20, 10))\n",
    "\n",
    "for idx, col in enumerate(df.columns[2:7]):\n",
    "    try:\n",
    "        ax = plt.subplot(2,3, (idx+1))\n",
    "        ax.plot(df[col], label='Signal')\n",
    "        ax.plot(df[col].rolling(int(3*60*24)).mean(), color='orange', label='Filtered')\n",
    "        ax.xaxis.set_major_locator(mdates.MonthLocator())\n",
    "        ax.xaxis.set_major_formatter(mdates.DateFormatter('%Y-%m'))\n",
    "        ax.set_ylabel(f\"{col} ({UM[col]})\", fontdict={'fontsize':14})\n",
    "        ax.set_title(f'{col}', fontdict={'fontsize':16})\n",
    "        ax.legend(loc='upper left', fontsize=12)\n",
    "    except:\n",
    "        pass\n",
    "fig.delaxes(axes[1][-1])\n",
    "plt.suptitle('Important Features that Impacts Ore Quality During 2017\\n Measurements of Context Features', fontsize=22)\n",
    "\n",
    "plt.tight_layout(pad=1.08, h_pad=.8, w_pad=.5, rect=[0, 0.03, 1, 0.95])\n",
    "plt.savefig(f\"Plot Impacta Features\", dpi=300)\n",
    "plt.show()"
   ]
  },
  {
   "cell_type": "code",
   "execution_count": null,
   "id": "656f44c3-6b8b-4686-95f4-0be761d29157",
   "metadata": {
    "tags": []
   },
   "outputs": [],
   "source": [
    "fig, axes = plt.subplots(nrows=2, ncols=3, figsize=(20, 10))\n",
    "\n",
    "for idx, col in enumerate(df.columns[2:7]):\n",
    "    try:\n",
    "        hist = df['2017-07-01':'2017-07-31'][col].values\n",
    "        ax = plt.subplot(2,3, (idx+1))\n",
    "        n, bins, patches = ax.hist(hist, weights=np.ones(len(hist)) / len(hist),\n",
    "                               bins=150, label=col)\n",
    "        ax.tick_params(axis='both', labelsize=14)\n",
    "        ax.yaxis.set_major_formatter(PercentFormatter(1))\n",
    "        ax.set_xlabel(f\"{col} ({UM[col]})\", fontdict={'fontsize':14})\n",
    "        ax.set_title(f'{col}', fontdict={'fontsize':16})\n",
    "        ax.legend(loc='upper left', fontsize=12)\n",
    "    except:\n",
    "        pass\n",
    "fig.delaxes(axes[1][-1])\n",
    "plt.suptitle('Important Features that Impacts Ore Quality During Jul/2017\\n Measurements of Context Features', fontsize=22)\n",
    "plt.tight_layout(pad=1.08, h_pad=.8, w_pad=.5, rect=[0, 0.03, 1, 0.95])\n",
    "plt.savefig(f\"Hist Impacta Features Jul-17\", dpi=300)\n",
    "plt.show()"
   ]
  },
  {
   "cell_type": "code",
   "execution_count": null,
   "id": "78e99139-22aa-49fb-9eaf-bc381e94a72f",
   "metadata": {
    "tags": []
   },
   "outputs": [],
   "source": [
    "fig, axes = plt.subplots(nrows=2, ncols=3, figsize=(20, 10))\n",
    "\n",
    "for idx, col in enumerate(df.columns[2:7]):\n",
    "    try:\n",
    "        ax = plt.subplot(2,3, (idx+1))\n",
    "        ax.plot(df['2017-07-01':'2017-07-01'][col], label='Signal')\n",
    "        ax.plot(df['2017-07-01':'2017-07-01'][col].rolling(int(3*60)).mean(), color='orange', label='Filtered')\n",
    "        ax.xaxis.set_major_locator(mdates.WeekdayLocator())\n",
    "        ax.xaxis.set_major_formatter(mdates.DateFormatter('%Y-%m-%d'))\n",
    "        ax.set_ylabel(f\"{col} ({UM[col]})\", fontdict={'fontsize':14})\n",
    "        ax.set_title(f'{col}', fontdict={'fontsize':16})\n",
    "        ax.legend(loc='upper left', fontsize=12)\n",
    "    except:\n",
    "        pass\n",
    "fig.delaxes(axes[1][-1])\n",
    "plt.suptitle('Important Features that Impacts Ore Quality During Jul/2017\\n Measurements of Context Features', fontsize=22)\n",
    "\n",
    "plt.tight_layout(pad=1.08, h_pad=.8, w_pad=.5, rect=[0, 0.03, 1, 0.95])\n",
    "plt.savefig(f\"Plot Impacta Features Begin of Jul-17\", dpi=300)\n",
    "plt.show()"
   ]
  },
  {
   "cell_type": "code",
   "execution_count": null,
   "id": "b1d964be-591d-47a5-b334-cdaaf7b7db78",
   "metadata": {
    "tags": []
   },
   "outputs": [],
   "source": [
    "fig, axes = plt.subplots(nrows=5, ncols=3, figsize=(30, 15))\n",
    "\n",
    "for idx, col in enumerate([\n",
    "        'Flotation Column 01 Air Flow', 'Flotation Column 02 Air Flow',\n",
    "       'Flotation Column 03 Air Flow', 'Flotation Column 04 Air Flow',\n",
    "       'Flotation Column 05 Air Flow', 'Flotation Column 06 Air Flow',\n",
    "       'Flotation Column 07 Air Flow', 'Flotation Column 01 Level',\n",
    "       'Flotation Column 02 Level', 'Flotation Column 03 Level',\n",
    "       'Flotation Column 04 Level', 'Flotation Column 05 Level',\n",
    "       'Flotation Column 06 Level', 'Flotation Column 07 Level']\n",
    "        ):\n",
    "    try:\n",
    "        ax = plt.subplot(5,3, (idx+1))\n",
    "        ax.plot(df[col], label='Signal')\n",
    "        ax.plot(df[col].resample('1h').mean(), color='orange', label='Filtered')\n",
    "        ax.xaxis.set_major_locator(mdates.MonthLocator())\n",
    "        ax.xaxis.set_major_formatter(mdates.DateFormatter('%Y-%m'))\n",
    "        ax.set_ylabel(f\"{UM[col]}\", fontdict={'fontsize':12})\n",
    "        ax.set_title(f'{col}', fontdict={'fontsize':16})\n",
    "        ax.legend(loc='upper left', fontsize=12)\n",
    "    except:\n",
    "        pass\n",
    "fig.delaxes(axes[-1][-1])\n",
    "plt.suptitle('Important Features that Impacts Ore Quality During 2017\\n Measurements of Context Features', fontsize=22)\n",
    "\n",
    "plt.tight_layout(pad=1.08, h_pad=.8, w_pad=.9, rect=[0, 0.03, 1, 0.95])\n",
    "plt.savefig(f\"Plot Processes Features\", dpi=300)\n",
    "plt.show()"
   ]
  },
  {
   "cell_type": "code",
   "execution_count": null,
   "id": "e9746dd3-9f26-45bf-8196-c557c00dfdd4",
   "metadata": {
    "tags": []
   },
   "outputs": [],
   "source": [
    "fig, axes = plt.subplots(nrows=5, ncols=3, figsize=(30, 15))\n",
    "\n",
    "for idx, col in enumerate([\n",
    "        'Flotation Column 01 Air Flow', 'Flotation Column 02 Air Flow',\n",
    "       'Flotation Column 03 Air Flow', 'Flotation Column 04 Air Flow',\n",
    "       'Flotation Column 05 Air Flow', 'Flotation Column 06 Air Flow',\n",
    "       'Flotation Column 07 Air Flow', 'Flotation Column 01 Level',\n",
    "       'Flotation Column 02 Level', 'Flotation Column 03 Level',\n",
    "       'Flotation Column 04 Level', 'Flotation Column 05 Level',\n",
    "       'Flotation Column 06 Level', 'Flotation Column 07 Level']\n",
    "        ):\n",
    "    try:\n",
    "        ax = plt.subplot(5,3, (idx+1))\n",
    "        hist = df['2017-07-01':'2017-07-31'][col].values\n",
    "        n, bins, patches = ax.hist(hist, weights=np.ones(len(hist)) / len(hist),\n",
    "                               bins=150, label=col)\n",
    "        ax.tick_params(axis='both', labelsize=14)\n",
    "        ax.yaxis.set_major_formatter(PercentFormatter(1))\n",
    "        ax.set_xlabel(f\"{col} ({UM[col]})\", fontdict={'fontsize':14})\n",
    "        ax.set_title(f'{col}', fontdict={'fontsize':16})\n",
    "        ax.legend(loc='upper left', fontsize=12)\n",
    "    except:\n",
    "        pass\n",
    "fig.delaxes(axes[-1][-1])\n",
    "plt.suptitle('Important Features that Impacts Ore Quality During 2017\\n Measurements of Context Features', fontsize=22)\n",
    "\n",
    "plt.tight_layout(pad=1.08, h_pad=.8, w_pad=.9, rect=[0, 0.03, 1, 0.95])\n",
    "plt.savefig(f\"Hist Processes Features\", dpi=300)\n",
    "plt.show()"
   ]
  },
  {
   "cell_type": "code",
   "execution_count": null,
   "id": "a1619cb2-0b0b-4ef5-89c5-bd8b91bf8c79",
   "metadata": {
    "tags": []
   },
   "outputs": [],
   "source": [
    "fig, axes = plt.subplots(nrows=3, ncols=3, figsize=(30, 15))\n",
    "\n",
    "for idx, col in enumerate([\n",
    "        'Flotation Column 01 Air Flow', 'Flotation Column 02 Air Flow',\n",
    "       'Flotation Column 03 Air Flow', 'Flotation Column 04 Air Flow',\n",
    "       'Flotation Column 05 Air Flow', 'Flotation Column 06 Air Flow',\n",
    "       'Flotation Column 07 Air Flow']\n",
    "        ):\n",
    "    try:\n",
    "        ax = plt.subplot(3,3, (idx+1))\n",
    "        hist = df['2017-07-01':'2017-07-31'].loc[(df[col]>275) & (df[col]<325)]['% Silica Concentrate'].values\n",
    "        n, bins, patches = ax.hist(hist, weights=np.ones(len(hist)) / len(hist),\n",
    "                               bins=150, label=col)\n",
    "        ax.tick_params(axis='both', labelsize=14)\n",
    "        ax.yaxis.set_major_formatter(PercentFormatter(1))\n",
    "        ax.set_xlabel(f\"{col} ({UM[col]})\", fontdict={'fontsize':14})\n",
    "        ax.set_title(f'{col}', fontdict={'fontsize':16})\n",
    "        ax.legend(loc='upper left', fontsize=12)\n",
    "    except:\n",
    "        pass\n",
    "fig.delaxes(axes[-1][-1])\n",
    "fig.delaxes(axes[-1][-2])\n",
    "plt.suptitle('Important Features that Impacts Ore Quality During 2017\\n Filtering Columns Flow at 300 Nm3 per hour', fontsize=22)\n",
    "\n",
    "plt.tight_layout(pad=1.08, h_pad=.8, w_pad=.9, rect=[0, 0.03, 1, 0.95])\n",
    "plt.savefig(f\"Hist Processes Features Filtered Column 300 nm3_h\", dpi=300)\n",
    "plt.show()"
   ]
  },
  {
   "cell_type": "code",
   "execution_count": null,
   "id": "7007263f-3bd1-4a8b-a2d6-fc53adb93ab2",
   "metadata": {
    "tags": []
   },
   "outputs": [],
   "source": [
    "fig, ax = plt.subplots(nrows=1, ncols=1, figsize=(10, 7))\n",
    "hist = df.loc[(df['Flotation Column 01 Air Flow']>275) & (df['Flotation Column 01 Air Flow']<325)]['% Silica Concentrate'].values\n",
    "n, bins, patches = ax.hist(hist, weights=np.ones(len(hist)) / len(hist),\n",
    "                       bins=150, label='% Silica')\n",
    "ax.tick_params(axis='both', labelsize=14)\n",
    "ax.yaxis.set_major_formatter(PercentFormatter(1))\n",
    "ax.set_xlabel(f\"%\", fontdict={'fontsize':14})\n",
    "ax.set_title('% Silica When Column 1 Air Flow is 300 Nm3/h', fontdict={'fontsize':16})\n",
    "ax.legend(loc='upper left', fontsize=12)\n",
    "\n",
    "# df.loc[(df['Flotation Column 01 Air Flow']>275) & (df['Flotation Column 01 Air Flow']<325)]['% Silica Concentrate'].values"
   ]
  },
  {
   "cell_type": "code",
   "execution_count": null,
   "id": "489c5265-9156-4e82-940d-fa17160d3e86",
   "metadata": {
    "tags": []
   },
   "outputs": [],
   "source": [
    "fig, axes = plt.subplots(nrows=5, ncols=3, figsize=(30, 15))\n",
    "\n",
    "for idx, col in enumerate([\n",
    "        'Flotation Column 01 Air Flow', 'Flotation Column 02 Air Flow',\n",
    "       'Flotation Column 03 Air Flow', 'Flotation Column 04 Air Flow',\n",
    "       'Flotation Column 05 Air Flow', 'Flotation Column 06 Air Flow',\n",
    "       'Flotation Column 07 Air Flow', 'Flotation Column 01 Level',\n",
    "       'Flotation Column 02 Level', 'Flotation Column 03 Level',\n",
    "       'Flotation Column 04 Level', 'Flotation Column 05 Level',\n",
    "       'Flotation Column 06 Level', 'Flotation Column 07 Level']\n",
    "        ):\n",
    "    try:\n",
    "        ax = plt.subplot(5,3, (idx+1))\n",
    "        ax.plot(df['2017-07-01':'2017-07-31'][col], label='Signal')\n",
    "        ax.plot(df['2017-07-01':'2017-07-31'][col].resample('1h').mean(), color='orange', label='Filtered')\n",
    "        ax.xaxis.set_major_locator(mdates.WeekdayLocator())\n",
    "        ax.xaxis.set_major_formatter(mdates.DateFormatter('%Y-%m-%d'))\n",
    "        ax.set_ylabel(f\"{UM[col]}\", fontdict={'fontsize':12})\n",
    "        ax.set_title(f'{col}', fontdict={'fontsize':16})\n",
    "        ax.legend(loc='upper left', fontsize=12)\n",
    "    except:\n",
    "        pass\n",
    "fig.delaxes(axes[-1][-1])\n",
    "plt.suptitle('Important Features that Impacts Ore Quality During Jul/2017\\n Measurements of Context Features', fontsize=22)\n",
    "\n",
    "plt.tight_layout(pad=1.08, h_pad=.8, w_pad=.9, rect=[0, 0.03, 1, 0.95])\n",
    "plt.savefig(f\"Plot Processes Features Jul-17\", dpi=300)\n",
    "plt.show()"
   ]
  },
  {
   "cell_type": "code",
   "execution_count": null,
   "id": "8baeb224-6461-4e99-a273-f74ba590dc57",
   "metadata": {
    "tags": []
   },
   "outputs": [],
   "source": [
    "fig, axes = plt.subplots(nrows=5, ncols=3, figsize=(30, 15))\n",
    "\n",
    "for idx, col in enumerate([\n",
    "        'Flotation Column 01 Air Flow', 'Flotation Column 02 Air Flow',\n",
    "       'Flotation Column 03 Air Flow', 'Flotation Column 04 Air Flow',\n",
    "       'Flotation Column 05 Air Flow', 'Flotation Column 06 Air Flow',\n",
    "       'Flotation Column 07 Air Flow', 'Flotation Column 01 Level',\n",
    "       'Flotation Column 02 Level', 'Flotation Column 03 Level',\n",
    "       'Flotation Column 04 Level', 'Flotation Column 05 Level',\n",
    "       'Flotation Column 06 Level', 'Flotation Column 07 Level']\n",
    "        ):\n",
    "    try:\n",
    "        ax = plt.subplot(5,3, (idx+1))\n",
    "        ax.plot(df['2017-07-01':'2017-07-01'][col], label='Signal')\n",
    "        ax.plot(df['2017-07-01':'2017-07-01'][col].resample('1h').mean(), color='orange', label='Filtered')\n",
    "        ax.xaxis.set_major_locator(mdates.DayLocator())\n",
    "        ax.xaxis.set_major_formatter(mdates.DateFormatter('%Y-%m-%d'))\n",
    "        ax.set_ylabel(f\"{UM[col]}\", fontdict={'fontsize':12})\n",
    "        ax.set_title(f'{col}', fontdict={'fontsize':16})\n",
    "        ax.legend(loc='upper left', fontsize=12)\n",
    "    except:\n",
    "        pass\n",
    "fig.delaxes(axes[-1][-1])\n",
    "plt.suptitle('Important Features that Impacts Ore Quality During Jul/2017\\n Measurements of Context Features', fontsize=22)\n",
    "plt.tight_layout(pad=1.08, h_pad=.8, w_pad=.5, rect=[0, 0.03, 1, 0.95])\n",
    "plt.savefig(f\"Plot Processes Features Begin of Jul-17\", dpi=300)\n",
    "plt.show()"
   ]
  },
  {
   "cell_type": "code",
   "execution_count": null,
   "id": "1de510fc-f3de-43f3-95de-fb050b0d6521",
   "metadata": {
    "tags": []
   },
   "outputs": [],
   "source": [
    "fig, axes = plt.subplots(nrows=3, ncols=3, figsize=(30, 15))\n",
    "cols =['Flotation Column 01 Air Flow', 'Flotation Column 02 Air Flow',\n",
    "       'Flotation Column 03 Air Flow', 'Flotation Column 04 Air Flow',\n",
    "       'Flotation Column 05 Air Flow', 'Flotation Column 06 Air Flow',\n",
    "       'Flotation Column 07 Air Flow', 'Flotation Column 01 Level',\n",
    "       'Flotation Column 02 Level', 'Flotation Column 03 Level',\n",
    "       'Flotation Column 04 Level', 'Flotation Column 05 Level',\n",
    "       'Flotation Column 06 Level', 'Flotation Column 07 Level']\n",
    "\n",
    "for idx, sub in enumerate([\"0\"+str(i) for i in range(1,8)]):\n",
    "    cols_ = [s for s in cols if sub in s]\n",
    "    color_dict = dict(zip(cols_,['blue','orange']))\n",
    "    alpha_dict = dict(zip(cols_,[.3,1]))\n",
    "    \n",
    "    \n",
    "    for idx_, col in enumerate(cols_):\n",
    "        \n",
    "        ax = plt.subplot(3,3, (idx+1))\n",
    "        ax.set_title(f'{cols_[0]} & {cols_[1]}', fontdict={'fontsize':16})\n",
    "        ax.plot(df['2017-07-01':'2017-07-31'][col], label='Signal', color='blue', alpha=.3)\n",
    "        ax.plot(df['2017-07-01':'2017-07-31'][col].resample('1h').mean(), color='orange', label='Filtered')\n",
    "        ax.xaxis.set_major_locator(mdates.WeekdayLocator())\n",
    "        ax.xaxis.set_major_formatter(mdates.DateFormatter('%Y-%m-%d'))\n",
    "    \n",
    "    custom_legend=[]\n",
    "    for col in cols_:\n",
    "        custom_legend.append(Line2D([0], [0], color=color_dict[col], alpha=alpha_dict[col], lw=2))\n",
    "    ax.legend(custom_legend, ['Signal','Filtered'], loc='upper left', fontsize=12)\n",
    "fig.delaxes(axes[-1][-1])\n",
    "fig.delaxes(axes[-1][-2])\n",
    "plt.suptitle('Important Features that Impacts Ore Quality During Jul/2017\\n Measurements of Context Features', fontsize=22)\n",
    "plt.tight_layout(pad=1.08, h_pad=.8, w_pad=.5, rect=[0, 0.03, 1, 0.95])\n",
    "plt.show()"
   ]
  },
  {
   "cell_type": "code",
   "execution_count": null,
   "id": "c5edd9bb-073f-436d-96da-19ffd13ddac3",
   "metadata": {
    "tags": []
   },
   "outputs": [],
   "source": [
    "fig, axes = plt.subplots(nrows=3, ncols=3, figsize=(30, 15))\n",
    "cols =['Flotation Column 01 Air Flow', 'Flotation Column 02 Air Flow',\n",
    "       'Flotation Column 03 Air Flow', 'Flotation Column 04 Air Flow',\n",
    "       'Flotation Column 05 Air Flow', 'Flotation Column 06 Air Flow',\n",
    "       'Flotation Column 07 Air Flow', 'Flotation Column 01 Level',\n",
    "       'Flotation Column 02 Level', 'Flotation Column 03 Level',\n",
    "       'Flotation Column 04 Level', 'Flotation Column 05 Level',\n",
    "       'Flotation Column 06 Level', 'Flotation Column 07 Level']\n",
    "\n",
    "for idx, sub in enumerate([\"0\"+str(i) for i in range(1,8)]):\n",
    "    cols_ = [s for s in cols if sub in s]\n",
    "    color_dict = dict(zip(cols_,['blue','orange']))\n",
    "    alpha_dict = dict(zip(cols_,[.3,1]))\n",
    "    \n",
    "    \n",
    "    for idx_, col in enumerate(cols_):\n",
    "        \n",
    "        ax = plt.subplot(3,3, (idx+1))\n",
    "        ax.set_title(f'{cols_[0]} & {cols_[1]}', fontdict={'fontsize':16})\n",
    "        ax.plot(df['2017-07-22':'2017-07-26'][col], label='Signal', color='blue', alpha=.3)\n",
    "        ax.plot(df['2017-07-22':'2017-07-26'][col].resample('1h').mean(), color='orange', label='Filtered')\n",
    "        ax.xaxis.set_major_locator(mdates.DayLocator())\n",
    "        ax.xaxis.set_major_formatter(mdates.DateFormatter('%Y-%m-%d'))\n",
    "    \n",
    "    custom_legend=[]\n",
    "    for col in cols_:\n",
    "        custom_legend.append(Line2D([0], [0], color=color_dict[col], alpha=alpha_dict[col], lw=2))\n",
    "    ax.legend(custom_legend, ['Signal','Filtered'], loc='upper left', fontsize=12)\n",
    "fig.delaxes(axes[-1][-1])\n",
    "fig.delaxes(axes[-1][-2])\n",
    "plt.suptitle('Important Features that Impacts Ore Quality During Jul/2017\\n Measurements of Context Features', fontsize=22)\n",
    "plt.tight_layout(pad=1.08, h_pad=.8, w_pad=.5, rect=[0, 0.03, 1, 0.95])\n",
    "plt.show()"
   ]
  },
  {
   "cell_type": "code",
   "execution_count": null,
   "id": "697ab6c1-b30b-415f-b4b5-dab90325814f",
   "metadata": {
    "tags": []
   },
   "outputs": [],
   "source": [
    "fig, axes = plt.subplots(nrows=3, ncols=3, figsize=(30, 15))\n",
    "cols =['Flotation Column 01 Air Flow', 'Flotation Column 02 Air Flow',\n",
    "       'Flotation Column 03 Air Flow', 'Flotation Column 04 Air Flow',\n",
    "       'Flotation Column 05 Air Flow', 'Flotation Column 06 Air Flow',\n",
    "       'Flotation Column 07 Air Flow', 'Flotation Column 01 Level',\n",
    "       'Flotation Column 02 Level', 'Flotation Column 03 Level',\n",
    "       'Flotation Column 04 Level', 'Flotation Column 05 Level',\n",
    "       'Flotation Column 06 Level', 'Flotation Column 07 Level']\n",
    "\n",
    "for idx, sub in enumerate([\"0\"+str(i) for i in range(1,8)]):\n",
    "    cols_ = [s for s in cols if sub in s]\n",
    "    color_dict = dict(zip(cols_,['blue','orange']))\n",
    "    alpha_dict = dict(zip(cols_,[.3,1]))\n",
    "    \n",
    "    \n",
    "    for idx_, col in enumerate(cols_):\n",
    "        \n",
    "        ax = plt.subplot(3,3, (idx+1))\n",
    "        ax.set_title(f'{cols_[0]} & {cols_[1]}', fontdict={'fontsize':16})\n",
    "        ax.plot(df['2017-07-22':'2017-07-24'][col], label='Signal', color='blue', alpha=.3)\n",
    "        ax.plot(df['2017-07-22':'2017-07-24'][col].resample('1h').mean(), color='orange', label='Filtered')\n",
    "        ax.xaxis.set_major_locator(mdates.DayLocator())\n",
    "        ax.xaxis.set_major_formatter(mdates.DateFormatter('%Y-%m-%d'))\n",
    "    \n",
    "    custom_legend=[]\n",
    "    for col in cols_:\n",
    "        custom_legend.append(Line2D([0], [0], color=color_dict[col], alpha=alpha_dict[col], lw=2))\n",
    "    ax.legend(custom_legend, ['Signal','Filtered'], loc='upper left', fontsize=12)\n",
    "fig.delaxes(axes[-1][-1])\n",
    "fig.delaxes(axes[-1][-2])\n",
    "plt.suptitle('Important Features that Impacts Ore Quality During Jul/2017\\n Measurements of Context Features', fontsize=22)\n",
    "plt.tight_layout(pad=1.08, h_pad=.8, w_pad=.5, rect=[0, 0.03, 1, 0.95])\n",
    "plt.show()"
   ]
  },
  {
   "cell_type": "code",
   "execution_count": null,
   "id": "d99bd66f-fc3c-40ac-abd2-5baecf3f214c",
   "metadata": {
    "tags": []
   },
   "outputs": [],
   "source": [
    "fig, axes = plt.subplots(nrows=1, ncols=2, figsize=(20, 5))\n",
    "\n",
    "for idx, col in enumerate(['% Iron Concentrate', '% Silica Concentrate']):\n",
    "    try:\n",
    "        ax = plt.subplot(1,2, (idx+1))\n",
    "        ax.plot(df[col], label='Signal')\n",
    "        ax.plot(df[col].resample('1d').mean(), color='orange', label='Filtered')\n",
    "        ax.xaxis.set_major_locator(mdates.MonthLocator())\n",
    "        ax.xaxis.set_major_formatter(mdates.DateFormatter('%Y-%m'))\n",
    "        ax.set_ylabel(f\"{UM[col]}\", fontdict={'fontsize':12})\n",
    "        ax.set_title(f'{col}', fontdict={'fontsize':16})\n",
    "        \n",
    "    except:\n",
    "        pass\n",
    "    \n",
    "plt.suptitle('Target Features During 2017\\nQuality Measurements of Iron Pulp before fed into Flotation Plant', fontsize=22)\n",
    "plt.tight_layout(pad=1.08, h_pad=.8, w_pad=.5, rect=[0, 0.03, 1, 0.95])\n",
    "plt.savefig(f\"Plot Output Features\", dpi=300)\n",
    "plt.show()"
   ]
  },
  {
   "cell_type": "code",
   "execution_count": null,
   "id": "5531463c-d107-48a1-8b1c-ad6fa290b3fb",
   "metadata": {
    "tags": []
   },
   "outputs": [],
   "source": [
    "fig, axes = plt.subplots(nrows=1, ncols=2, figsize=(20, 5))\n",
    "\n",
    "for idx, col in enumerate(['% Iron Concentrate', '% Silica Concentrate']):\n",
    "    try:\n",
    "        ax = plt.subplot(1,2, (idx+1))\n",
    "        ax.plot(df['2017-07-01':'2017-07-03'][col], label='Signal')\n",
    "        # ax.plot(df['2017-07-01':'2017-07-31'][col].resample('1d').mean(), color='orange', label='Filtered')\n",
    "        ax.xaxis.set_major_locator(mdates.DayLocator())\n",
    "        ax.xaxis.set_major_formatter(mdates.DateFormatter('%Y-%m-%d'))\n",
    "        ax.set_ylabel(f\"{UM[col]}\", fontdict={'fontsize':12})\n",
    "        ax.set_title(f'{col}', fontdict={'fontsize':16})\n",
    "        \n",
    "    except:\n",
    "        pass\n",
    "    \n",
    "plt.suptitle('Target Features During Jul/2017\\nQuality Measurements of Iron Pulp before fed into Flotation Plant', fontsize=22)\n",
    "plt.tight_layout(pad=1.08, h_pad=.8, w_pad=.5, rect=[0, 0.03, 1, 0.95])\n",
    "plt.savefig(f\"Plot Output Features Jul-17\", dpi=300)\n",
    "plt.show()"
   ]
  },
  {
   "cell_type": "markdown",
   "id": "dc6060c1-b22d-4e62-862d-373ed2a1a46f",
   "metadata": {},
   "source": [
    "## Outlier Removal"
   ]
  },
  {
   "cell_type": "code",
   "execution_count": null,
   "id": "886a7c0e-708b-4913-b6a4-d1f91b0144c3",
   "metadata": {
    "tags": []
   },
   "outputs": [],
   "source": [
    "tx_transformed.columns"
   ]
  },
  {
   "cell_type": "code",
   "execution_count": null,
   "id": "abdca2da-f5b9-4345-8e8a-3ba3b70a4b4a",
   "metadata": {
    "tags": []
   },
   "outputs": [],
   "source": [
    "from sklearn.neighbors import LocalOutlierFactor\n",
    "\n",
    "\n",
    "X = tx_transformed.select_dtypes(include='number').drop('% Silica Concentrate_lag_-180', axis=1)\n",
    "y = tx_transformed['% Silica Concentrate_lag_-180']\n",
    "# X_train, X_test, y_train, y_test = train_test_split(X, y, test_size=.2, random_state=42)\n",
    "\n",
    "X_train = X[:\"2017-08\"]\n",
    "X_test  = X[\"2017-08\":]\n",
    "y_train = y[:\"2017-08\"]\n",
    "y_test  = y[\"2017-08\":]\n",
    "\n",
    "lof = LocalOutlierFactor(n_neighbors=20, novelty=True, contamination=0.1)\n",
    "lof.fit(X_train)\n",
    "\n",
    "y_pred_test = lof.predict(X_test)\n",
    "outliers = y_pred_test[y_pred_test == -1].size"
   ]
  },
  {
   "cell_type": "code",
   "execution_count": null,
   "id": "db1fca0c-62fb-4a86-8127-c719ec481302",
   "metadata": {
    "tags": []
   },
   "outputs": [],
   "source": [
    "out_df = pd.DataFrame(tx_transformed.loc[X_test.index][['% Silica Concentrate_lag_-180','% Iron Concentrate_lag_0']])\n",
    "out_df['Outlier'] = y_pred_test\n",
    "out_df"
   ]
  },
  {
   "cell_type": "code",
   "execution_count": null,
   "id": "6d1e261d-2e8b-4601-b3cb-482dd4b6750b",
   "metadata": {
    "tags": []
   },
   "outputs": [],
   "source": [
    "var1 = '% Silica Concentrate_lag_-180'\n",
    "var2 = '% Iron Concentrate_lag_0'\n",
    "ncols, nrows = 1, 1\n",
    "fig, ax = plt.subplots(ncols=ncols, nrows=nrows, figsize=(12,6))\n",
    "fig.subplots_adjust(hspace=.5, wspace=.35)\n",
    "# ax.set_title(title, fontsize=20)\n",
    "\n",
    "ax.scatter(out_df.loc[out_df['Outlier']==1][var1], out_df.loc[out_df['Outlier']==1][var2], color='b', label='Normal')\n",
    "ax.scatter(out_df.loc[out_df['Outlier']==-1][var1], out_df.loc[out_df['Outlier']==-1][var2], color='r', label='Outlier')\n",
    "# Plot settings\n",
    "ax.set_xlabel(f\"{var1} (%)\", fontsize=14)\n",
    "ax.set_ylabel(f\"{var2} (%)\", fontsize=14)\n",
    "ax.tick_params(axis='both', labelsize=14)\n",
    "\n",
    "ax.legend(loc='best', fontsize=12)\n",
    "# plt.savefig(title, dpi=300)\n",
    "plt.show()"
   ]
  },
  {
   "cell_type": "code",
   "execution_count": null,
   "id": "c083dcb4-6b19-4cf0-87e9-424844740efd",
   "metadata": {
    "tags": []
   },
   "outputs": [],
   "source": [
    "out_df['Outlier'].value_counts()"
   ]
  },
  {
   "cell_type": "code",
   "execution_count": null,
   "id": "eb02ae3d-dd18-4abd-948e-f7004aec75a4",
   "metadata": {
    "tags": []
   },
   "outputs": [],
   "source": [
    "fig, ax = plt.subplots(nrows=1, ncols=1, figsize=(20, 7))\n",
    "\n",
    "colors = {-1:'red', 1:'green'}\n",
    "ax.plot(out_df[var1], color='b', label='Normal')\n",
    "ax.scatter(out_df.index, out_df[var1], c=out_df['Outlier'].map(colors), label='Outlier')\n",
    "ax.xaxis.set_major_locator(mdates.WeekdayLocator())\n",
    "ax.xaxis.set_major_formatter(mdates.DateFormatter('%Y-%m-%d'))\n",
    "ax.set_ylabel(f\"{var1}\", fontdict={'fontsize':12})\n",
    "ax.set_title(f'Outliers Detection', fontdict={'fontsize':16})\n",
    "plt.show()"
   ]
  },
  {
   "cell_type": "code",
   "execution_count": null,
   "id": "3a2630d4-ffdb-4060-aa50-3c21b2f8cd20",
   "metadata": {
    "tags": []
   },
   "outputs": [],
   "source": [
    "Q1 = tx_transformed['% Silica Concentrate_lag_-180'].quantile(0.25)\n",
    "Q3 = tx_transformed['% Silica Concentrate_lag_-180'].quantile(0.75)\n",
    "IQR = Q3-Q1\n",
    "df_final = tx_transformed[~((tx_transformed['% Silica Concentrate_lag_-180']<(Q1-1.5*IQR)) | (tx_transformed['% Silica Concentrate_lag_-180']>(Q3+1.5*IQR)))]\n",
    "\n",
    "100- len(df_final)/len(tx_transformed)*1e2"
   ]
  },
  {
   "cell_type": "markdown",
   "id": "46020687-26a8-4a7d-af13-1330cafa4a0c",
   "metadata": {
    "tags": []
   },
   "source": [
    "## Feature Selection"
   ]
  },
  {
   "cell_type": "code",
   "execution_count": null,
   "id": "840a3b21-2fa6-4d2d-9ec6-2f00c4983972",
   "metadata": {
    "tags": []
   },
   "outputs": [],
   "source": [
    "resample_dict = dict(zip(df_transformed.select_dtypes(include='number').columns.tolist(), ['mean']*(len(df_transformed)-2)))\n",
    "resample_dict.update(zip(df_transformed.select_dtypes(exclude='number').columns.tolist(), ['first','first']))\n",
    "tx_transformed = df_transformed.groupby([pd.Grouper(freq='h')]).agg(resample_dict).dropna()"
   ]
  },
  {
   "cell_type": "code",
   "execution_count": null,
   "id": "466cd083-4ea0-4332-a7da-a83aed8a8c6a",
   "metadata": {
    "tags": []
   },
   "outputs": [],
   "source": [
    "tx_transformed.filter(regex='lag').columns.tolist()"
   ]
  },
  {
   "cell_type": "code",
   "execution_count": null,
   "id": "fdb48326-3747-4cdd-b70d-65c311ed8f78",
   "metadata": {
    "tags": []
   },
   "outputs": [],
   "source": [
    "from xgboost import XGBRegressor, plot_importance\n",
    "from sklearn.pipeline import Pipeline\n",
    "from sklearn.preprocessing import StandardScaler\n",
    "from sklearn.model_selection import cross_validate\n",
    "from sklearn.model_selection import train_test_split\n",
    "from sklearn.model_selection import KFold\n",
    "\n",
    "pipe = Pipeline([('scaler', StandardScaler()), ('importance', XGBRegressor(n_estimators=100))])\n",
    "\n",
    "folds = 25\n",
    "\n",
    "X = tx_transformed.select_dtypes(include='number').drop(tx_transformed.filter(regex='lag').columns.tolist(), axis=1).values\n",
    "y = tx_transformed['% Silica Concentrate_lag_-180'].values\n",
    "\n",
    "X_train, X_test, y_train, y_test = train_test_split(X, y, test_size=.2, random_state=42)\n",
    "cv = KFold(n_splits=10)\n",
    "\n",
    "scores = cross_validate(pipe, X_train, y_train, n_jobs=-1, scoring=['neg_mean_squared_error', 'neg_mean_absolute_percentage_error', 'neg_mean_absolute_error', 'r2'], cv=cv, return_train_score=True, return_estimator=True)\n",
    "\n",
    "# np.mean(scores*-1), np.std(scores*-1), np.size(scores)"
   ]
  },
  {
   "cell_type": "code",
   "execution_count": null,
   "id": "b96e22b1-c02a-4cfe-801d-4feaed45118d",
   "metadata": {
    "tags": []
   },
   "outputs": [],
   "source": [
    "test_scores = []\n",
    "features_importance_scores = []\n",
    "features_importance_labels = []\n",
    "for p in scores['estimator']:\n",
    "    test_scores.append(p[1].score(X_test, y_test))\n",
    "    features_importance_scores.append(p[1].feature_importances_)\n",
    "    features_importance_labels.append(p[1].feature_importances_.argsort())"
   ]
  },
  {
   "cell_type": "code",
   "execution_count": null,
   "id": "bdf1649a-bfc9-4d44-8ba5-729f9c488e40",
   "metadata": {
    "tags": []
   },
   "outputs": [],
   "source": [
    "feature_scores_dict = dict(zip([str(i) for i in list(features_importance_labels[0])], [[]]*len(features_importance_labels[0])))\n",
    "for run, score in zip(features_importance_labels, features_importance_scores):\n",
    "    for label, value in zip(run, score):\n",
    "        feature_scores_dict[str(label)] = feature_scores_dict[str(label)] + [value]"
   ]
  },
  {
   "cell_type": "code",
   "execution_count": null,
   "id": "265d8da2-5462-411e-8d77-7da8437335da",
   "metadata": {
    "tags": []
   },
   "outputs": [],
   "source": [
    "# pipe.fit(X_train, y_train)\n",
    "# sorted_idx = pipe.steps[1][1].feature_importances_.argsort()"
   ]
  },
  {
   "cell_type": "code",
   "execution_count": null,
   "id": "55dbcad7-e892-4c62-affb-81ef7ba32bd0",
   "metadata": {
    "tags": []
   },
   "outputs": [],
   "source": [
    "bars=[]\n",
    "values=[]\n",
    "errors=[]\n",
    "for feature_column in feature_scores_dict.keys():\n",
    "    bars.append(feature_column)\n",
    "    values.append(np.mean(feature_scores_dict[feature_column]))\n",
    "    errors.append(np.std(feature_scores_dict[feature_column]))"
   ]
  },
  {
   "cell_type": "code",
   "execution_count": null,
   "id": "f922b3e4-d96c-4922-be5c-15613c9f7724",
   "metadata": {
    "tags": []
   },
   "outputs": [],
   "source": [
    "ind = np.arange(len(bars))\n",
    "width = 0.65      \n",
    "fig, ax = plt.subplots(nrows=1, ncols=1, figsize=(20, 8))\n",
    "ax.bar(ind, values, width, yerr=errors, capsize=5)\n",
    "ax.set_ylabel('Scores',fontsize=18)\n",
    "ax.set_title('Feature Importance Using XGBoost', fontsize=22)\n",
    "ax.set_xticks(ind, tx_transformed.select_dtypes(include='number').drop(tx_transformed.filter(regex='lag').columns.tolist(), axis=1).columns[[int(x) for x in bars]], rotation=90, fontsize=18)\n",
    "plt.tight_layout(pad=1.08, h_pad=.8, w_pad=.5, rect=[0, 0.03, 1, 0.95])\n",
    "plt.savefig(f\"Feature Importance\", dpi=300)\n",
    "plt.show()"
   ]
  },
  {
   "cell_type": "code",
   "execution_count": null,
   "id": "569631ed-10e3-489a-ab56-59b97875c184",
   "metadata": {
    "tags": []
   },
   "outputs": [],
   "source": [
    "pipe.score(X_test, y_test)"
   ]
  },
  {
   "cell_type": "code",
   "execution_count": null,
   "id": "cef761c1-dcc3-4f09-83b3-b534901f6658",
   "metadata": {
    "tags": []
   },
   "outputs": [],
   "source": [
    "fig, ax = plt.subplots(nrows=1, ncols=1, figsize=(10, 6))\n",
    "\n",
    "ax.barh(tx_transformed.select_dtypes(include='number').columns[sorted_idx], pipe.steps[1][1].feature_importances_)\n",
    "ax.set_title(\"Feature Importance\\nPrediction Silica Concentrate at 1 Hour Lag - XGBoost Model\", fontsize=18)\n",
    "ax.set_xlabel('Gain Importance', fontsize=14)\n",
    "plt.show()"
   ]
  },
  {
   "cell_type": "code",
   "execution_count": null,
   "id": "22e142b0-dc69-47d5-b69a-4e25f4d3838c",
   "metadata": {
    "tags": []
   },
   "outputs": [],
   "source": [
    "tx_transformed"
   ]
  },
  {
   "cell_type": "code",
   "execution_count": null,
   "id": "d845a30a",
   "metadata": {},
   "outputs": [],
   "source": [
    "run.finish()"
   ]
  },
  {
   "cell_type": "code",
   "execution_count": null,
   "id": "0e99709f-4f17-4abe-bb6f-9deefdb9069b",
   "metadata": {},
   "outputs": [],
   "source": []
  }
 ],
 "metadata": {
  "kernelspec": {
   "display_name": "Python 3 (ipykernel)",
   "language": "python",
   "name": "python3"
  },
  "language_info": {
   "codemirror_mode": {
    "name": "ipython",
    "version": 3
   },
   "file_extension": ".py",
   "mimetype": "text/x-python",
   "name": "python",
   "nbconvert_exporter": "python",
   "pygments_lexer": "ipython3",
   "version": "3.8.16"
  }
 },
 "nbformat": 4,
 "nbformat_minor": 5
}
