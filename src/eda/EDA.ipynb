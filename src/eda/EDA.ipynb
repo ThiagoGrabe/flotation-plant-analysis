{
 "cells": [
  {
   "cell_type": "code",
   "execution_count": 1,
   "id": "c959bec5",
   "metadata": {},
   "outputs": [
    {
     "name": "stderr",
     "output_type": "stream",
     "text": [
      "\u001b[34m\u001b[1mwandb\u001b[0m: Currently logged in as: \u001b[33mgrabe\u001b[0m. Use \u001b[1m`wandb login --relogin`\u001b[0m to force relogin\n"
     ]
    },
    {
     "data": {
      "text/html": [
       "wandb version 0.14.2 is available!  To upgrade, please run:\n",
       " $ pip install wandb --upgrade"
      ],
      "text/plain": [
       "<IPython.core.display.HTML object>"
      ]
     },
     "metadata": {},
     "output_type": "display_data"
    },
    {
     "data": {
      "text/html": [
       "Tracking run with wandb version 0.13.9"
      ],
      "text/plain": [
       "<IPython.core.display.HTML object>"
      ]
     },
     "metadata": {},
     "output_type": "display_data"
    },
    {
     "data": {
      "text/html": [
       "Run data is saved locally in <code>/home/grabe/Documents/ihm/flotation-plant-analysis/src/eda/wandb/run-20230416_222354-il6mof3r</code>"
      ],
      "text/plain": [
       "<IPython.core.display.HTML object>"
      ]
     },
     "metadata": {},
     "output_type": "display_data"
    },
    {
     "data": {
      "text/html": [
       "Syncing run <strong><a href=\"https://wandb.ai/grabe/ihm/runs/il6mof3r\" target=\"_blank\">atomic-hill-3</a></strong> to <a href=\"https://wandb.ai/grabe/ihm\" target=\"_blank\">Weights & Biases</a> (<a href=\"https://wandb.me/run\" target=\"_blank\">docs</a>)<br/>"
      ],
      "text/plain": [
       "<IPython.core.display.HTML object>"
      ]
     },
     "metadata": {},
     "output_type": "display_data"
    },
    {
     "data": {
      "text/html": [
       " View project at <a href=\"https://wandb.ai/grabe/ihm\" target=\"_blank\">https://wandb.ai/grabe/ihm</a>"
      ],
      "text/plain": [
       "<IPython.core.display.HTML object>"
      ]
     },
     "metadata": {},
     "output_type": "display_data"
    },
    {
     "data": {
      "text/html": [
       " View run at <a href=\"https://wandb.ai/grabe/ihm/runs/il6mof3r\" target=\"_blank\">https://wandb.ai/grabe/ihm/runs/il6mof3r</a>"
      ],
      "text/plain": [
       "<IPython.core.display.HTML object>"
      ]
     },
     "metadata": {},
     "output_type": "display_data"
    }
   ],
   "source": [
    "import wandb\n",
    "import pandas as pd\n",
    "\n",
    "run = wandb.init(project=\"ihm\", group=\"eda\", save_code=True)\n",
    "local_path = wandb.use_artifact(\"MiningProcess_Flotation_Plant_Database.csv:latest\").file()\n",
    "df = pd.read_csv(local_path)"
   ]
  },
  {
   "cell_type": "code",
   "execution_count": 3,
   "id": "1d829601",
   "metadata": {},
   "outputs": [
    {
     "name": "stdout",
     "output_type": "stream",
     "text": [
      "<class 'pandas.core.frame.DataFrame'>\n",
      "RangeIndex: 737453 entries, 0 to 737452\n",
      "Data columns (total 24 columns):\n",
      " #   Column                        Non-Null Count   Dtype \n",
      "---  ------                        --------------   ----- \n",
      " 0   date                          737453 non-null  object\n",
      " 1   % Iron Feed                   737453 non-null  object\n",
      " 2   % Silica Feed                 737453 non-null  object\n",
      " 3   Starch Flow                   737453 non-null  object\n",
      " 4   Amina Flow                    737453 non-null  object\n",
      " 5   Ore Pulp Flow                 737453 non-null  object\n",
      " 6   Ore Pulp pH                   737453 non-null  object\n",
      " 7   Ore Pulp Density              737453 non-null  object\n",
      " 8   Flotation Column 01 Air Flow  737453 non-null  object\n",
      " 9   Flotation Column 02 Air Flow  737453 non-null  object\n",
      " 10  Flotation Column 03 Air Flow  737453 non-null  object\n",
      " 11  Flotation Column 04 Air Flow  737453 non-null  object\n",
      " 12  Flotation Column 05 Air Flow  737453 non-null  object\n",
      " 13  Flotation Column 06 Air Flow  737453 non-null  object\n",
      " 14  Flotation Column 07 Air Flow  737453 non-null  object\n",
      " 15  Flotation Column 01 Level     737453 non-null  object\n",
      " 16  Flotation Column 02 Level     737453 non-null  object\n",
      " 17  Flotation Column 03 Level     737453 non-null  object\n",
      " 18  Flotation Column 04 Level     737453 non-null  object\n",
      " 19  Flotation Column 05 Level     737453 non-null  object\n",
      " 20  Flotation Column 06 Level     737453 non-null  object\n",
      " 21  Flotation Column 07 Level     737453 non-null  object\n",
      " 22  % Iron Concentrate            737453 non-null  object\n",
      " 23  % Silica Concentrate          737453 non-null  object\n",
      "dtypes: object(24)\n",
      "memory usage: 135.0+ MB\n"
     ]
    }
   ],
   "source": [
    "df.info()"
   ]
  },
  {
   "cell_type": "code",
   "execution_count": 4,
   "id": "8f4d7fb9",
   "metadata": {},
   "outputs": [
    {
     "data": {
      "text/html": [
       "<div>\n",
       "<style scoped>\n",
       "    .dataframe tbody tr th:only-of-type {\n",
       "        vertical-align: middle;\n",
       "    }\n",
       "\n",
       "    .dataframe tbody tr th {\n",
       "        vertical-align: top;\n",
       "    }\n",
       "\n",
       "    .dataframe thead th {\n",
       "        text-align: right;\n",
       "    }\n",
       "</style>\n",
       "<table border=\"1\" class=\"dataframe\">\n",
       "  <thead>\n",
       "    <tr style=\"text-align: right;\">\n",
       "      <th></th>\n",
       "      <th>date</th>\n",
       "      <th>% Iron Feed</th>\n",
       "      <th>% Silica Feed</th>\n",
       "      <th>Starch Flow</th>\n",
       "      <th>Amina Flow</th>\n",
       "      <th>Ore Pulp Flow</th>\n",
       "      <th>Ore Pulp pH</th>\n",
       "      <th>Ore Pulp Density</th>\n",
       "      <th>Flotation Column 01 Air Flow</th>\n",
       "      <th>Flotation Column 02 Air Flow</th>\n",
       "      <th>...</th>\n",
       "      <th>Flotation Column 07 Air Flow</th>\n",
       "      <th>Flotation Column 01 Level</th>\n",
       "      <th>Flotation Column 02 Level</th>\n",
       "      <th>Flotation Column 03 Level</th>\n",
       "      <th>Flotation Column 04 Level</th>\n",
       "      <th>Flotation Column 05 Level</th>\n",
       "      <th>Flotation Column 06 Level</th>\n",
       "      <th>Flotation Column 07 Level</th>\n",
       "      <th>% Iron Concentrate</th>\n",
       "      <th>% Silica Concentrate</th>\n",
       "    </tr>\n",
       "  </thead>\n",
       "  <tbody>\n",
       "    <tr>\n",
       "      <th>0</th>\n",
       "      <td>2017-03-10 01:00:00</td>\n",
       "      <td>55,2</td>\n",
       "      <td>16,98</td>\n",
       "      <td>3019,53</td>\n",
       "      <td>557,434</td>\n",
       "      <td>395,713</td>\n",
       "      <td>10,0664</td>\n",
       "      <td>1,74</td>\n",
       "      <td>249,214</td>\n",
       "      <td>253,235</td>\n",
       "      <td>...</td>\n",
       "      <td>250,884</td>\n",
       "      <td>457,396</td>\n",
       "      <td>432,962</td>\n",
       "      <td>424,954</td>\n",
       "      <td>443,558</td>\n",
       "      <td>502,255</td>\n",
       "      <td>446,37</td>\n",
       "      <td>523,344</td>\n",
       "      <td>66,91</td>\n",
       "      <td>1,31</td>\n",
       "    </tr>\n",
       "    <tr>\n",
       "      <th>1</th>\n",
       "      <td>2017-03-10 01:00:00</td>\n",
       "      <td>55,2</td>\n",
       "      <td>16,98</td>\n",
       "      <td>3024,41</td>\n",
       "      <td>563,965</td>\n",
       "      <td>397,383</td>\n",
       "      <td>10,0672</td>\n",
       "      <td>1,74</td>\n",
       "      <td>249,719</td>\n",
       "      <td>250,532</td>\n",
       "      <td>...</td>\n",
       "      <td>248,994</td>\n",
       "      <td>451,891</td>\n",
       "      <td>429,56</td>\n",
       "      <td>432,939</td>\n",
       "      <td>448,086</td>\n",
       "      <td>496,363</td>\n",
       "      <td>445,922</td>\n",
       "      <td>498,075</td>\n",
       "      <td>66,91</td>\n",
       "      <td>1,31</td>\n",
       "    </tr>\n",
       "    <tr>\n",
       "      <th>2</th>\n",
       "      <td>2017-03-10 01:00:00</td>\n",
       "      <td>55,2</td>\n",
       "      <td>16,98</td>\n",
       "      <td>3043,46</td>\n",
       "      <td>568,054</td>\n",
       "      <td>399,668</td>\n",
       "      <td>10,068</td>\n",
       "      <td>1,74</td>\n",
       "      <td>249,741</td>\n",
       "      <td>247,874</td>\n",
       "      <td>...</td>\n",
       "      <td>248,071</td>\n",
       "      <td>451,24</td>\n",
       "      <td>468,927</td>\n",
       "      <td>434,61</td>\n",
       "      <td>449,688</td>\n",
       "      <td>484,411</td>\n",
       "      <td>447,826</td>\n",
       "      <td>458,567</td>\n",
       "      <td>66,91</td>\n",
       "      <td>1,31</td>\n",
       "    </tr>\n",
       "    <tr>\n",
       "      <th>3</th>\n",
       "      <td>2017-03-10 01:00:00</td>\n",
       "      <td>55,2</td>\n",
       "      <td>16,98</td>\n",
       "      <td>3047,36</td>\n",
       "      <td>568,665</td>\n",
       "      <td>397,939</td>\n",
       "      <td>10,0689</td>\n",
       "      <td>1,74</td>\n",
       "      <td>249,917</td>\n",
       "      <td>254,487</td>\n",
       "      <td>...</td>\n",
       "      <td>251,147</td>\n",
       "      <td>452,441</td>\n",
       "      <td>458,165</td>\n",
       "      <td>442,865</td>\n",
       "      <td>446,21</td>\n",
       "      <td>471,411</td>\n",
       "      <td>437,69</td>\n",
       "      <td>427,669</td>\n",
       "      <td>66,91</td>\n",
       "      <td>1,31</td>\n",
       "    </tr>\n",
       "    <tr>\n",
       "      <th>4</th>\n",
       "      <td>2017-03-10 01:00:00</td>\n",
       "      <td>55,2</td>\n",
       "      <td>16,98</td>\n",
       "      <td>3033,69</td>\n",
       "      <td>558,167</td>\n",
       "      <td>400,254</td>\n",
       "      <td>10,0697</td>\n",
       "      <td>1,74</td>\n",
       "      <td>250,203</td>\n",
       "      <td>252,136</td>\n",
       "      <td>...</td>\n",
       "      <td>248,928</td>\n",
       "      <td>452,441</td>\n",
       "      <td>452,9</td>\n",
       "      <td>450,523</td>\n",
       "      <td>453,67</td>\n",
       "      <td>462,598</td>\n",
       "      <td>443,682</td>\n",
       "      <td>425,679</td>\n",
       "      <td>66,91</td>\n",
       "      <td>1,31</td>\n",
       "    </tr>\n",
       "  </tbody>\n",
       "</table>\n",
       "<p>5 rows × 24 columns</p>\n",
       "</div>"
      ],
      "text/plain": [
       "                  date % Iron Feed % Silica Feed Starch Flow Amina Flow   \n",
       "0  2017-03-10 01:00:00        55,2         16,98     3019,53    557,434  \\\n",
       "1  2017-03-10 01:00:00        55,2         16,98     3024,41    563,965   \n",
       "2  2017-03-10 01:00:00        55,2         16,98     3043,46    568,054   \n",
       "3  2017-03-10 01:00:00        55,2         16,98     3047,36    568,665   \n",
       "4  2017-03-10 01:00:00        55,2         16,98     3033,69    558,167   \n",
       "\n",
       "  Ore Pulp Flow Ore Pulp pH Ore Pulp Density Flotation Column 01 Air Flow   \n",
       "0       395,713     10,0664             1,74                      249,214  \\\n",
       "1       397,383     10,0672             1,74                      249,719   \n",
       "2       399,668      10,068             1,74                      249,741   \n",
       "3       397,939     10,0689             1,74                      249,917   \n",
       "4       400,254     10,0697             1,74                      250,203   \n",
       "\n",
       "  Flotation Column 02 Air Flow  ... Flotation Column 07 Air Flow   \n",
       "0                      253,235  ...                      250,884  \\\n",
       "1                      250,532  ...                      248,994   \n",
       "2                      247,874  ...                      248,071   \n",
       "3                      254,487  ...                      251,147   \n",
       "4                      252,136  ...                      248,928   \n",
       "\n",
       "  Flotation Column 01 Level Flotation Column 02 Level   \n",
       "0                   457,396                   432,962  \\\n",
       "1                   451,891                    429,56   \n",
       "2                    451,24                   468,927   \n",
       "3                   452,441                   458,165   \n",
       "4                   452,441                     452,9   \n",
       "\n",
       "  Flotation Column 03 Level Flotation Column 04 Level   \n",
       "0                   424,954                   443,558  \\\n",
       "1                   432,939                   448,086   \n",
       "2                    434,61                   449,688   \n",
       "3                   442,865                    446,21   \n",
       "4                   450,523                    453,67   \n",
       "\n",
       "  Flotation Column 05 Level Flotation Column 06 Level   \n",
       "0                   502,255                    446,37  \\\n",
       "1                   496,363                   445,922   \n",
       "2                   484,411                   447,826   \n",
       "3                   471,411                    437,69   \n",
       "4                   462,598                   443,682   \n",
       "\n",
       "  Flotation Column 07 Level % Iron Concentrate % Silica Concentrate  \n",
       "0                   523,344              66,91                 1,31  \n",
       "1                   498,075              66,91                 1,31  \n",
       "2                   458,567              66,91                 1,31  \n",
       "3                   427,669              66,91                 1,31  \n",
       "4                   425,679              66,91                 1,31  \n",
       "\n",
       "[5 rows x 24 columns]"
      ]
     },
     "execution_count": 4,
     "metadata": {},
     "output_type": "execute_result"
    }
   ],
   "source": [
    "df.head()"
   ]
  },
  {
   "cell_type": "code",
   "execution_count": 5,
   "id": "9cded96d",
   "metadata": {},
   "outputs": [
    {
     "data": {
      "text/html": [
       "Waiting for W&B process to finish... <strong style=\"color:green\">(success).</strong>"
      ],
      "text/plain": [
       "<IPython.core.display.HTML object>"
      ]
     },
     "metadata": {},
     "output_type": "display_data"
    },
    {
     "data": {
      "text/html": [
       " View run <strong style=\"color:#cdcd00\">atomic-hill-3</strong> at: <a href=\"https://wandb.ai/grabe/ihm/runs/il6mof3r\" target=\"_blank\">https://wandb.ai/grabe/ihm/runs/il6mof3r</a><br/>Synced 7 W&B file(s), 0 media file(s), 3 artifact file(s) and 1 other file(s)"
      ],
      "text/plain": [
       "<IPython.core.display.HTML object>"
      ]
     },
     "metadata": {},
     "output_type": "display_data"
    },
    {
     "data": {
      "text/html": [
       "Find logs at: <code>./wandb/run-20230416_222354-il6mof3r/logs</code>"
      ],
      "text/plain": [
       "<IPython.core.display.HTML object>"
      ]
     },
     "metadata": {},
     "output_type": "display_data"
    }
   ],
   "source": [
    "run.finish()"
   ]
  },
  {
   "cell_type": "code",
   "execution_count": null,
   "id": "d845a30a",
   "metadata": {},
   "outputs": [],
   "source": []
  }
 ],
 "metadata": {
  "kernelspec": {
   "display_name": "Python 3 (ipykernel)",
   "language": "python",
   "name": "python3"
  },
  "language_info": {
   "codemirror_mode": {
    "name": "ipython",
    "version": 3
   },
   "file_extension": ".py",
   "mimetype": "text/x-python",
   "name": "python",
   "nbconvert_exporter": "python",
   "pygments_lexer": "ipython3",
   "version": "3.8.16"
  }
 },
 "nbformat": 4,
 "nbformat_minor": 5
}
